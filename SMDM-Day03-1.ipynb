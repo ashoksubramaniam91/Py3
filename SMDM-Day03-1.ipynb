{
 "cells": [
  {
   "cell_type": "code",
   "execution_count": 2,
   "metadata": {},
   "outputs": [],
   "source": [
    "import numpy             as np\n",
    "import pandas            as pd\n",
    "import scipy.stats       as stats\n",
    "import matplotlib.pyplot as plt"
   ]
  },
  {
   "cell_type": "code",
   "execution_count": 12,
   "metadata": {},
   "outputs": [
    {
     "name": "stdout",
     "output_type": "stream",
     "text": [
      "0.2742531177500741\n"
     ]
    }
   ],
   "source": [
    "mu=0.295\n",
    "sigma=0.025\n",
    "z1=(0.280-0.295)/sigma\n",
    "p=stats.norm.cdf(z1)\n",
    "print(p)\n",
    "\n"
   ]
  },
  {
   "cell_type": "code",
   "execution_count": 9,
   "metadata": {},
   "outputs": [
    {
     "name": "stdout",
     "output_type": "stream",
     "text": [
      "0.01390344751349859\n"
     ]
    }
   ],
   "source": [
    "mu=0.295\n",
    "sigma=0.025\n",
    "z2=(0.350-mu)/sigma\n",
    "p=stats.norm.cdf(z2)\n",
    "p1=1-p\n",
    "print(p1)"
   ]
  },
  {
   "cell_type": "code",
   "execution_count": 14,
   "metadata": {},
   "outputs": [
    {
     "name": "stdout",
     "output_type": "stream",
     "text": [
      "0.8833130216533032\n"
     ]
    }
   ],
   "source": [
    "mu=0.295\n",
    "sigma=0.025\n",
    "z1=(0.260-mu)/sigma\n",
    "p1=stats.norm.cdf(z1)\n",
    "z2=(0.340-mu)/sigma\n",
    "p2=stats.norm.cdf(z2)\n",
    "p=p2-p1\n",
    "print(p)"
   ]
  },
  {
   "cell_type": "code",
   "execution_count": 16,
   "metadata": {},
   "outputs": [
    {
     "data": {
      "text/plain": [
       "0.26598552904870054"
      ]
     },
     "execution_count": 16,
     "metadata": {},
     "output_type": "execute_result"
    }
   ],
   "source": [
    "p=stats.norm.cdf(-0.625)\n",
    "p"
   ]
  },
  {
   "cell_type": "code",
   "execution_count": 26,
   "metadata": {},
   "outputs": [
    {
     "data": {
      "text/plain": [
       "4.9579323739834535e-06"
      ]
     },
     "execution_count": 26,
     "metadata": {},
     "output_type": "execute_result"
    }
   ],
   "source": [
    "p=1-stats.norm.cdf(4.419)\n",
    "p"
   ]
  },
  {
   "cell_type": "code",
   "execution_count": 25,
   "metadata": {},
   "outputs": [
    {
     "data": {
      "text/plain": [
       "0.9986501019683699"
      ]
     },
     "execution_count": 25,
     "metadata": {},
     "output_type": "execute_result"
    }
   ],
   "source": [
    "stats.norm.cdf(3)"
   ]
  },
  {
   "cell_type": "code",
   "execution_count": 27,
   "metadata": {},
   "outputs": [
    {
     "name": "stdout",
     "output_type": "stream",
     "text": [
      "0.8833130216533032\n"
     ]
    }
   ],
   "source": [
    "mu=0.295\n",
    "sigma=0.025\n",
    "z1=(0.260-mu)/sigma\n",
    "p1=stats.norm.cdf(z1)\n",
    "z2=(0.340-mu)/sigma\n",
    "p2=stats.norm.cdf(z2)\n",
    "p=p2-p1\n",
    "print(p)"
   ]
  },
  {
   "cell_type": "code",
   "execution_count": 56,
   "metadata": {
    "scrolled": true
   },
   "outputs": [
    {
     "name": "stdout",
     "output_type": "stream",
     "text": [
      "-4.419417382415922\n",
      "4.948367312573865e-06\n",
      "13.556502626839798\n",
      "14.443497373160202\n",
      "using interval function\n",
      "13.556510776208103\n",
      "14.443489223791897\n"
     ]
    }
   ],
   "source": [
    "#day 2 pact exp-6\n",
    "mu=15\n",
    "sigma=1.6\n",
    "Xbar=14\n",
    "n=50\n",
    "se=sigma/np.sqrt(n)\n",
    "z1=(Xbar-mu)/se\n",
    "print(z1)\n",
    "p=1-stats.norm.cdf(-z1)\n",
    "print(p)\n",
    "lci=Xbar-(1.96*se)\n",
    "uci=Xbar+(1.96*se)\n",
    "print(lci)\n",
    "print(uci)\n",
    "\n",
    "#instaed of lci & uci use stats.norm.interval\n",
    "LCI,UCI=stats.norm.interval(0.95,loc=Xbar,scale=se)\n",
    "print(\"using interval function\")\n",
    "print(LCI)\n",
    "print(UCI)"
   ]
  },
  {
   "cell_type": "code",
   "execution_count": null,
   "metadata": {},
   "outputs": [],
   "source": []
  }
 ],
 "metadata": {
  "kernelspec": {
   "display_name": "Python 3",
   "language": "python",
   "name": "python3"
  },
  "language_info": {
   "codemirror_mode": {
    "name": "ipython",
    "version": 3
   },
   "file_extension": ".py",
   "mimetype": "text/x-python",
   "name": "python",
   "nbconvert_exporter": "python",
   "pygments_lexer": "ipython3",
   "version": "3.7.1"
  }
 },
 "nbformat": 4,
 "nbformat_minor": 2
}
