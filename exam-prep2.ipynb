{
 "cells": [
  {
   "cell_type": "code",
   "execution_count": null,
   "metadata": {},
   "outputs": [],
   "source": [
    "#Find Armstrong Number in an Interval\n",
    "# Program to check Armstrong numbers in certain interval\n",
    "\n",
    "lower = 100\n",
    "upper = 2000\n",
    "\n",
    "# To take input from the user\n",
    "# lower = int(input(\"Enter lower range: \"))\n",
    "# upper = int(input(\"Enter upper range: \"))\n",
    "\n",
    "for num in range(lower, upper + 1):\n",
    "    order = len(str(num))\n",
    "    sum = 0\n",
    "    temp = num\n",
    "    while temp > 0:\n",
    "        digit = temp % 10\n",
    "        sum += digit ** order\n",
    "        temp //= 1\n",
    "        if num == sum:\n",
    "            print(num)"
   ]
  },
  {
   "cell_type": "code",
   "execution_count": 6,
   "metadata": {},
   "outputs": [
    {
     "name": "stdout",
     "output_type": "stream",
     "text": [
      "2020 is a leap year\n"
     ]
    }
   ],
   "source": [
    "# Python program to check if the input year is a leap year or not\n",
    "\n",
    "year = 2020\n",
    "\n",
    "# To get year (integer input) from the user\n",
    "# year = int(input(\"Enter a year: \"))\n",
    "\n",
    "if (year % 4) == 0:\n",
    "    if (year % 100) == 0:\n",
    "        if (year % 400) == 0:\n",
    "            print(\"{0} is a leap year\".format(year))\n",
    "        else:\n",
    "            print(\"{0} is not a leap year\".format(year))\n",
    "    else:\n",
    "        print(\"{0} is a leap year\".format(year))\n",
    "else:\n",
    "    print(\"{0} is not a leap year\".format(year))"
   ]
  },
  {
   "cell_type": "code",
   "execution_count": 2,
   "metadata": {},
   "outputs": [
    {
     "data": {
      "text/plain": [
       "5"
      ]
     },
     "execution_count": 2,
     "metadata": {},
     "output_type": "execute_result"
    }
   ],
   "source": [
    "2+3"
   ]
  },
  {
   "cell_type": "code",
   "execution_count": 4,
   "metadata": {},
   "outputs": [
    {
     "name": "stdout",
     "output_type": "stream",
     "text": [
      "   November 2014\n",
      "Mo Tu We Th Fr Sa Su\n",
      "                1  2\n",
      " 3  4  5  6  7  8  9\n",
      "10 11 12 13 14 15 16\n",
      "17 18 19 20 21 22 23\n",
      "24 25 26 27 28 29 30\n",
      "\n"
     ]
    }
   ],
   "source": [
    "# Display Calendar\n",
    "# Python program to display calendar of given month of the year\n",
    "\n",
    "# import module\n",
    "import calendar\n",
    "\n",
    "yy = 2014\n",
    "mm = 11\n",
    "\n",
    "# To ask month and year from the user\n",
    "# yy = int(input(\"Enter year: \"))\n",
    "# mm = int(input(\"Enter month: \"))\n",
    "\n",
    "# display the calendar\n",
    "print(calendar.month(yy, mm))"
   ]
  },
  {
   "cell_type": "code",
   "execution_count": 6,
   "metadata": {},
   "outputs": [
    {
     "name": "stdout",
     "output_type": "stream",
     "text": [
      "The solution are (-3+0j) and (-2+0j)\n"
     ]
    }
   ],
   "source": [
    "#solve quadratic equation\n",
    "# Solve the quadratic equation ax**2 + bx + c = 0\n",
    "\n",
    "# import complex math module\n",
    "import cmath\n",
    "\n",
    "a = 1\n",
    "b = 5\n",
    "c = 6\n",
    "\n",
    "# To take coefficient input from the users\n",
    "# a = float(input('Enter a: '))\n",
    "# b = float(input('Enter b: '))\n",
    "# c = float(input('Enter c: '))\n",
    "\n",
    "# calculate the discriminant\n",
    "d = (b**2) - (4*a*c)\n",
    "\n",
    "# find two solutions\n",
    "sol1 = (-b-cmath.sqrt(d))/(2*a)\n",
    "sol2 = (-b+cmath.sqrt(d))/(2*a)\n",
    "\n",
    "print('The solution are {0} and {1}'.format(sol1,sol2))"
   ]
  },
  {
   "cell_type": "code",
   "execution_count": 9,
   "metadata": {},
   "outputs": [
    {
     "name": "stdout",
     "output_type": "stream",
     "text": [
      "The square root of 9.000 is 3.000\n"
     ]
    }
   ],
   "source": [
    "#square roo of a number\n",
    "num=9\n",
    "num_sqrt = num ** 0.5\n",
    "print('The square root of %0.3f is %0.3f'%(num ,num_sqrt))"
   ]
  },
  {
   "cell_type": "code",
   "execution_count": 11,
   "metadata": {},
   "outputs": [
    {
     "name": "stdout",
     "output_type": "stream",
     "text": [
      "The area of the triangle is 14.70\n"
     ]
    }
   ],
   "source": [
    "#Calculate the Area of a Triangle\n",
    "# Python Program to find the area of triangle\n",
    "\n",
    "a = 5\n",
    "b = 6\n",
    "c = 7\n",
    "\n",
    "# Uncomment below to take inputs from the user\n",
    "# a = float(input('Enter first side: '))\n",
    "# b = float(input('Enter second side: '))\n",
    "# c = float(input('Enter third side: '))\n",
    "\n",
    "# calculate the semi-perimeter\n",
    "s = (a + b + c) / 2\n",
    "\n",
    "# calculate the area\n",
    "area = (s*(s-a)*(s-b)*(s-c)) ** 0.5\n",
    "print('The area of the triangle is %0.2f' %area)"
   ]
  },
  {
   "cell_type": "code",
   "execution_count": 13,
   "metadata": {},
   "outputs": [
    {
     "name": "stdout",
     "output_type": "stream",
     "text": [
      "5.500 kilometers is equal to 3.418 miles\n"
     ]
    }
   ],
   "source": [
    "#Convert Kilometers to Miles\n",
    "kilometers = 5.5\n",
    "conv_fac = 0.621371\n",
    "\n",
    "# calculate miles\n",
    "miles = kilometers * conv_fac\n",
    "print('%0.3f kilometers is equal to %0.3f miles' %(kilometers,miles))"
   ]
  },
  {
   "cell_type": "code",
   "execution_count": 15,
   "metadata": {},
   "outputs": [
    {
     "name": "stdout",
     "output_type": "stream",
     "text": [
      "37.5 degree Celsius is equal to 99.5 degree Fahrenheit\n"
     ]
    }
   ],
   "source": [
    "#Convert Celsius To Fahrenheit\n",
    "celsius = 37.5\n",
    "\n",
    "# calculate fahrenheit\n",
    "fahrenheit = (celsius * 1.8) + 32\n",
    "print('%0.1f degree Celsius is equal to %0.1f degree Fahrenheit' %(celsius,fahrenheit))\n",
    "#fah to cel\n",
    "#c = (f-32)/1.8"
   ]
  },
  {
   "cell_type": "code",
   "execution_count": 17,
   "metadata": {},
   "outputs": [
    {
     "name": "stdout",
     "output_type": "stream",
     "text": [
      "00010"
     ]
    }
   ],
   "source": [
    "#Convert Decimal to Binary Using Recursion\n",
    "def convertToBinary(n):\n",
    "    if n > 1:\n",
    "        convertToBinary(n//2)\n",
    "        print(n % 2,end = '')\n",
    "\n",
    "# decimal number\n",
    "dec = 34\n",
    "convertToBinary(dec)"
   ]
  },
  {
   "cell_type": "code",
   "execution_count": 20,
   "metadata": {},
   "outputs": [
    {
     "name": "stdout",
     "output_type": "stream",
     "text": [
      "You got:\n",
      "6 of Diamond\n",
      "4 of Heart\n",
      "11 of Diamond\n",
      "5 of Spade\n",
      "7 of Diamond\n"
     ]
    }
   ],
   "source": [
    "# Shuffle Deck of Cards\n",
    "# Python program to shuffle a deck of card using the module random and draw 5 cards\n",
    "\n",
    "# import modules\n",
    "import itertools, random\n",
    "\n",
    "# make a deck of cards\n",
    "deck = list(itertools.product(range(1,14),['Spade','Heart','Diamond','Club']))\n",
    "\n",
    "# shuffle the cards\n",
    "random.shuffle(deck)\n",
    "\n",
    "# draw five cards\n",
    "print(\"You got:\")\n",
    "for i in range(5):\n",
    "    print(deck[i][0], \"of\", deck[i][1])"
   ]
  },
  {
   "cell_type": "code",
   "execution_count": 22,
   "metadata": {},
   "outputs": [
    {
     "name": "stdout",
     "output_type": "stream",
     "text": [
      "The value of x after swapping: 10\n",
      "The value of y after swapping: 5\n"
     ]
    }
   ],
   "source": [
    "#Program to Swap Two Variables\n",
    "x = 5\n",
    "y = 10\n",
    "\n",
    "# create a temporary variable and swap the values\n",
    "temp = x\n",
    "x = y\n",
    "y = temp\n",
    "\n",
    "print('The value of x after swapping: {}'.format(x))\n",
    "print('The value of y after swapping: {}'.format(y))"
   ]
  },
  {
   "cell_type": "code",
   "execution_count": 24,
   "metadata": {},
   "outputs": [
    {
     "name": "stdout",
     "output_type": "stream",
     "text": [
      "The ASCII value of 'A' is 65\n"
     ]
    }
   ],
   "source": [
    "#Program to Find ASCII Value of Character\n",
    "c = 'A'\n",
    "\n",
    "# Uncomment to take character from user\n",
    "#c = input(\"Enter a character: \")\n",
    "\n",
    "print(\"The ASCII value of '\" + c + \"' is\",ord(c))"
   ]
  },
  {
   "cell_type": "code",
   "execution_count": 26,
   "metadata": {},
   "outputs": [
    {
     "name": "stdout",
     "output_type": "stream",
     "text": [
      "The total terms is: 10\n",
      "2 raised to power 0 is 1\n",
      "2 raised to power 1 is 2\n",
      "2 raised to power 2 is 4\n",
      "2 raised to power 3 is 8\n",
      "2 raised to power 4 is 16\n",
      "2 raised to power 5 is 32\n",
      "2 raised to power 6 is 64\n",
      "2 raised to power 7 is 128\n",
      "2 raised to power 8 is 256\n",
      "2 raised to power 9 is 512\n"
     ]
    }
   ],
   "source": [
    "#powers of 2\n",
    "terms = 10\n",
    "result = list(map(lambda x: 2 ** x, range(terms)))\n",
    "print(\"The total terms is:\",terms)\n",
    "for i in range(terms):\n",
    "    print(\"2 raised to power\",i,\"is\",result[i])"
   ]
  },
  {
   "cell_type": "code",
   "execution_count": 32,
   "metadata": {},
   "outputs": [
    {
     "name": "stdout",
     "output_type": "stream",
     "text": [
      "266\n",
      "Base (2-9): 2\n",
      "100001010\n"
     ]
    }
   ],
   "source": [
    "#Convert a decimal number to any number system with a base up to 9\n",
    "num = int(input())\n",
    "base = int(input(\"Base (2-9): \"))\n",
    "if not(2 <= base <= 9):\n",
    "    quit()\n",
    "\n",
    "newNum = ''\n",
    "\n",
    "while num > 0:\n",
    "    newNum = str(num % base) + newNum\n",
    "    num //= base\n",
    "\n",
    "print(newNum)"
   ]
  },
  {
   "cell_type": "code",
   "execution_count": 34,
   "metadata": {},
   "outputs": [
    {
     "name": "stdout",
     "output_type": "stream",
     "text": [
      "What to calculate? (m, d, v): v\n",
      "Mass: 20\n",
      "Density: 15\n",
      "1.33\n"
     ]
    }
   ],
   "source": [
    "#Calculation of mass, volume and density\n",
    "flag = input(\"What to calculate? (m, d, v): \")\n",
    "if flag == 'm':\n",
    "    d = float(input(\"Density: \"))\n",
    "    v = float(input(\"Volume: \"))\n",
    "    result = d * v # mass\n",
    "elif flag == 'd':\n",
    "    m = float(input(\"Mass: \"))\n",
    "    v = float(input(\"Volume: \"))\n",
    "    result = m / v # density\n",
    "elif flag == 'v':\n",
    "    m = float(input(\"Mass: \"))\n",
    "    d = float(input(\"Density: \"))\n",
    "    result = m / d # volume\n",
    "print(\"%.2f\" % result)"
   ]
  },
  {
   "cell_type": "code",
   "execution_count": 36,
   "metadata": {},
   "outputs": [
    {
     "name": "stdout",
     "output_type": "stream",
     "text": [
      "[4, 3, 3, 3, 4, 1, 1, 3, 4, 1, 2, 1, 1, 3, 3]\n",
      "3\n"
     ]
    }
   ],
   "source": [
    "#Find the value of the list that occurs most often\n",
    "from random import random\n",
    "\n",
    "a = [int(random()*5) for i in range(15)]\n",
    "print(a)\n",
    "\n",
    "a_set = set(a)\n",
    "\n",
    "most_common = None\n",
    "qty_most_common = 0\n",
    "\n",
    "for item in a_set:\n",
    "    qty = a.count(item)\n",
    "    if qty > qty_most_common:\n",
    "        qty_most_common = qty\n",
    "        most_common = item\n",
    "\n",
    "print(most_common)"
   ]
  },
  {
   "cell_type": "code",
   "execution_count": 42,
   "metadata": {},
   "outputs": [
    {
     "name": "stdout",
     "output_type": "stream",
     "text": [
      "532121\n",
      "6\n"
     ]
    }
   ],
   "source": [
    "#count the number of digits in an integer\n",
    "n = int(input())\n",
    "n = abs(n)\n",
    "\n",
    "count = 1\n",
    "n //= 10\n",
    "\n",
    "while n > 0:\n",
    "    n //= 10\n",
    "    count += 1\n",
    "\n",
    "print(count)"
   ]
  },
  {
   "cell_type": "code",
   "execution_count": 2,
   "metadata": {},
   "outputs": [
    {
     "name": "stdout",
     "output_type": "stream",
     "text": [
      "['A', 'B', 'C']\n",
      "['A', 'C', 'B']\n",
      "['B', 'A', 'C']\n",
      "['B', 'C', 'A']\n",
      "['C', 'A', 'B']\n",
      "['C', 'B', 'A']\n"
     ]
    }
   ],
   "source": [
    "#permutation of a list\n",
    "def permutation(lst): \n",
    "  \n",
    "    # If lst is empty then there are no permutations \n",
    "    if len(lst) == 0: \n",
    "        return [] \n",
    "  \n",
    "    # If there is only one element in lst then, only \n",
    "    # one permuatation is possible \n",
    "    if len(lst) == 1: \n",
    "        return [lst] \n",
    "  \n",
    "    # Find the permutations for lst if there are \n",
    "    # more than 1 characters \n",
    "  \n",
    "    l = [] # empty list that will store current permutation \n",
    "  \n",
    "    # Iterate the input(lst) and calculate the permutation \n",
    "    for i in range(len(lst)): \n",
    "        m = lst[i] \n",
    "  \n",
    "       # Extract lst[i] or m from the list.  remLst is \n",
    "       # remaining list \n",
    "        remLst = lst[:i] + lst[i+1:] \n",
    "  \n",
    "       # Generating all permutations where m is first \n",
    "       # element \n",
    "        for p in permutation(remLst): \n",
    "            l.append([m] + p) \n",
    "    return l \n",
    "  \n",
    "  \n",
    "# Driver program to test above function \n",
    "data = list('ABC') \n",
    "for p in permutation(data): \n",
    "    print(p)"
   ]
  },
  {
   "cell_type": "code",
   "execution_count": null,
   "metadata": {},
   "outputs": [],
   "source": []
  }
 ],
 "metadata": {
  "kernelspec": {
   "display_name": "Python 3",
   "language": "python",
   "name": "python3"
  },
  "language_info": {
   "codemirror_mode": {
    "name": "ipython",
    "version": 3
   },
   "file_extension": ".py",
   "mimetype": "text/x-python",
   "name": "python",
   "nbconvert_exporter": "python",
   "pygments_lexer": "ipython3",
   "version": "3.7.1"
  }
 },
 "nbformat": 4,
 "nbformat_minor": 2
}
