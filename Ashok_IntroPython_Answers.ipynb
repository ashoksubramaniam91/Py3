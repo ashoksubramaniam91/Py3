{
 "cells": [
  {
   "cell_type": "code",
   "execution_count": 2,
   "metadata": {},
   "outputs": [],
   "source": [
    "#5)Write a program to print all the values in the given list sequentially. If a value greater than 5 is encountered, the program should stop."
   ]
  },
  {
   "cell_type": "code",
   "execution_count": 45,
   "metadata": {},
   "outputs": [
    {
     "name": "stdout",
     "output_type": "stream",
     "text": [
      "2\n",
      "3\n",
      "4\n",
      "2\n",
      "3\n",
      "1\n",
      "4\n"
     ]
    }
   ],
   "source": [
    "L1 = [2, 3, 4, 2, 3, 1, 4, 6, 2, 3, 2, 1]\n",
    "for i in L1:\n",
    "    if i>5:\n",
    "        break\n",
    "    print(i)"
   ]
  },
  {
   "cell_type": "code",
   "execution_count": null,
   "metadata": {},
   "outputs": [],
   "source": [
    "#6)The following function compares two number and prints the larger number:#6)\n"
   ]
  },
  {
   "cell_type": "code",
   "execution_count": 6,
   "metadata": {},
   "outputs": [
    {
     "name": "stdout",
     "output_type": "stream",
     "text": [
      "4 is maximum\n"
     ]
    }
   ],
   "source": [
    "#What is the output if the following line is executed?\n",
    "#printMax(4, 4) \n",
    "\n",
    "def printMax(a, b):\n",
    "    if a > b:\n",
    "        print(a, 'is maximum')\n",
    "    else:\n",
    "        print(b, 'is maximum')\n",
    "\n",
    "printMax(4, 4) \n"
   ]
  },
  {
   "cell_type": "code",
   "execution_count": 7,
   "metadata": {},
   "outputs": [],
   "source": [
    "#How would you modify the function to result in a more consistent output?"
   ]
  },
  {
   "cell_type": "code",
   "execution_count": 8,
   "metadata": {},
   "outputs": [
    {
     "name": "stdout",
     "output_type": "stream",
     "text": [
      "A and B are equal\n"
     ]
    }
   ],
   "source": [
    "def printMax(a, b):\n",
    "    if a > b:\n",
    "        print(a, 'is maximum')\n",
    "    elif(a<b):\n",
    "        print(b, 'is maximum')\n",
    "    else:\n",
    "         print('A and B are equal')\n",
    "\n",
    "printMax(4, 4)\n"
   ]
  },
  {
   "cell_type": "code",
   "execution_count": 11,
   "metadata": {},
   "outputs": [],
   "source": [
    "#7)Write a list  comprehension to generate the multiples of 5 less than 50.\n",
    "\n"
   ]
  },
  {
   "cell_type": "code",
   "execution_count": 13,
   "metadata": {},
   "outputs": [
    {
     "name": "stdout",
     "output_type": "stream",
     "text": [
      "[5, 10, 15, 20, 25, 30, 35, 40, 45]\n"
     ]
    }
   ],
   "source": [
    "multiples=[x for x in range(1,50) if x%5==0]\n",
    "print(multiples)"
   ]
  },
  {
   "cell_type": "code",
   "execution_count": 14,
   "metadata": {},
   "outputs": [],
   "source": [
    "#8)Please go through the following program:,What will be the output of the print function?"
   ]
  },
  {
   "cell_type": "code",
   "execution_count": 17,
   "metadata": {},
   "outputs": [
    {
     "name": "stdout",
     "output_type": "stream",
     "text": [
      "{'Apple': 1}\n",
      "{'Apple': 1, 'Ball': 1}\n",
      "{'Apple': 2, 'Ball': 1}\n",
      "2\n"
     ]
    }
   ],
   "source": [
    "total={}\n",
    "def insert(items):\n",
    "    if items in total:\n",
    "        total[items] += 1\n",
    "        print(total)\n",
    "    else:\n",
    "        total[items] = 1\n",
    "        print(total)\n",
    "        \n",
    "\n",
    "insert('Apple')\n",
    "insert('Ball')\n",
    "insert('Apple')\n",
    "print (len(total))\n"
   ]
  },
  {
   "cell_type": "code",
   "execution_count": 18,
   "metadata": {},
   "outputs": [],
   "source": [
    "#section C"
   ]
  },
  {
   "cell_type": "code",
   "execution_count": 19,
   "metadata": {},
   "outputs": [],
   "source": [
    "#9)Write a function which takes Principal, Interest rate and time period as inputs and outputs equated monthly installments as a dictionary. The interest is compounded anually."
   ]
  },
  {
   "cell_type": "code",
   "execution_count": 21,
   "metadata": {},
   "outputs": [
    {
     "name": "stdout",
     "output_type": "stream",
     "text": [
      "{1: 95.83333333333333, 2: 95.83333333333333, 3: 95.83333333333333, 4: 95.83333333333333, 5: 95.83333333333333, 6: 95.83333333333333, 7: 95.83333333333333, 8: 95.83333333333333, 9: 95.83333333333333, 10: 95.83333333333333, 11: 95.83333333333333, 12: 95.83333333333333}\n"
     ]
    }
   ],
   "source": [
    "def emi_calculator(p,r,t):\n",
    "    Amount=p*((1+r)**t)\n",
    "    Per_month=Amount/12\n",
    "    return Per_month\n",
    "\n",
    "x=emi_calculator(1000,0.15,1)\n",
    "Monthly_Installments={1:x,2:x,3:x,4:x,5:x,6:x,7:x,8:x,9:x,10:x,11:x,12:x}\n",
    "print(Monthly_Installments)\n"
   ]
  },
  {
   "cell_type": "code",
   "execution_count": 22,
   "metadata": {},
   "outputs": [],
   "source": [
    "#Write a function to output the EMI for a principal of 12000 at an interest of 11.5% for a period of 5 years."
   ]
  },
  {
   "cell_type": "code",
   "execution_count": 23,
   "metadata": {},
   "outputs": [
    {
     "name": "stdout",
     "output_type": "stream",
     "text": [
      "The monthly installment for 5 years is 1723.35\n"
     ]
    }
   ],
   "source": [
    "def emi_calculator(p,r,t):\n",
    "    Amount=p*((1+r)**t)\n",
    "    Per_month=Amount/12\n",
    "    return Per_month\n",
    "\n",
    "x=emi_calculator(12000,0.115,5)\n",
    "print('The monthly installment for 5 years is %0.2f'%x)\n"
   ]
  }
 ],
 "metadata": {
  "kernelspec": {
   "display_name": "Python 3",
   "language": "python",
   "name": "python3"
  },
  "language_info": {
   "codemirror_mode": {
    "name": "ipython",
    "version": 3
   },
   "file_extension": ".py",
   "mimetype": "text/x-python",
   "name": "python",
   "nbconvert_exporter": "python",
   "pygments_lexer": "ipython3",
   "version": "3.7.1"
  }
 },
 "nbformat": 4,
 "nbformat_minor": 2
}
