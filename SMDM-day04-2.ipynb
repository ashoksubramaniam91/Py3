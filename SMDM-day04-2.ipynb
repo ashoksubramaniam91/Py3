{
 "cells": [
  {
   "cell_type": "code",
   "execution_count": 1,
   "metadata": {},
   "outputs": [],
   "source": [
    "import numpy as np\n",
    "import pandas            as pd\n",
    "import scipy.stats       as stats\n",
    "import matplotlib.pyplot as plt"
   ]
  },
  {
   "cell_type": "code",
   "execution_count": 4,
   "metadata": {},
   "outputs": [],
   "source": [
    "temperature = np.array([98.56, 98.66, 97.54, 98.71, 99.22, 99.49, 98.14, 98.84,\\\n",
    "                         99.28, 98.48, 98.88, 97.29, 98.88, 99.07, 98.81, 99.49,\\\n",
    "                         98.57, 97.98, 97.75, 97.69, 99.28, 98.52, 98.82, 98.81, 98.22])            "
   ]
  },
  {
   "cell_type": "code",
   "execution_count": 17,
   "metadata": {},
   "outputs": [
    {
     "name": "stdout",
     "output_type": "stream",
     "text": [
      "98.59919999999998\n",
      "0.5998258080476344\n",
      "0.11996516160952689\n",
      "-0.006668602694974533\n",
      "-1.7108820799094275\n",
      "0.4973671933764293\n"
     ]
    }
   ],
   "source": [
    "#T-test\n",
    "#example -2 (day3)\n",
    "#1 tail left\n",
    "n=25\n",
    "mu=98.6\n",
    "xbar=np.mean(temperature)\n",
    "print(xbar)\n",
    "\n",
    "S=np.std(temperature,ddof=1)#dividing by n-1 #always 1 for sample standard deviation (S)#default is 0\n",
    "print(S)\n",
    "\n",
    "se=S/np.sqrt(n)\n",
    "print(se)\n",
    "\n",
    "#t-statistics\n",
    "t=(xbar-mu)/se\n",
    "print(t)\n",
    "#how to calculate tcritical value\n",
    "tcritical=stats.t.isf(0.95,df=24) #dof=n-1\n",
    "print(tcritical)\n",
    "\n",
    "\n",
    "p=stats.t.cdf(t,df=24)#give t value\n",
    "print(p)"
   ]
  },
  {
   "cell_type": "code",
   "execution_count": 19,
   "metadata": {},
   "outputs": [
    {
     "data": {
      "text/plain": [
       "-1.646380345427535"
      ]
     },
     "execution_count": 19,
     "metadata": {},
     "output_type": "execute_result"
    }
   ],
   "source": [
    "stats.t.isf(0.95,df=999)"
   ]
  },
  {
   "cell_type": "code",
   "execution_count": 21,
   "metadata": {},
   "outputs": [
    {
     "data": {
      "text/plain": [
       "-1.6448536269514722"
      ]
     },
     "execution_count": 21,
     "metadata": {},
     "output_type": "execute_result"
    }
   ],
   "source": [
    "stats.norm.isf(0.95)"
   ]
  },
  {
   "cell_type": "code",
   "execution_count": 24,
   "metadata": {},
   "outputs": [
    {
     "data": {
      "text/plain": [
       "3.090232306167813"
      ]
     },
     "execution_count": 24,
     "metadata": {},
     "output_type": "execute_result"
    }
   ],
   "source": [
    "stats.norm.isf(0.001)"
   ]
  },
  {
   "cell_type": "code",
   "execution_count": 43,
   "metadata": {},
   "outputs": [
    {
     "name": "stdout",
     "output_type": "stream",
     "text": [
      "2.2281388519649385\n",
      "-2.2925841964555027\n",
      "0.04481624562570511\n"
     ]
    }
   ],
   "source": [
    "#day3-Practice Exercise 1\n",
    "# daily intake of Sugar in milligrams for 11 diabetic patients\n",
    "import numpy as np\n",
    "daily_intake = np.array([5560, 5770, 7640, 5180, 5690, 6435, 6803, 7689, 6876, 8213, 8765])\n",
    "mu=7600\n",
    "xbar=np.mean(daily_intake)\n",
    "s=np.std(daily_intake,ddof=1)\n",
    "n=11\n",
    "se=s/np.sqrt(n)\n",
    "#what is the t-critical value for 2 talied test\n",
    "print(stats.t.isf(0.025,df=10))\n",
    "t=(xbar-mu)/se\n",
    "print(t)\n",
    "#p-value\n",
    "print(2*stats.t.cdf(t,df=10))\n",
    "#p-value is less than 5% reject null\n",
    "#tstatistics is less than t-critical (-2.22) hence again reject null\n",
    "#xbar fall in critical region hence reject null"
   ]
  },
  {
   "cell_type": "code",
   "execution_count": 56,
   "metadata": {},
   "outputs": [
    {
     "name": "stdout",
     "output_type": "stream",
     "text": [
      "1.6765508919142635\n",
      "0.11424484790269987\n",
      "0.9095105442498921\n",
      "0.11424484790269986\n",
      "0.9095105442498921\n"
     ]
    }
   ],
   "source": [
    "#Day3-take home\n",
    "import numpy       as np\n",
    "import scipy.stats as stats\n",
    "volume = np.array([2.109, 2.086, 2.066, 2.075, 2.065, 2.057, 2.052, 2.044, 2.036, 2.038, \\\n",
    "                   2.031, 2.029, 2.025, 2.029, 2.023, 2.020, 2.015, 2.014, 2.013, 2.014,\\\n",
    "                   2.012, 2.012, 2.012, 2.010, 2.005, 2.003, 1.999, 1.996, 1.997, 1.992,\\\n",
    "                   1.994, 1.986, 1.984, 1.981, 1.973, 1.975, 1.971, 1.969, 1.966, 1.967,\\\n",
    "                   1.963, 1.957, 1.951, 1.951, 1.947, 1.941, 1.941, 1.938, 1.908, 1.894])\n",
    "mu=2\n",
    "xbar=volume.mean()\n",
    "S=np.std(volume,ddof = 1)\n",
    "n=50\n",
    "se=S/np.sqrt(n)\n",
    "#t-critical\n",
    "print(stats.t.isf(0.05,df=49))\n",
    "t=(xbar-mu)/se\n",
    "print(t)\n",
    "#p-value\n",
    "print(2*(1-stats.t.cdf(t,df=49)))\n",
    "\n",
    "\n",
    "t_statistic, p_value  =  stats.ttest_1samp(volume, 2)\n",
    "print(t_statistic)\n",
    "print(p_value) \n",
    "\n",
    "\n",
    "#failed to reject\n"
   ]
  },
  {
   "cell_type": "code",
   "execution_count": null,
   "metadata": {},
   "outputs": [],
   "source": []
  }
 ],
 "metadata": {
  "kernelspec": {
   "display_name": "Python 3",
   "language": "python",
   "name": "python3"
  },
  "language_info": {
   "codemirror_mode": {
    "name": "ipython",
    "version": 3
   },
   "file_extension": ".py",
   "mimetype": "text/x-python",
   "name": "python",
   "nbconvert_exporter": "python",
   "pygments_lexer": "ipython3",
   "version": "3.7.1"
  }
 },
 "nbformat": 4,
 "nbformat_minor": 2
}
