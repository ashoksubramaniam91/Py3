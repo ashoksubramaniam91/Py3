{
 "cells": [
  {
   "cell_type": "code",
   "execution_count": 10,
   "metadata": {},
   "outputs": [],
   "source": [
    "import numpy             as np\n",
    "import pandas            as pd\n",
    "import scipy.stats       as stats\n",
    "import matplotlib.pyplot as plt"
   ]
  },
  {
   "cell_type": "code",
   "execution_count": 68,
   "metadata": {
    "scrolled": true
   },
   "outputs": [
    {
     "name": "stdout",
     "output_type": "stream",
     "text": [
      "[ 10   8 -21  18  18  30  -3   8  25  14  18 -28  15  23  19  23   6  -2\n",
      "  -8  -1  25  16  10   7   9]\n",
      "14.038874598770374\n",
      "9.56\n",
      "3.404831324883169\n",
      "0.0023297583680290668\n",
      "other way\n",
      "3.404831324883169\n",
      "0.0023297583680290364\n"
     ]
    },
    {
     "data": {
      "text/plain": [
       "2.063898561628021"
      ]
     },
     "execution_count": 68,
     "metadata": {},
     "output_type": "execute_result"
    }
   ],
   "source": [
    "#day-3 example 4\n",
    "Marks_before =np.array( [ 52, 56, 61, 47, 58, 52, 56, 60, 52, 46, 51, 62, 54, 50, 48, 59, 56, 51, 52, 44, 52, 45, 57, 60, 45])\n",
    "\n",
    "Marks_after  = np.array([62, 64, 40, 65, 76, 82, 53, 68, 77, 60, 69, 34, 69, 73, 67, 82, 62, 49, 44, 43, 77, 61, 67, 67, 54])\n",
    "\n",
    "D=Marks_after-Marks_before\n",
    "\n",
    "print(D)\n",
    "\n",
    "mu=0\n",
    "xbar=D.mean()\n",
    "s=np.std(D,ddof = 1)\n",
    "print(s)\n",
    "n=25\n",
    "se=s/np.sqrt(n)\n",
    "#t-stats\n",
    "t=(xbar-mu)/se\n",
    "print(xbar)\n",
    "print(t)\n",
    "\n",
    "print(2*(1-stats.t.cdf(t,df=24)))\n",
    "print('other way')\n",
    "t_statistic, p_value  =  stats.ttest_1samp(D, 0)\n",
    "print(t_statistic)\n",
    "print(p_value)\n",
    "\n",
    "stats.t.isf(0.025,df=24)#tcritical\n",
    "\n",
    "#Zcritical(SE) is the marginal error"
   ]
  },
  {
   "cell_type": "code",
   "execution_count": 69,
   "metadata": {},
   "outputs": [
    {
     "name": "stdout",
     "output_type": "stream",
     "text": [
      "[-13  -4  -5  -4  -6  -4  -5  -4  -1  -5  -3  -5  -6  -4  -4  -3  -4  -4\n",
      "  -5  -6  -3  -5  -5  -4  -5]\n",
      "-4.68\n",
      "-11.381954836452902\n",
      "3.704651177780503e-11\n",
      "-13.813996468173606\n",
      "6.433378564462081e-13\n"
     ]
    }
   ],
   "source": [
    "#day 3-practice test 3\n",
    "wt_before = np.array([76, 76, 72, 73, 64, 63, 75, 75, 71, 76, 71, 76, 78, 73, 76, 70, 71, 82, 84, 68, 70, 68, 66, 67, 74])\n",
    "wt_after  = np.array([63, 72, 67, 69, 58, 59, 70, 71, 70, 71, 68, 71, 72, 69, 72, 67, 67, 78, 79, 62, 67, 63, 61, 63, 69])\n",
    "D=wt_after-wt_before\n",
    "print(D)\n",
    "mu=0\n",
    "xbar=D.mean()\n",
    "s=np.std(D,ddof=1)\n",
    "n=25\n",
    "se=s/np.sqrt(n)\n",
    "#t-stats\n",
    "t=(xbar-mu)/se\n",
    "print(xbar)\n",
    "print(t)\n",
    "print(2*(stats.t.cdf(t,df=24)))\n",
    "\n",
    "\n",
    "t_statistic, p_value  =  stats.ttest_1samp(D, 1)\n",
    "print(t_statistic)\n",
    "print(p_value) \n"
   ]
  }
 ],
 "metadata": {
  "kernelspec": {
   "display_name": "Python 3",
   "language": "python",
   "name": "python3"
  },
  "language_info": {
   "codemirror_mode": {
    "name": "ipython",
    "version": 3
   },
   "file_extension": ".py",
   "mimetype": "text/x-python",
   "name": "python",
   "nbconvert_exporter": "python",
   "pygments_lexer": "ipython3",
   "version": "3.7.1"
  }
 },
 "nbformat": 4,
 "nbformat_minor": 2
}
