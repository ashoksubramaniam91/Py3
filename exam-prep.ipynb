{
 "cells": [
  {
   "cell_type": "code",
   "execution_count": 1,
   "metadata": {},
   "outputs": [
    {
     "name": "stdout",
     "output_type": "stream",
     "text": [
      "Enter first number: 5\n",
      "Enter second number: 12\n",
      "The LCM of  5  and  12 is  60\n"
     ]
    }
   ],
   "source": [
    "#lcm\n",
    "def lcm(a,b):\n",
    "    if(a>b):\n",
    "        min1=a\n",
    "    else:\n",
    "        min1=b\n",
    "    while(1):\n",
    "        if(min1%a==0 and min1%b==0):\n",
    "            break\n",
    "        min1=min1+1\n",
    "    return min1\n",
    "\n",
    "\n",
    "num1 = int(input(\"Enter first number: \"))  \n",
    "num2 = int(input(\"Enter second number: \"))  \n",
    "print('The LCM of ',num1,' and ',num2 ,'is ',lcm(num1,num2))"
   ]
  },
  {
   "cell_type": "code",
   "execution_count": 1,
   "metadata": {},
   "outputs": [
    {
     "name": "stdout",
     "output_type": "stream",
     "text": [
      "Enter first number: 54\n",
      "Enter second number: 24\n",
      "The HCF of  54  and  24 is  6\n"
     ]
    }
   ],
   "source": [
    "#hcf\n",
    "def computeHCF(x, y):\n",
    "\n",
    "# choose the smaller number\n",
    "    if x > y:\n",
    "        smaller = y\n",
    "    else:\n",
    "        smaller = x\n",
    "    for i in range(1, smaller+1):\n",
    "        if((x % i == 0) and (y % i == 0)):\n",
    "            hcf = i\n",
    "            \n",
    "    return hcf\n",
    "\n",
    "x = int(input(\"Enter first number: \"))  \n",
    "y = int(input(\"Enter second number: \"))  \n",
    "print('The HCF of ',x,' and ',y ,'is ',computeHCF(x,y))"
   ]
  },
  {
   "cell_type": "code",
   "execution_count": 4,
   "metadata": {},
   "outputs": [
    {
     "name": "stdout",
     "output_type": "stream",
     "text": [
      "(23, 12)\n"
     ]
    }
   ],
   "source": [
    "def solve(numheads,numlegs):\n",
    "    ns='No solutions!'\n",
    "    for i in range(numheads+1):\n",
    "        j=numheads-i\n",
    "        if 2*i+4*j==numlegs:\n",
    "            return i,j\n",
    "    return ns,ns\n",
    "\n",
    "numheads=35\n",
    "numlegs=94\n",
    "solutions=solve(numheads,numlegs)\n",
    "print(solutions)"
   ]
  },
  {
   "cell_type": "code",
   "execution_count": 6,
   "metadata": {},
   "outputs": [
    {
     "name": "stdout",
     "output_type": "stream",
     "text": [
      "this is a pyhton triple quote string\n",
      "kjsdf \n",
      " fksjf \n",
      " lkgn \n"
     ]
    }
   ],
   "source": [
    "print(\"\"\"this is a pyhton triple quote string\n",
    "kjsdf \n",
    " fksjf \n",
    " lkgn \"\"\")"
   ]
  },
  {
   "cell_type": "code",
   "execution_count": 9,
   "metadata": {},
   "outputs": [
    {
     "data": {
      "text/plain": [
       "' this is a comment\\ndskjfn'"
      ]
     },
     "execution_count": 9,
     "metadata": {},
     "output_type": "execute_result"
    }
   ],
   "source": [
    "''' this is a comment\n",
    "dskjfn'''"
   ]
  },
  {
   "cell_type": "code",
   "execution_count": 12,
   "metadata": {},
   "outputs": [
    {
     "name": "stdout",
     "output_type": "stream",
     "text": [
      "this is \\n example\n"
     ]
    }
   ],
   "source": [
    "print('this is \\\\n example')"
   ]
  },
  {
   "cell_type": "code",
   "execution_count": 38,
   "metadata": {},
   "outputs": [
    {
     "name": "stdout",
     "output_type": "stream",
     "text": [
      "this is \\t example\n"
     ]
    }
   ],
   "source": [
    "print('this is \\\\t example')"
   ]
  },
  {
   "cell_type": "code",
   "execution_count": 155,
   "metadata": {},
   "outputs": [
    {
     "name": "stdout",
     "output_type": "stream",
     "text": [
      "97  is a prime number\n",
      "101 is the next prime number\n",
      "89 is the previous prime number\n"
     ]
    }
   ],
   "source": [
    "def PrimeSeries(num):\n",
    "    if num > 1:\n",
    "        for i in range(2,int(num**0.5)+1):\n",
    "            if num%i==0:\n",
    "                print(num, 'not a prime number')\n",
    "                break\n",
    "        else:\n",
    "            print(num, ' is a prime number')\n",
    "    else:\n",
    "        print(num, ' is not a prime number')\n",
    "    NextNearestPrime(num)\n",
    "    PreviousNearestPrime(num)\n",
    "    return num\n",
    "\n",
    "def NextNearestPrime(n):\n",
    "    n=n+1\n",
    "    l = [*range(n, (2*n)+1)]\n",
    "    primes = []\n",
    "    for i in l:\n",
    "        if all([i % n for n in range(2, i)]):\n",
    "            primes.append(i)\n",
    "    print(min(primes),'is the next prime number')\n",
    "    return min(primes)\n",
    "\n",
    "def PreviousNearestPrime(n):\n",
    "    #n=n-1\n",
    "    l = [*range(2,n)]\n",
    "    primes = []\n",
    "    for i in l:\n",
    "        if all([i % n for n in range(2, i)]):\n",
    "            primes.append(i)\n",
    "    print(max(primes),'is the previous prime number')\n",
    "    return max(primes)\n",
    "\n",
    "x=PrimeSeries(97)"
   ]
  },
  {
   "cell_type": "code",
   "execution_count": 172,
   "metadata": {},
   "outputs": [
    {
     "name": "stdout",
     "output_type": "stream",
     "text": [
      "10 not a prime number\n",
      "7 is the previous prime number\n",
      "11 is the next prime number\n"
     ]
    }
   ],
   "source": [
    "def PrimeSeries(num):\n",
    "    if num > 1:\n",
    "        for i in range(2,int(num**0.5)+1):\n",
    "            if num%i==0:\n",
    "                print(num, 'not a prime number')\n",
    "                break\n",
    "        else:\n",
    "            print(num, ' is a prime number')\n",
    "    else:\n",
    "        print(num, ' is not a prime number')\n",
    "        \n",
    "    n=num\n",
    "    l = [*range(2,n)]\n",
    "    primes = []\n",
    "    for i in l:\n",
    "        if all([i % n for n in range(2, i)]):\n",
    "            primes.append(i)\n",
    "    print(max(primes),'is the previous prime number')\n",
    "\n",
    "    n1=num+1\n",
    "    l = [*range(n1, (2*n1)+1)]\n",
    "    primes = []\n",
    "    for i in l:\n",
    "        if all([i % n1 for n1 in range(2, i)]):\n",
    "            primes.append(i)\n",
    "    print(min(primes),'is the next prime number')\n",
    "    return num,max(primes),min(primes)\n",
    "    \n",
    "\n",
    "x=PrimeSeries(10)"
   ]
  },
  {
   "cell_type": "code",
   "execution_count": 175,
   "metadata": {},
   "outputs": [
    {
     "name": "stdout",
     "output_type": "stream",
     "text": [
      "97  is a prime number\n",
      "101 is the next prime number\n",
      "89 is the previous prime number\n"
     ]
    }
   ],
   "source": [
    "def PrimeSeries(num):\n",
    "    if num > 1:\n",
    "        for i in range(2,int(num**0.5)+1):\n",
    "            if num%i==0:\n",
    "                print(num, 'not a prime number')\n",
    "                break\n",
    "        else:\n",
    "            print(num, ' is a prime number')\n",
    "    else:\n",
    "        print(num, ' is not a prime number')\n",
    "    NextNearestPrime(num)\n",
    "    PreviousNearestPrime(num)\n",
    "    return num\n",
    "\n",
    "def NextNearestPrime(n):\n",
    "    n=n+1\n",
    "    l = [*range(n, (2*n)+1)]\n",
    "    primes = []\n",
    "    for i in l:\n",
    "        if all([i % n for n in range(2, i)]):\n",
    "            primes.append(i)\n",
    "    print(min(primes),'is the next prime number')\n",
    "    return min(primes)\n",
    "\n",
    "def PreviousNearestPrime(n):\n",
    "    #n=n-1\n",
    "    l = [*range(2,n)]\n",
    "    primes = []\n",
    "    for i in l:\n",
    "        if all([i % n for n in range(2, i)]):\n",
    "            primes.append(i)\n",
    "    print(max(primes),'is the previous prime number')\n",
    "    return max(primes)\n",
    "\n",
    "x=PrimeSeries(97)"
   ]
  },
  {
   "cell_type": "code",
   "execution_count": 193,
   "metadata": {},
   "outputs": [
    {
     "name": "stdout",
     "output_type": "stream",
     "text": [
      "enter the first stringashok\n",
      "enter the second stringarun\n",
      "String1 is larger\n"
     ]
    }
   ],
   "source": [
    "#compare 2 strings and check which string is larger\n",
    "String1=input('enter the first string')\n",
    "String2=input('enter the second string')\n",
    "a=[]\n",
    "b=[]\n",
    "for i in String1:\n",
    "    a.append(i)\n",
    "for j in String2:\n",
    "    b.append(j)\n",
    "if(len(a)>len(b)):\n",
    "    print('String1 is larger')\n",
    "elif(len(a)==len(b)):\n",
    "     print('both the strings are equal')\n",
    "else:\n",
    "    print('String2 is larger')\n"
   ]
  },
  {
   "cell_type": "code",
   "execution_count": 200,
   "metadata": {},
   "outputs": [
    {
     "name": "stdout",
     "output_type": "stream",
     "text": [
      "enter 1st stringashok\n",
      "enter 2nd stringarun\n",
      "string 1 is larger\n"
     ]
    }
   ],
   "source": [
    "string1=input('enter 1st string')\n",
    "string2=input('enter 2nd string')\n",
    "if(string1==string2):\n",
    "    print('string are equal')\n",
    "elif(string1>=string2):\n",
    "    print('string 1 is larger')\n",
    "else:\n",
    "    print('string 2 is larger')"
   ]
  },
  {
   "cell_type": "code",
   "execution_count": 212,
   "metadata": {},
   "outputs": [
    {
     "name": "stdout",
     "output_type": "stream",
     "text": [
      "enter a stringsdlkfjnsdf54 fdslkfdsnf54 sdlkfnds35\n",
      "['5', '4', '5', '4', '3', '5']\n",
      "['s', 'd', 'l', 'k', 'f', 'j', 'n', 's', 'd', 'f', 'f', 'd', 's', 'l', 'k', 'f', 'd', 's', 'n', 'f', 's', 'd', 'l', 'k', 'f', 'n', 'd', 's']\n",
      "545435\n",
      "sdlkfjnsdffdslkfdsnfsdlkfnds\n"
     ]
    }
   ],
   "source": [
    "S=input('enter a string')\n",
    "a=[]\n",
    "b=[]\n",
    "for i in S:\n",
    "    if i.isdigit():\n",
    "        a.append(i)\n",
    "    if i.isalpha():\n",
    "        b.append(i)\n",
    "print(a)\n",
    "print(b)\n",
    "str1 = ''.join(a)\n",
    "str2 = ''.join(b)\n",
    "print(str1)\n",
    "print(str2)"
   ]
  },
  {
   "cell_type": "code",
   "execution_count": 215,
   "metadata": {},
   "outputs": [
    {
     "name": "stdout",
     "output_type": "stream",
     "text": [
      "enter characters65sd4f5sd4f68sdf435g15f4h3gf5h4gh\n",
      "{'6': 2, '5': 5, 's': 3, 'd': 3, '4': 5, 'f': 5, '8': 1, '3': 2, 'g': 3, '1': 1, 'h': 3}\n"
     ]
    }
   ],
   "source": [
    "listOfCharac={}\n",
    "a=input('enter characters')\n",
    "for s in a:\n",
    "    if s in listOfCharac.keys():\n",
    "        listOfCharac[s]+=1\n",
    "    else:\n",
    "        listOfCharac[s]=1\n",
    "print (listOfCharac)"
   ]
  },
  {
   "cell_type": "code",
   "execution_count": 2,
   "metadata": {},
   "outputs": [
    {
     "name": "stdout",
     "output_type": "stream",
     "text": [
      "enter a repeating sentenceashok si very good but he is very bad but ashok is ashok\n",
      "{'ashok': 3, 'si': 1, 'very': 2, 'good': 1, 'but': 2, 'he': 1, 'is': 2, 'bad': 1}\n",
      "ashok    3\n",
      "si       1\n",
      "very     2\n",
      "good     1\n",
      "but      2\n",
      "he       1\n",
      "is       2\n",
      "bad      1\n",
      "dtype: int64\n",
      "3\n"
     ]
    }
   ],
   "source": [
    "import pandas as pd\n",
    "from pandas import Series\n",
    "\n",
    "listOfCharac={}\n",
    "a=input('enter a repeating sentence')\n",
    "b=a.split(' ')\n",
    "for s in b:\n",
    "    if s in listOfCharac.keys():\n",
    "        listOfCharac[s]+=1\n",
    "    else:\n",
    "        listOfCharac[s]=1\n",
    "print (listOfCharac)\n",
    "\n",
    "max1=max([i for i in listOfCharac.values()])\n",
    "min1=min([i for i in listOfCharac.values()])\n",
    "c=Series(listOfCharac)\n",
    "print(c)\n",
    "print(c.max())\n"
   ]
  },
  {
   "cell_type": "code",
   "execution_count": 1,
   "metadata": {},
   "outputs": [
    {
     "name": "stdout",
     "output_type": "stream",
     "text": [
      "enter a repeating sentenceashok ashok ashok arun\n",
      "{'ashok': 3, 'arun': 1}\n",
      "ashok 3\n",
      "arun 1\n"
     ]
    }
   ],
   "source": [
    "import pandas as pd\n",
    "from pandas import Series\n",
    "\n",
    "listOfCharac={}\n",
    "a=input('enter a repeating sentence')\n",
    "b=a.split(' ')\n",
    "for s in b:\n",
    "    if s in listOfCharac.keys():\n",
    "        listOfCharac[s]+=1\n",
    "    else:\n",
    "        listOfCharac[s]=1\n",
    "print (listOfCharac)\n",
    "\n",
    "maximum = max(listOfCharac, key=listOfCharac.get)  # Just use 'min' instead of 'max' for minimum.\n",
    "print(maximum, listOfCharac[maximum])\n",
    "minimum=min(listOfCharac, key=listOfCharac.get)\n",
    "print(minimum, listOfCharac[minimum])\n",
    "\n",
    "#c=Series(listOfCharac)\n",
    "#print(c)\n",
    "#print(c.max())\n"
   ]
  },
  {
   "cell_type": "code",
   "execution_count": null,
   "metadata": {},
   "outputs": [],
   "source": [
    "#wap that accepts a sentence and calculates the number of letters and digits in sentence\n",
    "a=input(\"enter a sentence\")\n",
    "b=c=0\n",
    "for x in a:\n",
    "    if x.isalpha():\n",
    "        b=b+1\n",
    "    elif x.isdigit():\n",
    "        c=c+1\n",
    "print(b)\n",
    "print(c)\n"
   ]
  },
  {
   "cell_type": "code",
   "execution_count": null,
   "metadata": {},
   "outputs": [],
   "source": [
    "#create a list which has elements like: 1*1,2*2,3*3......\n",
    "#list comprehension\n",
    "n=int(input(\"enter the value of n\"))\n",
    "a=list(range(n))\n",
    "sq=[i*i for i in a]\n",
    "print(sq)\n",
    "    \n",
    "\n",
    "\n"
   ]
  },
  {
   "cell_type": "code",
   "execution_count": null,
   "metadata": {},
   "outputs": [],
   "source": [
    "#rock scissor and paper\n",
    "n=int(input(\"enter the loop no\"))\n",
    "player1=0;player2=0\n",
    "print(\"rock=1,scissor=2,paper=3\")\n",
    "for data in range(0,n):\n",
    "    p1=int(input())\n",
    "    p2=int(input())\n",
    "    if p1==1 and p2==2:\n",
    "        palyer1+=1\n",
    "    elif p1==1 and p2==3:\n",
    "        player2+=1\n",
    "    elif p1==2 and p2==3:\n",
    "        player1+=1\n",
    "    elif p1==2 and p2==1:\n",
    "        player1+=1\n",
    "    elif p1==3 and p2==1:\n",
    "        player1+=1\n",
    "    elif p1==3 and p2==2:\n",
    "        player1+=1\n",
    "    else:\n",
    "        print(\"same inputs\")\n",
    "if(player1>player2):\n",
    "    print(\"player1 wins\")\n",
    "else:\n",
    "    print(\"player2 wins\")\n",
    "        "
   ]
  },
  {
   "cell_type": "code",
   "execution_count": 9,
   "metadata": {},
   "outputs": [
    {
     "name": "stdout",
     "output_type": "stream",
     "text": [
      "no of terms20\n",
      "Fibonacci upto 20 :\n",
      "0\n",
      "1\n",
      "1\n",
      "2\n",
      "3\n",
      "5\n",
      "8\n",
      "13\n",
      "21\n",
      "34\n",
      "55\n",
      "89\n",
      "144\n",
      "233\n",
      "377\n",
      "610\n",
      "987\n",
      "1597\n",
      "2584\n",
      "4181\n"
     ]
    }
   ],
   "source": [
    "#fibonacci\n",
    "n=int(input(\"no of terms\"))\n",
    "n1=0\n",
    "n2=1\n",
    "c=0\n",
    "print(\"Fibonacci upto\",n,\":\")\n",
    "while(c<n):\n",
    "    print(n1)\n",
    "    n3=n1+n2\n",
    "    n1=n2\n",
    "    n2=n3\n",
    "    c+=1"
   ]
  },
  {
   "cell_type": "code",
   "execution_count": 8,
   "metadata": {},
   "outputs": [
    {
     "name": "stdout",
     "output_type": "stream",
     "text": [
      "[0, 1, 1, 2, 3, 5, 8, 13, 21, 34, 55, 89, 144, 233, 377, 610, 987, 1597, 2584, 4181]\n"
     ]
    }
   ],
   "source": [
    "#fibonacci series\n",
    "def fibonacci(nterms):\n",
    "    n1=0\n",
    "    n2=1\n",
    "    Series=[n1,n2]\n",
    "    for i in range(nterms-2):\n",
    "        nth=n1+n2\n",
    "        Series.append(nth)\n",
    "        n1,n2=n2,nth\n",
    "    return Series\n",
    "\n",
    "Fibo=fibonacci(20)\n",
    "print(Fibo)\n",
    "\n",
    "   "
   ]
  },
  {
   "cell_type": "code",
   "execution_count": 1,
   "metadata": {},
   "outputs": [
    {
     "name": "stdout",
     "output_type": "stream",
     "text": [
      "1275\n"
     ]
    }
   ],
   "source": [
    "#Write a a program to find the sum of first 50 natural numbers starting from 1\n",
    "sum2=0\n",
    "al=list(range(1,51))\n",
    "for i in al:\n",
    "    sum2+=i\n",
    "print(sum2)"
   ]
  },
  {
   "cell_type": "code",
   "execution_count": 2,
   "metadata": {},
   "outputs": [
    {
     "name": "stdout",
     "output_type": "stream",
     "text": [
      "65807\n"
     ]
    }
   ],
   "source": [
    "#Write a program to to find the sum of all the numbers between 555 and 1111 which are divisible by 7\n",
    "count=555\n",
    "sum=0\n",
    "d=list(range(555,1111))\n",
    "for x in d:\n",
    "    count+=1\n",
    "    if(count%7==0):\n",
    "        sum+=count\n",
    "print(sum)"
   ]
  },
  {
   "cell_type": "code",
   "execution_count": 4,
   "metadata": {},
   "outputs": [
    {
     "name": "stdout",
     "output_type": "stream",
     "text": [
      "52647\n"
     ]
    }
   ],
   "source": [
    "#Write a program to to find the sum of all the numbers between 555 and 1111 which are divisible by 7 and not divisible by 5\n",
    "count=555\n",
    "sum=0\n",
    "d=list(range(555,1111))\n",
    "for x in d:\n",
    "    count+=1\n",
    "    if((count%7==0) & (count%5!=0)):\n",
    "        sum+=count\n",
    "print(sum)"
   ]
  },
  {
   "cell_type": "code",
   "execution_count": 2,
   "metadata": {},
   "outputs": [
    {
     "name": "stdout",
     "output_type": "stream",
     "text": [
      "79\n"
     ]
    }
   ],
   "source": [
    "#Write a program to count the number of numbers between 555 and 1111 which are divisible by 7\n",
    "count=0\n",
    "d=list(range(555,1111))\n",
    "for x in d:\n",
    "    if(x%7==0):\n",
    "        count=count+1\n",
    "print(count)"
   ]
  },
  {
   "cell_type": "code",
   "execution_count": 6,
   "metadata": {},
   "outputs": [
    {
     "name": "stdout",
     "output_type": "stream",
     "text": [
      "[1, 4, 9, 16, 25, 36, 49, 64, 81, 100]\n",
      "385\n"
     ]
    }
   ],
   "source": [
    "#Write a program to compute the sum of squares of first 10 natural numbers\n",
    "sum1=0\n",
    "a=list(range(1,11))\n",
    "s=[i*i for i in a]\n",
    "print(s)\n",
    "for k in s:\n",
    "    sum1+=k\n",
    "print(sum1)"
   ]
  },
  {
   "cell_type": "code",
   "execution_count": 12,
   "metadata": {},
   "outputs": [
    {
     "name": "stdout",
     "output_type": "stream",
     "text": [
      "43302432\n"
     ]
    }
   ],
   "source": [
    "# Write a program to print the sum of squares of all the even numbers between 334 and 667\n",
    "sum=0\n",
    "a=list(range(334,667,2))\n",
    "sq=[i*i for i in a]\n",
    "for j in sq:\n",
    "    sum+=j\n",
    "print(sum)"
   ]
  },
  {
   "cell_type": "code",
   "execution_count": 17,
   "metadata": {},
   "outputs": [
    {
     "name": "stdout",
     "output_type": "stream",
     "text": [
      "True\n"
     ]
    }
   ],
   "source": [
    "#prime or not\n",
    "import math\n",
    "def isPrime(n):\n",
    "    for i in range(2,int(math.sqrt(n)+1)):\n",
    "        if n%i==0:\n",
    "            return False\n",
    "    return True\n",
    "\n",
    "x=isPrime(11)\n",
    "print(x)"
   ]
  },
  {
   "cell_type": "code",
   "execution_count": 19,
   "metadata": {},
   "outputs": [
    {
     "name": "stdout",
     "output_type": "stream",
     "text": [
      "enter number20\n",
      "[2, 3, 5, 7, 11, 13, 17, 19]\n"
     ]
    }
   ],
   "source": [
    "#prime series\n",
    "def PrimeSeries(nterms):\n",
    "    Series=[]\n",
    "    for i in range(2,nterms):\n",
    "        nth=isPrime(i)\n",
    "        if(nth):\n",
    "            Series.append(i)\n",
    "    return Series\n",
    "\n",
    "Prime=PrimeSeries(int(input(\"enter number\")))\n",
    "print(Prime)"
   ]
  },
  {
   "cell_type": "code",
   "execution_count": 21,
   "metadata": {},
   "outputs": [
    {
     "name": "stdout",
     "output_type": "stream",
     "text": [
      "[1, 2, 3, 5, 7, 11, 13, 17, 19, 23, 29, 31, 37, 41, 43, 47, 53, 59, 61, 67, 71, 73, 79, 83, 89, 97, 101, 103, 107, 109, 113, 127, 131, 137, 139, 149, 151, 157, 163, 167, 173, 179, 181, 191, 193, 197, 199, 211, 223, 227, 229, 233, 239, 241, 251, 257, 263, 269, 271, 277, 281, 283, 293, 307, 311, 313, 317, 331, 337, 347, 349, 353, 359, 367, 373, 379, 383, 389, 397, 401, 409, 419, 421, 431, 433, 439, 443, 449, 457, 461, 463, 467, 479, 487, 491, 499, 503, 509, 521, 523, 541, 547, 557, 563, 569, 571, 577, 587, 593, 599, 601, 607, 613, 617, 619, 631, 641, 643, 647, 653, 659, 661, 673, 677, 683, 691, 701, 709, 719, 727, 733, 739, 743, 751, 757, 761, 769, 773, 787, 797, 809, 811, 821, 823, 827, 829, 839, 853, 857, 859, 863, 877, 881, 883, 887, 907, 911, 919, 929, 937, 941, 947, 953, 967, 971, 977, 983, 991, 997]\n"
     ]
    }
   ],
   "source": [
    "#prime range\n",
    "def PrimeRange(begin=2,end=100):\n",
    "    Series=[]\n",
    "    for i in range(begin,end):\n",
    "        nth=isPrime(i)\n",
    "        if(nth):\n",
    "            Series.append(i)\n",
    "    return Series\n",
    "\n",
    "Prime=PrimeRange(1,1000)\n",
    "print(Prime)"
   ]
  },
  {
   "cell_type": "code",
   "execution_count": 22,
   "metadata": {},
   "outputs": [
    {
     "name": "stdout",
     "output_type": "stream",
     "text": [
      "22 33 21 23 25.67 Windows\n",
      "22,16,26,Windows,25.670000\n",
      "    22,   Windows,25.670\n"
     ]
    }
   ],
   "source": [
    "#print methods\n",
    "numd=22\n",
    "numh=0x21\n",
    "numo=0o25\n",
    "numb=0b10111\n",
    "numf=25.67\n",
    "str1=\"Windows\"\n",
    "\n",
    "print(numd,numh,numo,numb,numf,str1)\n",
    "print(\"%d,%x,%o,%s,%f\"%(numd,numd,numd,str1,numf))\n",
    "print(\"%6d,%10s,%2.3f\"%(numd,str1,numf)) #padding, precision"
   ]
  },
  {
   "cell_type": "code",
   "execution_count": 24,
   "metadata": {},
   "outputs": [
    {
     "name": "stdout",
     "output_type": "stream",
     "text": [
      "list of inches  [24, 48, 72, 96, 120]\n"
     ]
    }
   ],
   "source": [
    "#feet to inches\n",
    "def f2i(feet):\n",
    "    l=[]\n",
    "    for i in feet:\n",
    "        i=i*12\n",
    "        l.append(i)\n",
    "    return l\n",
    "  \n",
    "a=f2i([2,4,6,8,10])\n",
    "print(\"list of inches \",a)\n",
    "\n",
    "    "
   ]
  },
  {
   "cell_type": "code",
   "execution_count": 25,
   "metadata": {},
   "outputs": [
    {
     "name": "stdout",
     "output_type": "stream",
     "text": [
      "<class 'map'> <map object at 0x0000000004E34588>\n",
      "(1000, 2000, 3000, 4000, 5000, 6000)\n"
     ]
    }
   ],
   "source": [
    "#meters to centimeters\n",
    "meters=[10,20,30,40,50,60]\n",
    "cent=map(lambda M:M*100,meters)\n",
    "print(type(cent),cent)\n",
    "print(tuple(cent))"
   ]
  },
  {
   "cell_type": "code",
   "execution_count": 27,
   "metadata": {},
   "outputs": [
    {
     "name": "stdout",
     "output_type": "stream",
     "text": [
      "its a palindrome\n"
     ]
    }
   ],
   "source": [
    "#check if a string is a palindrome or not\n",
    "def palindrome(str):\n",
    "    start=str[:]\n",
    "    reverse=str[::-1]\n",
    "    if(start==reverse):\n",
    "        print(\"its a palindrome\")\n",
    "    else:\n",
    "        print(\"not a palindrome\")\n",
    "        \n",
    "x=palindrome(\"maam\")"
   ]
  },
  {
   "cell_type": "code",
   "execution_count": null,
   "metadata": {},
   "outputs": [],
   "source": [
    "#excercise\n",
    "import re\n",
    "def A(sentence):\n",
    "    a=[]\n",
    "    l1=[]\n",
    "    newdt=sentence.split(' ')\n",
    "    l1.append(newdt)\n",
    "    print()\n",
    "    print(\"splitting sentence into words\")\n",
    "    print(l1)\n",
    "    print()\n",
    "    B(l1)\n",
    "    return l1\n",
    "\n",
    "\n",
    "def B(l1):\n",
    "    for i in l1:\n",
    "        r = re.compile(\".*[0-9]\")\n",
    "        newlist = list(filter(r.match,i))\n",
    "        print(\"extrating numbers, in case of presence of any special char that is also extracted\")\n",
    "        print(newlist)\n",
    "        print()\n",
    "        C(newlist)\n",
    "    return newlist\n",
    "        \n",
    "def C(newlist):\n",
    "    a=[]\n",
    "    nl=[]\n",
    "    for j in newlist:\n",
    "        r=re.compile(\".*[0-9]\")\n",
    "        nl=list(filter(r.match,j))\n",
    "        a+=nl\n",
    "    D(a)\n",
    "    return a\n",
    "\n",
    "def D(a):\n",
    "    print(\"The extracted numers are :\")\n",
    "    print(a)\n",
    "\n",
    "x=A(input(\"enter sentence \"))\n",
    "\n",
    "\n"
   ]
  },
  {
   "cell_type": "code",
   "execution_count": 1,
   "metadata": {},
   "outputs": [
    {
     "name": "stdout",
     "output_type": "stream",
     "text": [
      "[[0 4 0 1]\n",
      " [3 0 4 0]\n",
      " [1 0 0 4]\n",
      " [0 2 1 0]]\n",
      "[[2 4 3 1]\n",
      " [3 1 4 2]\n",
      " [1 3 2 4]\n",
      " [4 2 1 3]]\n"
     ]
    }
   ],
   "source": [
    "#sudoku\n",
    "import numpy as np\n",
    "\n",
    "c=[[0,4,0,1],[3,0,4,0],[1,0,0,4],[0,2,1,0]]\n",
    "matrix=np.array(c)\n",
    "print(matrix)\n",
    "\n",
    "def mat(lis):\n",
    "    for lis_1 in lis:\n",
    "        for row in range(0,4):\n",
    "            for col in range(0,4):\n",
    "                if lis_1 not in matrix[row] and lis_1 not in matrix[:,col]:\n",
    "                    if matrix[row,col]==0:\n",
    "                        matrix[row,col]=lis_1\n",
    "    return matrix\n",
    "lis=list(range(1,5))\n",
    "print(mat(lis))"
   ]
  },
  {
   "cell_type": "code",
   "execution_count": 1,
   "metadata": {},
   "outputs": [
    {
     "name": "stdout",
     "output_type": "stream",
     "text": [
      "enter the number5\n",
      "The factorial is 120\n"
     ]
    }
   ],
   "source": [
    "# to find the factorial of a number:\n",
    "def fact_no(n):\n",
    "    if (n==0 or n==1):\n",
    "        return 1\n",
    "    else:\n",
    "        return n*fact_no(n-1)\n",
    "    \n",
    "x=fact_no(int(input('enter the number')))\n",
    "print('The factorial is',x)\n"
   ]
  },
  {
   "cell_type": "code",
   "execution_count": 9,
   "metadata": {},
   "outputs": [
    {
     "name": "stdout",
     "output_type": "stream",
     "text": [
      "Enter the principle amount:10000\n",
      "enter the rate:5\n",
      "Enter the time in years3\n",
      "1500.0\n"
     ]
    }
   ],
   "source": [
    "# to find the simple interest:\n",
    "p=float(input('Enter the principle amount:'))\n",
    "r=float(input('enter the rate:'))\n",
    "t=float(input('Enter the time in years'))\n",
    "\n",
    "def si(p,r,t):\n",
    "    si_no=float((p*r*t)/100)\n",
    "    return si_no\n",
    "\n",
    "k=si(p,r,t)\n",
    "print(k)\n"
   ]
  },
  {
   "cell_type": "code",
   "execution_count": 1,
   "metadata": {},
   "outputs": [
    {
     "name": "stdout",
     "output_type": "stream",
     "text": [
      "Enter a number: 5\n",
      "5 is not an Armstrong number\n"
     ]
    }
   ],
   "source": [
    "# to check if the number is armstrong or not:\n",
    "#An Armstrong number of three digits is an integer such that the sum of the cubes of \n",
    "#its digits is equal to the number itself. For example, 371 is an Armstrong number since 3**3 + 7**3 + 1**3 = 371.\n",
    "\n",
    "\n",
    "#Armstrong number 1: 0\n",
    "#Armstrong number 2: 1\n",
    "#Armstrong number 3: 153\n",
    "#Armstrong number 4: 370\n",
    "#Armstrong number 5: 371\n",
    "#Armstrong number 6: 407\n",
    "\n",
    "num = int(input(\"Enter a number: \"))\n",
    "sum = 0\n",
    "temp = num\n",
    "\n",
    "while temp > 0:\n",
    "    digit = temp % 10\n",
    "    sum += digit ** 3\n",
    "    temp //= 10\n",
    "\n",
    "if num == sum:\n",
    "    print(num,\"is an Armstrong number\")\n",
    "else:\n",
    "    print(num,\"is not an Armstrong number\") "
   ]
  },
  {
   "cell_type": "code",
   "execution_count": null,
   "metadata": {},
   "outputs": [],
   "source": [
    "#Find Armstrong Number in an Interval\n",
    "# Program to check Armstrong numbers in certain interval\n",
    "\n",
    "lower = 100\n",
    "upper = 2000\n",
    "\n",
    "# To take input from the user\n",
    "# lower = int(input(\"Enter lower range: \"))\n",
    "# upper = int(input(\"Enter upper range: \"))\n",
    "\n",
    "for num in range(lower, upper + 1):\n",
    "    order = len(str(num))\n",
    "    sum = 0\n",
    "    temp = num\n",
    "while temp > 0:\n",
    "    digit = temp % 10\n",
    "    sum += digit ** order\n",
    "    temp //= 1\n",
    "if num == sum:\n",
    "    print(num)"
   ]
  },
  {
   "cell_type": "code",
   "execution_count": null,
   "metadata": {},
   "outputs": [],
   "source": [
    "#largest among 3 numbers\n",
    "\n",
    "num1 = 10\n",
    "num2 = 16\n",
    "num3 = 15\n",
    "\n",
    "\n",
    "if (num1 >= num2) and (num1 >= num3):\n",
    "    largest = num1\n",
    "elif (num2 >= num1) and (num2 >= num3):\n",
    "    largest = num2\n",
    "else:\n",
    "    largest = num3\n",
    "\n",
    "print(\"The largest number between\",num1,\",\",num2,\"and\",num3,\"is\",largest)"
   ]
  },
  {
   "cell_type": "code",
   "execution_count": 41,
   "metadata": {},
   "outputs": [
    {
     "name": "stdout",
     "output_type": "stream",
     "text": [
      "Enter a number: 5\n",
      "Positive number\n"
     ]
    }
   ],
   "source": [
    "#Check if a Number is Positive, Negative or 0\n",
    "num = float(input(\"Enter a number: \"))\n",
    "if num > 0:\n",
    "    print(\"Positive number\")\n",
    "elif num == 0:\n",
    "    print(\"Zero\")\n",
    "else:\n",
    "    print(\"Negative number\")"
   ]
  },
  {
   "cell_type": "code",
   "execution_count": 10,
   "metadata": {},
   "outputs": [
    {
     "name": "stdout",
     "output_type": "stream",
     "text": [
      "12 is a harshad number\n"
     ]
    }
   ],
   "source": [
    "#harshad number\n",
    "#if a number is divisible by the sum of its digits, then it will be known as a Harshad Number.\n",
    "\n",
    "#For example:\n",
    "\n",
    "#The number 156 is divisible by the sum (12) of its digits (1, 5, 6 ).\n",
    "\n",
    "#Some Harshad numbers are 8, 54, 120, etc.\n",
    "num = 12;    \n",
    "rem = sum = 0;    \n",
    "     \n",
    "#Make a copy of num and store it in variable n    \n",
    "n = num;    \n",
    "     \n",
    "#Calculates sum of digits    \n",
    "while(num > 0):    \n",
    "    rem = num%10;    \n",
    "    sum = sum + rem;    \n",
    "    num = num//10;    \n",
    "     \n",
    "#Checks whether the number is divisible by the sum of digits    \n",
    "if(n%sum == 0):    \n",
    "    print(str(n) + \" is a harshad number\");    \n",
    "else:    \n",
    "    print(str(n) + \" is not a harshad number\"); "
   ]
  }
 ],
 "metadata": {
  "kernelspec": {
   "display_name": "Python 3",
   "language": "python",
   "name": "python3"
  },
  "language_info": {
   "codemirror_mode": {
    "name": "ipython",
    "version": 3
   },
   "file_extension": ".py",
   "mimetype": "text/x-python",
   "name": "python",
   "nbconvert_exporter": "python",
   "pygments_lexer": "ipython3",
   "version": "3.7.1"
  }
 },
 "nbformat": 4,
 "nbformat_minor": 2
}
