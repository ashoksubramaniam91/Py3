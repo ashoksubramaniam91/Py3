{
 "cells": [
  {
   "cell_type": "code",
   "execution_count": 5,
   "metadata": {
    "scrolled": true
   },
   "outputs": [
    {
     "name": "stdout",
     "output_type": "stream",
     "text": [
      " *\n",
      " * *\n",
      " * * *\n",
      " * * * *\n",
      " * * * * *\n",
      " * * * *\n",
      " * * *\n",
      " * *\n",
      " *\n"
     ]
    }
   ],
   "source": [
    "for i in range(1,6):\n",
    "    print(i* ' *')\n",
    "\n",
    "for i in range(4,0,-1):\n",
    "    print(i * ' *')"
   ]
  },
  {
   "cell_type": "code",
   "execution_count": 8,
   "metadata": {},
   "outputs": [
    {
     "name": "stdout",
     "output_type": "stream",
     "text": [
      "*\n",
      "**\n",
      "***\n",
      "****\n",
      "*****\n",
      "******\n",
      "*****\n",
      "****\n",
      "***\n",
      "**\n",
      "*\n"
     ]
    }
   ],
   "source": [
    "i=1\n",
    "while i<=5:\n",
    "    print('*'*i)\n",
    "    i=i+1\n",
    "while i>=1:\n",
    "    print('*'*i)\n",
    "    i=i-1"
   ]
  },
  {
   "cell_type": "code",
   "execution_count": 26,
   "metadata": {},
   "outputs": [
    {
     "name": "stdout",
     "output_type": "stream",
     "text": [
      "\n",
      "1\n",
      "22\n",
      "333\n",
      "4444\n",
      "55555\n",
      "666666\n",
      "7777777\n",
      "88888888\n",
      "999999999\n"
     ]
    }
   ],
   "source": [
    "for i in range(10):\n",
    "    print(str(i) * i)"
   ]
  },
  {
   "cell_type": "code",
   "execution_count": 10,
   "metadata": {},
   "outputs": [
    {
     "name": "stdout",
     "output_type": "stream",
     "text": [
      "fizzbuzz\n",
      "1\n",
      "2\n",
      "fizz\n",
      "4\n",
      "buzz\n",
      "fizz\n",
      "7\n",
      "8\n",
      "fizz\n",
      "buzz\n",
      "11\n",
      "fizz\n",
      "13\n",
      "14\n",
      "fizzbuzz\n",
      "16\n",
      "17\n",
      "fizz\n",
      "19\n",
      "buzz\n",
      "fizz\n",
      "22\n",
      "23\n",
      "fizz\n",
      "buzz\n",
      "26\n",
      "fizz\n",
      "28\n",
      "29\n",
      "fizzbuzz\n",
      "31\n",
      "32\n",
      "fizz\n",
      "34\n",
      "buzz\n",
      "fizz\n",
      "37\n",
      "38\n",
      "fizz\n",
      "buzz\n",
      "41\n",
      "fizz\n",
      "43\n",
      "44\n",
      "fizzbuzz\n",
      "46\n",
      "47\n",
      "fizz\n",
      "49\n"
     ]
    }
   ],
   "source": [
    "for fizzbuzz in range(50):\n",
    "    if fizzbuzz % 3 == 0 and fizzbuzz % 5 == 0:\n",
    "        print(\"fizzbuzz\")\n",
    "        continue\n",
    "    elif fizzbuzz % 3 == 0:\n",
    "        print(\"fizz\")\n",
    "        continue\n",
    "    elif fizzbuzz % 5 == 0:\n",
    "        print(\"buzz\")\n",
    "        continue\n",
    "    print(fizzbuzz)"
   ]
  },
  {
   "cell_type": "code",
   "execution_count": 12,
   "metadata": {},
   "outputs": [
    {
     "name": "stdout",
     "output_type": "stream",
     "text": [
      "Input number of rows: 3\n",
      "Input number of columns: 3\n",
      "[[0, 0, 0], [0, 1, 2], [0, 2, 4]]\n"
     ]
    }
   ],
   "source": [
    "#Write a Python program which takes two digits m (row) and n (column) as input and generates a two-dimensional array. The element value in the i-th row and j-th column of the array should be i*j.\n",
    "row_num = int(input(\"Input number of rows: \"))\n",
    "col_num = int(input(\"Input number of columns: \"))\n",
    "multi_list = [[0 for col in range(col_num)] for row in range(row_num)]\n",
    "\n",
    "for row in range(row_num):\n",
    "    for col in range(col_num):\n",
    "        multi_list[row][col]= row*col\n",
    "\n",
    "print(multi_list)"
   ]
  },
  {
   "cell_type": "code",
   "execution_count": 14,
   "metadata": {},
   "outputs": [
    {
     "name": "stdout",
     "output_type": "stream",
     "text": [
      "Input a string3\n",
      "Letters 0\n",
      "Digits 1\n"
     ]
    }
   ],
   "source": [
    "#Write a Python program that accepts a string and calculate the number of digits and letters.\n",
    "\n",
    "\n",
    "s = input(\"Input a string\")\n",
    "d=l=0\n",
    "for c in s:\n",
    "    if c.isdigit():\n",
    "        d=d+1\n",
    "    elif c.isalpha():\n",
    "        l=l+1\n",
    "    else:\n",
    "        pass\n",
    "print(\"Letters\", l)\n",
    "print(\"Digits\", d)"
   ]
  },
  {
   "cell_type": "code",
   "execution_count": 16,
   "metadata": {},
   "outputs": [
    {
     "name": "stdout",
     "output_type": "stream",
     "text": [
      "Input a letter of the alphabet: e\n",
      "e is a vowel.\n"
     ]
    }
   ],
   "source": [
    "#vowel or not\n",
    "l = input(\"Input a letter of the alphabet: \")\n",
    "\n",
    "if l in ('a', 'e', 'i', 'o', 'u'):\n",
    "\tprint(\"%s is a vowel.\" % l)\n",
    "elif l == 'y':\n",
    "\tprint(\"Sometimes letter y stand for vowel, sometimes stand for consonant.\")\n",
    "else:\n",
    "\tprint(\"%s is a consonant.\" % l) "
   ]
  },
  {
   "cell_type": "code",
   "execution_count": 19,
   "metadata": {},
   "outputs": [
    {
     "name": "stdout",
     "output_type": "stream",
     "text": [
      "List of months: January, February, March, April, May, June, July, August, September, October, November, December\n",
      "Input the name of Month: April\n",
      "No. of days: 30 days\n"
     ]
    }
   ],
   "source": [
    "#Write a Python program to convert month name to a number of days.\n",
    "print(\"List of months: January, February, March, April, May, June, July, August, September, October, November, December\")\n",
    "month_name = input(\"Input the name of Month: \")\n",
    "\n",
    "if month_name == \"February\":\n",
    "\tprint(\"No. of days: 28/29 days\")\n",
    "elif month_name in (\"April\", \"June\", \"September\", \"November\"):\n",
    "\tprint(\"No. of days: 30 days\")\n",
    "elif month_name in (\"January\", \"March\", \"May\", \"July\", \"August\", \"October\", \"December\"):\n",
    "\tprint(\"No. of days: 31 day\")\n",
    "else:\n",
    "\tprint(\"Wrong month name\") "
   ]
  },
  {
   "cell_type": "code",
   "execution_count": 21,
   "metadata": {},
   "outputs": [
    {
     "name": "stdout",
     "output_type": "stream",
     "text": [
      "Input lengths of the triangle sides: \n",
      "x: 5\n",
      "y: 6\n",
      "z: 8\n",
      "Scalene triangle\n"
     ]
    }
   ],
   "source": [
    "#Write a Python program to check a triangle is equilateral, isosceles or scalene.\n",
    "#Note :\n",
    "#An equilateral triangle is a triangle in which all three sides are equal.\n",
    "#A scalene triangle is a triangle that has three unequal sides.\n",
    "#An isosceles triangle is a triangle with (at least) two equal sides.\n",
    "print(\"Input lengths of the triangle sides: \")\n",
    "x = int(input(\"x: \"))\n",
    "y = int(input(\"y: \"))\n",
    "z = int(input(\"z: \"))\n",
    "\n",
    "if x == y == z:\n",
    "\tprint(\"Equilateral triangle\")\n",
    "elif x==y or y==z or z==x:\n",
    "\tprint(\"isosceles triangle\")\n",
    "else:\n",
    "\tprint(\"Scalene triangle\")"
   ]
  },
  {
   "cell_type": "code",
   "execution_count": 25,
   "metadata": {},
   "outputs": [
    {
     "name": "stdout",
     "output_type": "stream",
     "text": [
      "Input the month (e.g. January, February etc.): April\n",
      "Input the day: 29\n",
      "Season is spring\n"
     ]
    }
   ],
   "source": [
    "#season of the month\n",
    "\n",
    "month = input(\"Input the month (e.g. January, February etc.): \")\n",
    "day = int(input(\"Input the day: \"))\n",
    "\n",
    "if month in ('January', 'February', 'March'):\n",
    "\tseason = 'winter'\n",
    "elif month in ('April', 'May', 'June'):\n",
    "\tseason = 'spring'\n",
    "elif month in ('July', 'August', 'September'):\n",
    "\tseason = 'summer'\n",
    "else:\n",
    "\tseason = 'autumn'\n",
    "\n",
    "if (month == 'March') and (day > 19):\n",
    "\tseason = 'spring'\n",
    "elif (month == 'June') and (day > 20):\n",
    "\tseason = 'summer'\n",
    "elif (month == 'September') and (day > 21):\n",
    "\tseason = 'autumn'\n",
    "elif (month == 'December') and (day > 20):\n",
    "\tseason = 'winter'\n",
    "\n",
    "print(\"Season is\",season)"
   ]
  },
  {
   "cell_type": "code",
   "execution_count": 29,
   "metadata": {},
   "outputs": [
    {
     "name": "stdout",
     "output_type": "stream",
     "text": [
      "ab\n",
      "ab\n",
      "ca\n",
      "None\n"
     ]
    }
   ],
   "source": [
    "#Write a Python program to find the first repeated word in a given string.\n",
    "def first_repeated_word(str1):\n",
    "    temp = set()\n",
    "    for word in str1.split():\n",
    "        if word in temp:\n",
    "            return word;\n",
    "        else:\n",
    "            temp.add(word)\n",
    "    return 'None'\n",
    "print(first_repeated_word(\"ab ca bc ab\"))\n",
    "print(first_repeated_word(\"ab ca bc ab ca ab bc\"))\n",
    "print(first_repeated_word(\"ab ca bc ca ab bc\"))\n",
    "print(first_repeated_word(\"ab ca bc\"))"
   ]
  },
  {
   "cell_type": "code",
   "execution_count": 31,
   "metadata": {},
   "outputs": [
    {
     "name": "stdout",
     "output_type": "stream",
     "text": [
      "('of', 4)\n"
     ]
    }
   ],
   "source": [
    "#Write a Python program to find the second most repeated word in a given string.\n",
    "\n",
    "\n",
    "def word_count(str):\n",
    "    counts = dict()\n",
    "    words = str.split()\n",
    "\n",
    "    for word in words:\n",
    "        if word in counts:\n",
    "            counts[word] += 1\n",
    "        else:\n",
    "            counts[word] = 1\n",
    "\n",
    "    counts_x = sorted(counts.items(), key=lambda kv: kv[1])\n",
    "    #print(counts_x)\n",
    "    return counts_x[-2]\n",
    " \n",
    "print(word_count(\"Both of these issues are fixed by postponing the evaluation of annotations. Instead of compiling code which executes expressions in annotations at their definition time, the compiler stores the annotation in a string form equivalent to the AST of the expression in question. If needed, annotations can be resolved at runtime using typing.get_type_hints(). In the common case where this is not required, the annotations are cheaper to store (since short strings are interned by the interpreter) and make startup time faster.\"))"
   ]
  },
  {
   "cell_type": "code",
   "execution_count": 34,
   "metadata": {},
   "outputs": [
    {
     "name": "stdout",
     "output_type": "stream",
     "text": [
      "Original String :  The quick Brow Fox\n",
      "No. of Upper case characters :  3\n",
      "No. of Lower case Characters :  12\n"
     ]
    }
   ],
   "source": [
    "#Write a Python function that accepts a string and calculate the number of upper case letters and lower case letters\n",
    "def string_test(s):\n",
    "    d={\"UPPER_CASE\":0, \"LOWER_CASE\":0}\n",
    "    for c in s:\n",
    "        if c.isupper():\n",
    "            d[\"UPPER_CASE\"]+=1\n",
    "        elif c.islower():\n",
    "            d[\"LOWER_CASE\"]+=1\n",
    "        else:\n",
    "            pass\n",
    "    print (\"Original String : \", s)\n",
    "    print (\"No. of Upper case characters : \", d[\"UPPER_CASE\"])\n",
    "    print (\"No. of Lower case Characters : \", d[\"LOWER_CASE\"])\n",
    "\n",
    "string_test('The quick Brow Fox')"
   ]
  },
  {
   "cell_type": "code",
   "execution_count": 39,
   "metadata": {},
   "outputs": [
    {
     "name": "stdout",
     "output_type": "stream",
     "text": [
      "[1, 2, 3, 4, 5]\n"
     ]
    }
   ],
   "source": [
    "#Write a Python function that takes a list and returns a new list with unique elements of the first list.\n",
    "def unique_list(l):\n",
    "    x = []\n",
    "    for a in l:\n",
    "        if a not in x:\n",
    "            x.append(a)\n",
    "    return x\n",
    "\n",
    "print(unique_list([1,2,3,3,3,3,4,5])) "
   ]
  },
  {
   "cell_type": "code",
   "execution_count": 41,
   "metadata": {},
   "outputs": [
    {
     "name": "stdout",
     "output_type": "stream",
     "text": [
      "[1]\n",
      "[1, 1]\n",
      "[1, 2, 1]\n",
      "[1, 3, 3, 1]\n",
      "[1, 4, 6, 4, 1]\n",
      "[1, 5, 10, 10, 5, 1]\n"
     ]
    },
    {
     "data": {
      "text/plain": [
       "True"
      ]
     },
     "execution_count": 41,
     "metadata": {},
     "output_type": "execute_result"
    }
   ],
   "source": [
    "#Write a Python function that that prints out the first n rows of Pascal's triangle.\n",
    "def pascal_triangle(n):\n",
    "    trow = [1]\n",
    "    y = [0]\n",
    "    for x in range(max(n,0)):\n",
    "        print(trow)\n",
    "        trow=[l+r for l,r in zip(trow+y, y+trow)]\n",
    "    return n>=1\n",
    "pascal_triangle(6) "
   ]
  },
  {
   "cell_type": "code",
   "execution_count": 43,
   "metadata": {},
   "outputs": [
    {
     "name": "stdout",
     "output_type": "stream",
     "text": [
      "True\n"
     ]
    }
   ],
   "source": [
    "#write a Python function to check whether a string is a pangram or not.\n",
    "#Pangrams are words or sentences containing every letter of the alphabet at least once.\n",
    "import string, sys\n",
    "def ispangram(str1, alphabet=string.ascii_lowercase):\n",
    "    alphaset = set(alphabet)\n",
    "    return alphaset <= set(str1.lower())\n",
    " \n",
    "print ( ispangram('The quick brown fox jumps over the lazy dog')) "
   ]
  },
  {
   "cell_type": "code",
   "execution_count": 45,
   "metadata": {},
   "outputs": [
    {
     "name": "stdout",
     "output_type": "stream",
     "text": [
      "[21 12 12 27 12 10]\n"
     ]
    }
   ],
   "source": [
    "#Write a NumPy program to generate six random integers between 10 and 30.\n",
    "import numpy as np\n",
    "x = np.random.randint(low=10, high=30, size=6)\n",
    "print(x)\n"
   ]
  },
  {
   "cell_type": "code",
   "execution_count": 46,
   "metadata": {},
   "outputs": [
    {
     "name": "stdout",
     "output_type": "stream",
     "text": [
      "[ 1.0968043  -1.36012969  0.04474626  0.41251217  0.97678151]\n"
     ]
    }
   ],
   "source": [
    "#Write a NumPy program to generate five random numbers from the normal distribution.\n",
    "import numpy as np\n",
    "x = np.random.normal(size=5)\n",
    "print(x)"
   ]
  }
 ],
 "metadata": {
  "kernelspec": {
   "display_name": "Python 3",
   "language": "python",
   "name": "python3"
  },
  "language_info": {
   "codemirror_mode": {
    "name": "ipython",
    "version": 3
   },
   "file_extension": ".py",
   "mimetype": "text/x-python",
   "name": "python",
   "nbconvert_exporter": "python",
   "pygments_lexer": "ipython3",
   "version": "3.7.1"
  }
 },
 "nbformat": 4,
 "nbformat_minor": 2
}
