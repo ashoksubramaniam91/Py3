{
 "cells": [
  {
   "cell_type": "markdown",
   "metadata": {},
   "source": [
    "#### Introduction to iterators in Python"
   ]
  },
  {
   "cell_type": "markdown",
   "metadata": {},
   "source": [
    "Q. To figure out all the built in methods for any python object "
   ]
  },
  {
   "cell_type": "code",
   "execution_count": 143,
   "metadata": {},
   "outputs": [
    {
     "data": {
      "text/plain": [
       "['__add__',\n",
       " '__class__',\n",
       " '__contains__',\n",
       " '__delattr__',\n",
       " '__delitem__',\n",
       " '__dir__',\n",
       " '__doc__',\n",
       " '__eq__',\n",
       " '__format__',\n",
       " '__ge__',\n",
       " '__getattribute__',\n",
       " '__getitem__',\n",
       " '__gt__',\n",
       " '__hash__',\n",
       " '__iadd__',\n",
       " '__imul__',\n",
       " '__init__',\n",
       " '__init_subclass__',\n",
       " '__iter__',\n",
       " '__le__',\n",
       " '__len__',\n",
       " '__lt__',\n",
       " '__mul__',\n",
       " '__ne__',\n",
       " '__new__',\n",
       " '__reduce__',\n",
       " '__reduce_ex__',\n",
       " '__repr__',\n",
       " '__reversed__',\n",
       " '__rmul__',\n",
       " '__setattr__',\n",
       " '__setitem__',\n",
       " '__sizeof__',\n",
       " '__str__',\n",
       " '__subclasshook__',\n",
       " 'append',\n",
       " 'clear',\n",
       " 'copy',\n",
       " 'count',\n",
       " 'extend',\n",
       " 'index',\n",
       " 'insert',\n",
       " 'pop',\n",
       " 'remove',\n",
       " 'reverse',\n",
       " 'sort']"
      ]
     },
     "execution_count": 143,
     "metadata": {},
     "output_type": "execute_result"
    }
   ],
   "source": [
    "a = [1,2,3,4,5]\n",
    "\n",
    "dir(a) #would list all the built in functions for 'a' "
   ]
  },
  {
   "cell_type": "code",
   "execution_count": 144,
   "metadata": {},
   "outputs": [],
   "source": [
    "itr = iter(a)"
   ]
  },
  {
   "cell_type": "code",
   "execution_count": 145,
   "metadata": {},
   "outputs": [
    {
     "data": {
      "text/plain": [
       "1"
      ]
     },
     "execution_count": 145,
     "metadata": {},
     "output_type": "execute_result"
    }
   ],
   "source": [
    "next(itr)"
   ]
  },
  {
   "cell_type": "markdown",
   "metadata": {},
   "source": [
    "Note : Keep calling itr(next) until all the elements of the list is printed "
   ]
  },
  {
   "cell_type": "markdown",
   "metadata": {},
   "source": [
    "Q. Creating a reverse iterator on a list "
   ]
  },
  {
   "cell_type": "code",
   "execution_count": 146,
   "metadata": {},
   "outputs": [],
   "source": [
    "ritr = reversed(a)"
   ]
  },
  {
   "cell_type": "code",
   "execution_count": 147,
   "metadata": {},
   "outputs": [
    {
     "data": {
      "text/plain": [
       "5"
      ]
     },
     "execution_count": 147,
     "metadata": {},
     "output_type": "execute_result"
    }
   ],
   "source": [
    "next(ritr)"
   ]
  },
  {
   "cell_type": "markdown",
   "metadata": {},
   "source": [
    "# In class lab exercise \n",
    "Q)What is the advantage of using iterators over using while loops on a list of elements ?"
   ]
  },
  {
   "cell_type": "code",
   "execution_count": null,
   "metadata": {},
   "outputs": [],
   "source": [
    "Iterators are faster than while loops, and have better memory efficiency"
   ]
  },
  {
   "cell_type": "markdown",
   "metadata": {},
   "source": [
    "q) What is a function ?"
   ]
  },
  {
   "cell_type": "code",
   "execution_count": null,
   "metadata": {},
   "outputs": [],
   "source": [
    "A function is a set of program, which performs secific task and returns a value, some function doest not return a value. A funcation can be reused just by calling it."
   ]
  },
  {
   "cell_type": "code",
   "execution_count": 148,
   "metadata": {},
   "outputs": [],
   "source": [
    "def greetings_call():   #This is function definition \n",
    "    print(\"Welcome..I am inside the function\")"
   ]
  },
  {
   "cell_type": "code",
   "execution_count": 149,
   "metadata": {},
   "outputs": [
    {
     "name": "stdout",
     "output_type": "stream",
     "text": [
      "Welcome..I am inside the function\n"
     ]
    }
   ],
   "source": [
    "greetings_call()  #This statment is to call the function which you have defined "
   ]
  },
  {
   "cell_type": "markdown",
   "metadata": {},
   "source": [
    "Q. Writing a function to add 2 numbers "
   ]
  },
  {
   "cell_type": "code",
   "execution_count": 150,
   "metadata": {},
   "outputs": [],
   "source": [
    "#The below is an example of functions with arguments \n",
    "\n",
    "def mysum(a,b):   \n",
    "    c=a+b\n",
    "    print(\"The sum of\",a ,\"and \",b ,\"=\",c )"
   ]
  },
  {
   "cell_type": "code",
   "execution_count": 151,
   "metadata": {},
   "outputs": [
    {
     "name": "stdout",
     "output_type": "stream",
     "text": [
      "The sum of 20 and  30 = 50\n"
     ]
    }
   ],
   "source": [
    "mysum(20,30) #Function call happens here"
   ]
  },
  {
   "cell_type": "markdown",
   "metadata": {},
   "source": [
    "Q. How to read input from the keyboard by promoting the user "
   ]
  },
  {
   "cell_type": "markdown",
   "metadata": {},
   "source": [
    "input() is used to read user input"
   ]
  },
  {
   "cell_type": "code",
   "execution_count": 152,
   "metadata": {},
   "outputs": [
    {
     "name": "stdout",
     "output_type": "stream",
     "text": [
      "Please enter your age :25\n",
      "your age is : 25\n"
     ]
    }
   ],
   "source": [
    "age = input(\"Please enter your age :\")\n",
    "print(\"your age is :\", age)"
   ]
  },
  {
   "cell_type": "markdown",
   "metadata": {},
   "source": [
    "Q. How` do we check the datatype of the variables ?"
   ]
  },
  {
   "cell_type": "code",
   "execution_count": 153,
   "metadata": {},
   "outputs": [
    {
     "data": {
      "text/plain": [
       "str"
      ]
     },
     "execution_count": 153,
     "metadata": {},
     "output_type": "execute_result"
    }
   ],
   "source": [
    "type(age)"
   ]
  },
  {
   "cell_type": "markdown",
   "metadata": {},
   "source": [
    "You would notice that the age variable is of type \"string\" , we need to convert it into a number in case if we need to perform any arithmatic operations."
   ]
  },
  {
   "cell_type": "code",
   "execution_count": 154,
   "metadata": {},
   "outputs": [
    {
     "name": "stdout",
     "output_type": "stream",
     "text": [
      "Pls enter your age:25\n"
     ]
    },
    {
     "data": {
      "text/plain": [
       "float"
      ]
     },
     "execution_count": 154,
     "metadata": {},
     "output_type": "execute_result"
    }
   ],
   "source": [
    "age=float(input(\"Pls enter your age:\"))\n",
    "type(age) "
   ]
  },
  {
   "cell_type": "markdown",
   "metadata": {},
   "source": [
    "# In class lab exercise :\n",
    "\n",
    "Write a program:\n",
    "\n",
    "Which accepts a number from the user (via input function) and passes it to a function to check if its an odd number or even number. "
   ]
  },
  {
   "cell_type": "code",
   "execution_count": 155,
   "metadata": {
    "scrolled": true
   },
   "outputs": [
    {
     "name": "stdout",
     "output_type": "stream",
     "text": [
      "enter a number 2\n",
      "number is even \n"
     ]
    }
   ],
   "source": [
    "def oddOrEven(num):\n",
    "    if num%2==0:\n",
    "        print(\"number is even \")\n",
    "    else:\n",
    "        print(\"number is odd \")\n",
    "        \n",
    "oddOrEven(int(input(\"enter a number \")))"
   ]
  },
  {
   "cell_type": "markdown",
   "metadata": {},
   "source": [
    "Q. Understanding the split() function in Python "
   ]
  },
  {
   "cell_type": "code",
   "execution_count": 156,
   "metadata": {},
   "outputs": [
    {
     "name": "stdout",
     "output_type": "stream",
     "text": [
      "['Hello', 'how', 'are', 'you', 'in', '30']\n"
     ]
    },
    {
     "data": {
      "text/plain": [
       "list"
      ]
     },
     "execution_count": 156,
     "metadata": {},
     "output_type": "execute_result"
    }
   ],
   "source": [
    "sent = \"Hello how are you in 30\"\n",
    "words = sent.split(\" \") # The \" \" would split the above sentence into words based on the space \" \" as a seperator. \n",
    "print(words)\n",
    "type(words)"
   ]
  },
  {
   "cell_type": "markdown",
   "metadata": {},
   "source": [
    "Q. Checking if a variable contains a number or not "
   ]
  },
  {
   "cell_type": "code",
   "execution_count": 157,
   "metadata": {},
   "outputs": [
    {
     "data": {
      "text/plain": [
       "True"
      ]
     },
     "execution_count": 157,
     "metadata": {},
     "output_type": "execute_result"
    }
   ],
   "source": [
    "myword =\"44\"\n",
    "myword.isdigit()"
   ]
  },
  {
   "cell_type": "markdown",
   "metadata": {},
   "source": [
    "# In class lab exercise : \n",
    "Write a program:\n",
    "Write a function which takes this string as an argument \"20 is less than 30 but greater than 11\" and print only the numbers."
   ]
  },
  {
   "cell_type": "code",
   "execution_count": 5,
   "metadata": {},
   "outputs": [
    {
     "name": "stdout",
     "output_type": "stream",
     "text": [
      "enter sentence 20 is less than 30 but greater than 11\n"
     ]
    },
    {
     "data": {
      "text/plain": [
       "['2', '0', '3', '0', '1', '1']"
      ]
     },
     "execution_count": 5,
     "metadata": {},
     "output_type": "execute_result"
    }
   ],
   "source": [
    "def PrintSentence(a):\n",
    "    Series=[]\n",
    "    for x in a:\n",
    "        if x.isdigit():\n",
    "            Series.append(x)\n",
    "    return Series\n",
    "\n",
    "PrintSentence(input(\"enter sentence \"))\n"
   ]
  },
  {
   "cell_type": "markdown",
   "metadata": {},
   "source": [
    "Modify the above program in such a way that, once you have identified all the numbers from the above sentence, write another function to check if those numbers are odd or even and print them (Note: from one function you would call another function) \n",
    "Hint : The below is an example of a function calling another function "
   ]
  },
  {
   "cell_type": "code",
   "execution_count": 1,
   "metadata": {},
   "outputs": [
    {
     "ename": "IndentationError",
     "evalue": "expected an indented block (<ipython-input-1-6dd8f9761977>, line 4)",
     "output_type": "error",
     "traceback": [
      "\u001b[1;36m  File \u001b[1;32m\"<ipython-input-1-6dd8f9761977>\"\u001b[1;36m, line \u001b[1;32m4\u001b[0m\n\u001b[1;33m    if i%2==0:\u001b[0m\n\u001b[1;37m     ^\u001b[0m\n\u001b[1;31mIndentationError\u001b[0m\u001b[1;31m:\u001b[0m expected an indented block\n"
     ]
    }
   ],
   "source": [
    "def B():\n",
    "    PrintSentence(Series)\n",
    "    for i in Series:\n",
    "        if i%2==0:\n",
    "            print(\"even number\")\n",
    "        else:\n",
    "            print(\"odd number\")"
   ]
  },
  {
   "cell_type": "code",
   "execution_count": 159,
   "metadata": {},
   "outputs": [
    {
     "name": "stdout",
     "output_type": "stream",
     "text": [
      "Inside the function getnum\n",
      "Inside the function check_oddeven\n",
      "100  can be odd or even\n"
     ]
    }
   ],
   "source": [
    "def check_oddeven(a) :\n",
    "    print(\"Inside the function check_oddeven\")\n",
    "    print(a, \" can be odd or even\")\n",
    "\n",
    "def getnum(b) :\n",
    "    print(\"Inside the function getnum\")\n",
    "    check_oddeven(b)  #From the getnum function we are now calling another function \"check_oddeven\"\n",
    "\n",
    "getnum(100) # Calling the first function only "
   ]
  },
  {
   "cell_type": "markdown",
   "metadata": {},
   "source": [
    "Q. Understanding return value"
   ]
  },
  {
   "cell_type": "code",
   "execution_count": 160,
   "metadata": {},
   "outputs": [
    {
     "name": "stdout",
     "output_type": "stream",
     "text": [
      "Sum =  30\n"
     ]
    }
   ],
   "source": [
    "def findsum(a,b):\n",
    "    s=a+b\n",
    "    return(s)\n",
    "\n",
    "\n",
    "res=findsum(10,20)  # Function calling \n",
    "print(\"Sum = \",res)"
   ]
  },
  {
   "cell_type": "markdown",
   "metadata": {},
   "source": [
    "Another example of functions returning values"
   ]
  },
  {
   "cell_type": "code",
   "execution_count": 161,
   "metadata": {},
   "outputs": [
    {
     "name": "stdout",
     "output_type": "stream",
     "text": [
      "Sum =  30\n"
     ]
    }
   ],
   "source": [
    "def findsum(a,b):\n",
    "    s=a+b\n",
    "    return(s)\n",
    "    print(\"Inside the findsum fucntion\")\n",
    "\n",
    "\n",
    "res=findsum(10,20)\n",
    "print(\"Sum = \",res)"
   ]
  },
  {
   "cell_type": "markdown",
   "metadata": {},
   "source": [
    "Q. What do you understand from the above code snippet using the return statement?"
   ]
  },
  {
   "cell_type": "code",
   "execution_count": null,
   "metadata": {},
   "outputs": [],
   "source": [
    "compute the paramenters and return the result"
   ]
  },
  {
   "cell_type": "markdown",
   "metadata": {},
   "source": [
    "# In class lab exercise :\n",
    "Write a program:\n",
    "Write a user defined function which take a list of the following list of numbers as an argument [1,3,6,8,10,17]\n",
    "The function should return the first even number identified and the even number should be printed from the point of function call. "
   ]
  },
  {
   "cell_type": "code",
   "execution_count": 162,
   "metadata": {},
   "outputs": [
    {
     "data": {
      "text/plain": [
       "[6]"
      ]
     },
     "execution_count": 162,
     "metadata": {},
     "output_type": "execute_result"
    }
   ],
   "source": [
    "def oddOrEven(a):\n",
    "    b=[]\n",
    "    for i in a:\n",
    "        if i%2==0:\n",
    "            #print(i)\n",
    "            b.append(i)\n",
    "            if len(b)>=1:\n",
    "                break\n",
    "    return b\n",
    "oddOrEven([1,3,6,8,10,17])"
   ]
  },
  {
   "cell_type": "markdown",
   "metadata": {},
   "source": [
    "# In class lab exercise \n",
    "\n",
    "Write a program:\n",
    "\n",
    "Develop a state machine. A state machine is something like a directed graph a->b->c->d where a, b, c and d would be a function which involves some computation. Each function can also be called as a \"node\" in a graph. \n",
    "The problem statement would be the following sequesnce of steps.  \n",
    "\n",
    "Function a : Would accept a string \"She is in her 40's but behaves as if she is a teenager who is 16!\"\n",
    "             The function should split all sentence into individual words and pass on the words to a function b\n",
    "\n",
    "Function b : Would identify only the numbers, in case of presence of any special character present along with the number,\n",
    "             then only those numbers would be sent to another functin c for a cleanup. The cleaned up numbers from \n",
    "             function b would now be sent to function d for printing the results on the screen \n",
    "\n",
    "Function c : It would extract only numbers ignoring the special character and return back numbers to the function b\n",
    "\n",
    "Function d:  Print the contents whatever is being passed on as an argument \n",
    "\n",
    "Ideally the function call graph would be something like ...\n",
    "\n",
    "Function \"a\" calling function \"b\" \n",
    "Function \"b\" calling function \"c\"\n",
    "Function \"c\" returning back to function \"b\"\n",
    "Function \"b\" finally calling function \"d\"\n",
    "Function \"d\" prints out the final results  "
   ]
  },
  {
   "cell_type": "code",
   "execution_count": 12,
   "metadata": {
    "scrolled": true
   },
   "outputs": [
    {
     "name": "stdout",
     "output_type": "stream",
     "text": [
      "enter sentence \"She is in her 40's but behaves as if she is a teenager who is 16!\"\n",
      "\n",
      "splitting sentence into words\n",
      "[['\"She', 'is', 'in', 'her', \"40's\", 'but', 'behaves', 'as', 'if', 'she', 'is', 'a', 'teenager', 'who', 'is', '16!\"']]\n",
      "\n",
      "extrating numbers, in case of presence of any special char that is also extracted\n",
      "[\"40's\", '16!\"']\n",
      "\n",
      "The extracted numers are :\n",
      "['4', '0', '1', '6']\n"
     ]
    }
   ],
   "source": [
    "import re\n",
    "def A(sentence):\n",
    "    a=[]\n",
    "    l1=[]\n",
    "    newdt=sentence.split(' ')\n",
    "    l1.append(newdt)\n",
    "    print()\n",
    "    print(\"splitting sentence into words\")\n",
    "    print(l1)\n",
    "    print()\n",
    "    B(l1)\n",
    "    return l1\n",
    "\n",
    "\n",
    "def B(l1):\n",
    "    for i in l1:\n",
    "        r = re.compile(\".*[0-9]\")\n",
    "        newlist = list(filter(r.match,i))\n",
    "        print(\"extrating numbers, in case of presence of any special char that is also extracted\")\n",
    "        print(newlist)\n",
    "        print()\n",
    "        C(newlist)\n",
    "    return newlist\n",
    "        \n",
    "def C(newlist):\n",
    "    a=[]\n",
    "    nl=[]\n",
    "    for j in newlist:\n",
    "        r=re.compile(\".*[0-9]\")\n",
    "        nl=list(filter(r.match,j))\n",
    "        a+=nl\n",
    "    D(a)\n",
    "    return a\n",
    "\n",
    "def D(a):\n",
    "    print(\"The extracted numers are :\")\n",
    "    print(a)\n",
    "\n",
    "x=A(input(\"enter sentence \"))\n",
    "\n",
    "\n"
   ]
  },
  {
   "cell_type": "markdown",
   "metadata": {},
   "source": [
    "Try to answer, how the function return graph would look like !"
   ]
  },
  {
   "cell_type": "code",
   "execution_count": null,
   "metadata": {},
   "outputs": [],
   "source": [
    "A->B->C->B->D"
   ]
  },
  {
   "cell_type": "markdown",
   "metadata": {},
   "source": [
    "Q. Understanding lambda functions in Python"
   ]
  },
  {
   "cell_type": "code",
   "execution_count": 164,
   "metadata": {},
   "outputs": [
    {
     "name": "stdout",
     "output_type": "stream",
     "text": [
      "6\n"
     ]
    }
   ],
   "source": [
    "# These are basically one line function definitions in Python \n",
    "\n",
    "x = lambda a, b : a * b\n",
    "print(x(2, 3))"
   ]
  },
  {
   "cell_type": "code",
   "execution_count": 165,
   "metadata": {},
   "outputs": [
    {
     "name": "stdout",
     "output_type": "stream",
     "text": [
      "6\n"
     ]
    }
   ],
   "source": [
    "# Another example of a lambda expression in function definition \n",
    "\n",
    "x = lambda a, b, c : a + b + c\n",
    "print(x(1, 2, 3))"
   ]
  },
  {
   "cell_type": "markdown",
   "metadata": {},
   "source": [
    "Q. Understanding the filter, map and reduce built-in functions in Python "
   ]
  },
  {
   "cell_type": "code",
   "execution_count": 166,
   "metadata": {},
   "outputs": [
    {
     "name": "stdout",
     "output_type": "stream",
     "text": [
      "[10, 11, 12, 13, 14, 15, 16, 17, 18, 19, 20, 21, 22, 23, 24, 25, 26, 27, 28, 29, 30, 31, 32, 33, 34, 35, 36, 37, 38, 39, 40, 41, 42, 43, 44, 45, 46, 47, 48, 49]\n",
      "[31, 32, 33, 34, 35, 36, 37, 38, 39, 40, 41, 42, 43, 44, 45, 46, 47, 48, 49]\n"
     ]
    }
   ],
   "source": [
    "# --Understanding filter function-- \n",
    "\n",
    "num_list = range(10, 50)\n",
    "print(list(num_list))\n",
    "new_list = list(filter(lambda x: x > 30, num_list))\n",
    "print(new_list)"
   ]
  },
  {
   "cell_type": "code",
   "execution_count": 167,
   "metadata": {},
   "outputs": [
    {
     "name": "stdout",
     "output_type": "stream",
     "text": [
      "24\n"
     ]
    }
   ],
   "source": [
    "#--Understanding reduce function--\n",
    "# Reduce funtion will reduce n elements in a list into a single item \n",
    "\n",
    "from functools import reduce\n",
    "product = reduce((lambda x, y: x * y), [1, 2, 3, 4])\n",
    "print(product)"
   ]
  },
  {
   "cell_type": "markdown",
   "metadata": {},
   "source": [
    "Try running the above code by replacing x*y with x+y and see the result ! "
   ]
  },
  {
   "cell_type": "markdown",
   "metadata": {},
   "source": [
    "###### Understanding map function\n",
    "It takes 2 arguments, the function to operate on the data and the inputs on which the function works\n",
    "map(function, inputs)"
   ]
  },
  {
   "cell_type": "code",
   "execution_count": 168,
   "metadata": {},
   "outputs": [
    {
     "name": "stdout",
     "output_type": "stream",
     "text": [
      "[2, 3, 4, 5, 6]\n"
     ]
    }
   ],
   "source": [
    "def increment(a) :\n",
    "    return(a+1)\n",
    "\n",
    "data=[1,2,3,4,5]\n",
    "new_list = map(increment,data)\n",
    "print(list(new_list)) #we are explictly type casting the data in new_list to a list type to print the results. \n",
    "\n"
   ]
  },
  {
   "cell_type": "markdown",
   "metadata": {},
   "source": [
    "With respect to the following list of numbers in the given dataset answer the following questions\n",
    "\n",
    "milage_2wheelers = [45,50,43,60,56,48,10,15,20,19,60,40,40,43,50,50,65,70,75,80,13]\n"
   ]
  },
  {
   "cell_type": "markdown",
   "metadata": {},
   "source": [
    "# In class lab exercise :\n",
    "Write a program to find the mean \n",
    "\n",
    "Note: mean is the average of all the numbers, sum/count of numbers, do not use the sum function to calculate the total, instead, write a custom function to find out the sum of all the numbers "
   ]
  },
  {
   "cell_type": "code",
   "execution_count": 169,
   "metadata": {},
   "outputs": [
    {
     "name": "stdout",
     "output_type": "stream",
     "text": [
      "3.5\n"
     ]
    }
   ],
   "source": [
    "def NumberMean(meanlist):\n",
    "    mean = 0\n",
    "    sum = 0\n",
    "    length = len(meanlist)\n",
    "    for i in meanlist:\n",
    "        sum += i\n",
    "        mean = sum / length\n",
    "    return float(mean)\n",
    "\n",
    "x=NumberMean([1, 2, 3, 4, 5, 6])\n",
    "print(x)"
   ]
  },
  {
   "cell_type": "markdown",
   "metadata": {},
   "source": [
    "# Take home assignment \n",
    "Write a program to find the median\n",
    "\n",
    "Note :Median is the middle number in a sorted list (eg: 1,2,3  here the median is 2) However if we have 1,2,3,4 then \n",
    "the median will be the average of 2&3"
   ]
  },
  {
   "cell_type": "code",
   "execution_count": 23,
   "metadata": {
    "scrolled": true
   },
   "outputs": [
    {
     "name": "stdout",
     "output_type": "stream",
     "text": [
      "5.5\n"
     ]
    }
   ],
   "source": [
    "def NumberMedian(medianlist):\n",
    "    medianlist.sort()\n",
    "    if len(medianlist)%2>0:\n",
    "        a = medianlist[int((len(medianlist)/2))]\n",
    "    else:\n",
    "        a = ((medianlist[int((len(medianlist)/2))-1])+(medianlist[int(((len(medianlist)/2)))]))/2\n",
    "    return a\n",
    "\n",
    "x=NumberMedian([1, 2, 3, 4, 5, 6, 7, 8, 9,10])\n",
    "print(x)"
   ]
  },
  {
   "cell_type": "markdown",
   "metadata": {},
   "source": [
    "# Take home assignment \n",
    "Write a program to find the mode\n",
    "\n",
    "Note : Mode is the number which is repeated the most. "
   ]
  },
  {
   "cell_type": "code",
   "execution_count": 171,
   "metadata": {},
   "outputs": [
    {
     "name": "stdout",
     "output_type": "stream",
     "text": [
      "2\n"
     ]
    }
   ],
   "source": [
    "from statistics import mode\n",
    "\n",
    "x=mode([1,2,1,2,4,5,1,6,2,2,2,1])\n",
    "print(x)"
   ]
  },
  {
   "cell_type": "code",
   "execution_count": 21,
   "metadata": {},
   "outputs": [
    {
     "name": "stdout",
     "output_type": "stream",
     "text": [
      "The series is multimodal. Output is a list, not an integer.\n",
      "[2, 5]\n"
     ]
    }
   ],
   "source": [
    "def ds_mode(n):\n",
    "    counter = {}\n",
    "    for i in n:\n",
    "        counter[i] = counter.setdefault(i, 0) + 1\n",
    "\n",
    "    mode = []\n",
    "    md = max(counter.values())\n",
    "    for k, v in counter.items():\n",
    "        if v == md:\n",
    "            mode.append(k)\n",
    "\n",
    "    if len(mode) == 1:\n",
    "        return mode[0]\n",
    "    else:\n",
    "        print('The series is multimodal. Output is a list, not an integer.')\n",
    "        return mode\n",
    "x=ds_mode([2,5,6,8,2,9,5])\n",
    "print(x)"
   ]
  },
  {
   "cell_type": "code",
   "execution_count": null,
   "metadata": {},
   "outputs": [],
   "source": [
    "def ds_dev(ser, sq=False):\n",
    "    return ((i - ds_mean(ser))**(1 + sq) for i in ser)\n",
    "\n",
    "\n",
    "def ds_var(ser, sample=True):\n",
    "    return sum(ds_dev(ser, sq=True))/(len(ser) - sample)\n",
    "\n",
    "\n",
    "def ds_stdev(ser, sample=True):\n",
    "    return (ds_var(ser, sample))**0.5\n",
    "\n",
    "\n",
    "def ds_cv(ser, sample=True):\n",
    "    return (ds_stdev(ser, sample)/ds_mean(ser)) * 100\n",
    "\n",
    "\n",
    "def ds_cov(ser1, ser2, sample=True):\n",
    "    dev_prod = sum([x * y for x, y in zip(ds_dev(ser1), ds_dev(ser2))])\n",
    "    return dev_prod/(len(ser1) - sample)\n",
    "\n",
    "\n",
    "def ds_correl(ser1, ser2):\n",
    "    return ds_cov(ser1, ser2)/(ds_stdev(ser1) * ds_stdev(ser2))\n"
   ]
  }
 ],
 "metadata": {
  "kernelspec": {
   "display_name": "Python 3",
   "language": "python",
   "name": "python3"
  },
  "language_info": {
   "codemirror_mode": {
    "name": "ipython",
    "version": 3
   },
   "file_extension": ".py",
   "mimetype": "text/x-python",
   "name": "python",
   "nbconvert_exporter": "python",
   "pygments_lexer": "ipython3",
   "version": "3.7.1"
  }
 },
 "nbformat": 4,
 "nbformat_minor": 2
}
