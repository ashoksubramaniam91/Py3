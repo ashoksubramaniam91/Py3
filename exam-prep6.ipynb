{
 "cells": [
  {
   "cell_type": "code",
   "execution_count": 10,
   "metadata": {},
   "outputs": [],
   "source": [
    "def primeo(num):\n",
    "    if num > 1:\n",
    "        for i in range(2,round(num**0.5)+1):\n",
    "            if (num%i==0):\n",
    "                return False\n",
    "        return True   \n",
    "    else:\n",
    "        return False"
   ]
  },
  {
   "cell_type": "code",
   "execution_count": 11,
   "metadata": {},
   "outputs": [],
   "source": [
    "def printo1(n):\n",
    "    if(primeo(n)):\n",
    "        print(n)"
   ]
  },
  {
   "cell_type": "code",
   "execution_count": 12,
   "metadata": {},
   "outputs": [],
   "source": [
    "def printo2(n1):\n",
    "    count=n1+1\n",
    "    while(count>n1):\n",
    "        if(primeo(count)):\n",
    "            print(count)\n",
    "            break\n",
    "        count+=1"
   ]
  },
  {
   "cell_type": "code",
   "execution_count": 13,
   "metadata": {},
   "outputs": [],
   "source": [
    "def printo3(n2):\n",
    "    count=n2-1\n",
    "    while(count<n2):\n",
    "        if(primeo(count)):\n",
    "            print(count)\n",
    "            break\n",
    "        count-=1"
   ]
  },
  {
   "cell_type": "code",
   "execution_count": 14,
   "metadata": {},
   "outputs": [],
   "source": [
    "def printo4(n3):\n",
    "    printo3(n3)\n",
    "    printo1(n3)\n",
    "    printo2(n3)"
   ]
  },
  {
   "cell_type": "code",
   "execution_count": 15,
   "metadata": {},
   "outputs": [
    {
     "name": "stdout",
     "output_type": "stream",
     "text": [
      "19\n",
      "23\n",
      "29\n"
     ]
    }
   ],
   "source": [
    "printo4(23)"
   ]
  },
  {
   "cell_type": "code",
   "execution_count": 8,
   "metadata": {},
   "outputs": [],
   "source": [
    "def lcm1(num1,num2):\n",
    "    if num1>num2:\n",
    "        num1,num2=num2,num1\n",
    "    for x in range(num2,num1*num2+1,num2):\n",
    "        if x%num1==0:\n",
    "            return x "
   ]
  },
  {
   "cell_type": "code",
   "execution_count": 9,
   "metadata": {},
   "outputs": [
    {
     "data": {
      "text/plain": [
       "77"
      ]
     },
     "execution_count": 9,
     "metadata": {},
     "output_type": "execute_result"
    }
   ],
   "source": [
    "lcm1(7,11)"
   ]
  },
  {
   "cell_type": "code",
   "execution_count": null,
   "metadata": {},
   "outputs": [],
   "source": []
  }
 ],
 "metadata": {
  "kernelspec": {
   "display_name": "Python 3",
   "language": "python",
   "name": "python3"
  },
  "language_info": {
   "codemirror_mode": {
    "name": "ipython",
    "version": 3
   },
   "file_extension": ".py",
   "mimetype": "text/x-python",
   "name": "python",
   "nbconvert_exporter": "python",
   "pygments_lexer": "ipython3",
   "version": "3.7.1"
  }
 },
 "nbformat": 4,
 "nbformat_minor": 2
}
