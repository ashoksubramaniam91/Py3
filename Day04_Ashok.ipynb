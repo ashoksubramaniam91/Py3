{
 "cells": [
  {
   "cell_type": "markdown",
   "metadata": {},
   "source": [
    "# Importing the numpy package \n"
   ]
  },
  {
   "cell_type": "code",
   "execution_count": 23,
   "metadata": {
    "scrolled": true
   },
   "outputs": [
    {
     "name": "stdout",
     "output_type": "stream",
     "text": [
      "[1 2 3 4 5]\n"
     ]
    }
   ],
   "source": [
    "import numpy as np\n",
    "myarr = np.array([1,2,3,4,5])\n",
    "print(myarr)"
   ]
  },
  {
   "cell_type": "markdown",
   "metadata": {},
   "source": [
    "## Note : Arrays can store elemements of the same type\n"
   ]
  },
  {
   "cell_type": "markdown",
   "metadata": {},
   "source": [
    "# Advantages of array in numpy \n",
    "Uses less space and its faster in computation \n"
   ]
  },
  {
   "cell_type": "markdown",
   "metadata": {},
   "source": [
    "# q)Lets check the size of an integer type in Python "
   ]
  },
  {
   "cell_type": "code",
   "execution_count": 24,
   "metadata": {},
   "outputs": [
    {
     "data": {
      "text/plain": [
       "28"
      ]
     },
     "execution_count": 24,
     "metadata": {},
     "output_type": "execute_result"
    }
   ],
   "source": [
    "import sys \n",
    "b  = 10\n",
    "sys.getsizeof(b)"
   ]
  },
  {
   "cell_type": "markdown",
   "metadata": {},
   "source": [
    "# q) Lets check the size of an empty list in Python"
   ]
  },
  {
   "cell_type": "code",
   "execution_count": 25,
   "metadata": {},
   "outputs": [
    {
     "data": {
      "text/plain": [
       "64"
      ]
     },
     "execution_count": 25,
     "metadata": {},
     "output_type": "execute_result"
    }
   ],
   "source": [
    "myl = []\n",
    "sys.getsizeof(myl)\n"
   ]
  },
  {
   "cell_type": "markdown",
   "metadata": {},
   "source": [
    "# q Lets add an item to the list and check the size \n"
   ]
  },
  {
   "cell_type": "code",
   "execution_count": null,
   "metadata": {},
   "outputs": [],
   "source": [
    "myl = [1]\n",
    "sys.getsizeof(myl)"
   ]
  },
  {
   "cell_type": "markdown",
   "metadata": {},
   "source": [
    "## Note : Every item in the list would occupy 8 bytes "
   ]
  },
  {
   "cell_type": "markdown",
   "metadata": {},
   "source": [
    "# q)Lets create a list of 100 elements "
   ]
  },
  {
   "cell_type": "code",
   "execution_count": 26,
   "metadata": {},
   "outputs": [
    {
     "name": "stdout",
     "output_type": "stream",
     "text": [
      "[1, 2, 3, 4, 5, 6, 7, 8, 9, 10, 11, 12, 13, 14, 15, 16, 17, 18, 19, 20, 21, 22, 23, 24, 25, 26, 27, 28, 29, 30, 31, 32, 33, 34, 35, 36, 37, 38, 39, 40, 41, 42, 43, 44, 45, 46, 47, 48, 49, 50, 51, 52, 53, 54, 55, 56, 57, 58, 59, 60, 61, 62, 63, 64, 65, 66, 67, 68, 69, 70, 71, 72, 73, 74, 75, 76, 77, 78, 79, 80, 81, 82, 83, 84, 85, 86, 87, 88, 89, 90, 91, 92, 93, 94, 95, 96, 97, 98, 99]\n"
     ]
    },
    {
     "data": {
      "text/plain": [
       "list"
      ]
     },
     "execution_count": 26,
     "metadata": {},
     "output_type": "execute_result"
    }
   ],
   "source": [
    "myl=list(range(1,100))\n",
    "print(myl)\n",
    "type(myl)\n"
   ]
  },
  {
   "cell_type": "markdown",
   "metadata": {},
   "source": [
    "# q)Lets now check the size of the entire  list \n"
   ]
  },
  {
   "cell_type": "code",
   "execution_count": 27,
   "metadata": {},
   "outputs": [
    {
     "name": "stdout",
     "output_type": "stream",
     "text": [
      "28\n"
     ]
    }
   ],
   "source": [
    "size_l = sys.getsizeof((myl[1])*len(myl))\n",
    "print(size_l)\n"
   ]
  },
  {
   "cell_type": "markdown",
   "metadata": {},
   "source": [
    "## Note : getsizeof(myl[1]) would give the size of one element of the list in bytes \n"
   ]
  },
  {
   "cell_type": "markdown",
   "metadata": {},
   "source": [
    "\n",
    "# q)Now lets create an array of 100 elements and check the size of the array \n"
   ]
  },
  {
   "cell_type": "code",
   "execution_count": 28,
   "metadata": {},
   "outputs": [
    {
     "name": "stdout",
     "output_type": "stream",
     "text": [
      "[ 0  1  2  3  4  5  6  7  8  9 10 11 12 13 14 15 16 17 18 19 20 21 22 23\n",
      " 24 25 26 27 28 29 30 31 32 33 34 35 36 37 38 39 40 41 42 43 44 45 46 47\n",
      " 48 49 50 51 52 53 54 55 56 57 58 59 60 61 62 63 64 65 66 67 68 69 70 71\n",
      " 72 73 74 75 76 77 78 79 80 81 82 83 84 85 86 87 88 89 90 91 92 93 94 95\n",
      " 96 97 98 99]\n"
     ]
    }
   ],
   "source": [
    "myar = np.arange(100)\n",
    "print(myar)\n"
   ]
  },
  {
   "cell_type": "markdown",
   "metadata": {},
   "source": [
    "# q)How to find out the count of number of elements in an array\n"
   ]
  },
  {
   "cell_type": "code",
   "execution_count": 29,
   "metadata": {},
   "outputs": [
    {
     "data": {
      "text/plain": [
       "100"
      ]
     },
     "execution_count": 29,
     "metadata": {},
     "output_type": "execute_result"
    }
   ],
   "source": [
    "myar.size\n"
   ]
  },
  {
   "cell_type": "markdown",
   "metadata": {},
   "source": [
    "# q)How to find the size (memory occupied) by every item in an array \n"
   ]
  },
  {
   "cell_type": "code",
   "execution_count": 30,
   "metadata": {},
   "outputs": [
    {
     "name": "stdout",
     "output_type": "stream",
     "text": [
      "4\n"
     ]
    }
   ],
   "source": [
    "print(myar.itemsize)\n"
   ]
  },
  {
   "cell_type": "markdown",
   "metadata": {},
   "source": [
    "# Now we need to multiple the lenght of the array with the #memory occupied by each array element to get the total \n",
    "# memory occupied by the entire array elements. \n",
    "\n"
   ]
  },
  {
   "cell_type": "code",
   "execution_count": 31,
   "metadata": {
    "scrolled": true
   },
   "outputs": [
    {
     "name": "stdout",
     "output_type": "stream",
     "text": [
      "400\n"
     ]
    }
   ],
   "source": [
    "size_a =  (myar.size)*(myar.itemsize)\n",
    "print(size_a)\n"
   ]
  },
  {
   "cell_type": "markdown",
   "metadata": {},
   "source": [
    "# Now compare how much memory does an array and list occupy (scroll up and compare with that of the list)\n"
   ]
  },
  {
   "cell_type": "markdown",
   "metadata": {},
   "source": [
    "# q)How to verify that numpy arrays are faster than the python lists \n"
   ]
  },
  {
   "cell_type": "code",
   "execution_count": 32,
   "metadata": {},
   "outputs": [
    {
     "name": "stdout",
     "output_type": "stream",
     "text": [
      "List addition time is  3.000020980834961\n",
      "Array addition time is  0.0\n"
     ]
    }
   ],
   "source": [
    "import sys\n",
    "import time\n",
    "import numpy as np \n",
    "\n",
    "def list_add(l1,l2):\n",
    " i=0\n",
    " for a in l2:\n",
    "  l1[i]=l1[i]+a\n",
    "  i=i+1\n",
    "\n",
    "\n",
    "count = 10000\n",
    "l1=list(range(count))\n",
    "l2=list(range(count))\n",
    "\n",
    "start=time.time()\n",
    "list_add(l1,l2)\n",
    "end=time.time()\n",
    "\n",
    "elapsed = 1000*(end-start)\n",
    "print(\"List addition time is \",elapsed)\n",
    "\n",
    "a1 = np.arange(count)\n",
    "a2 = np.arange(count)\n",
    "\n",
    "start=time.time()\n",
    "a3=a1+a2\n",
    "end=time.time()\n",
    "\n",
    "elapsed = 1000*(end-start)\n",
    "print(\"Array addition time is \",elapsed)\n"
   ]
  },
  {
   "cell_type": "markdown",
   "metadata": {},
   "source": [
    "# In class lab exercise : \n",
    "Modify the above program to perform a slightly complex operation on a larger data set to observe the time difference. \n"
   ]
  },
  {
   "cell_type": "code",
   "execution_count": 36,
   "metadata": {},
   "outputs": [
    {
     "name": "stdout",
     "output_type": "stream",
     "text": [
      "List addition time is  2.0003318786621094\n",
      "List deletion time is  0.9999275207519531\n",
      "Array addition time is  0.0\n"
     ]
    }
   ],
   "source": [
    "import sys\n",
    "import time\n",
    "import numpy as np \n",
    "\n",
    "def list_add(l1,l2):\n",
    " i=0\n",
    " for a in l2:\n",
    "  l1[i]=l1[i]+a\n",
    "  i=i+1\n",
    "\n",
    "\n",
    "count = 10000\n",
    "l1=list(range(count))\n",
    "l2=list(range(count))\n",
    "\n",
    "start=time.time()\n",
    "list_add(l1,l2)\n",
    "end=time.time()\n",
    "\n",
    "start1=time.time()\n",
    "del(l1)\n",
    "end1=time.time()\n",
    "\n",
    "elapsed = 1000*(end-start)\n",
    "print(\"List addition time is \",elapsed)\n",
    "\n",
    "elapsed1 = 1000*(end1-start1)\n",
    "print(\"List deletion time is \",elapsed1)\n",
    "\n",
    "a1 = np.arange(count)\n",
    "a2 = np.arange(count)\n",
    "\n",
    "start=time.time()\n",
    "a3=a1+a2\n",
    "end=time.time()\n",
    "\n",
    "elapsed = 1000*(end-start)\n",
    "print(\"Array addition time is \",elapsed)\n"
   ]
  },
  {
   "cell_type": "markdown",
   "metadata": {},
   "source": [
    "# q)Demonstration of arithmatic operations on arrays \n",
    "\n",
    "Adding 2 arrays, \n",
    "Subrtacting 2 arrays \n",
    "Mul \n",
    "Div \n"
   ]
  },
  {
   "cell_type": "code",
   "execution_count": 2,
   "metadata": {},
   "outputs": [
    {
     "name": "stdout",
     "output_type": "stream",
     "text": [
      "[[ 8 10 12]\n",
      " [14 16 18]]\n",
      "\n",
      "[[-6 -6 -6]\n",
      " [-6 -6 -6]]\n",
      "\n",
      "[[7.  4.  3. ]\n",
      " [2.5 2.2 2. ]]\n",
      "\n",
      "[[102 108]\n",
      " [246 261]]\n",
      "\n"
     ]
    }
   ],
   "source": [
    "import numpy as np\n",
    "A=np.array([[1,2,3],[4,5,6]])\n",
    "B=np.array([[7,8,9],[10,11,12]])\n",
    "C=np.array([[13,14],[16,17],[19,20]])\n",
    "\n",
    "add=A+B\n",
    "print(add)\n",
    "print()\n",
    "\n",
    "sub=A-B\n",
    "print(sub)\n",
    "print()\n",
    "\n",
    "Div=B/A\n",
    "print(Div)\n",
    "print()\n",
    "\n",
    "Mul=A.dot(C)\n",
    "print(Mul)\n",
    "print()\n",
    "\n",
    "\n"
   ]
  },
  {
   "cell_type": "markdown",
   "metadata": {},
   "source": [
    "# q)Creating a 2 dimensional array \n"
   ]
  },
  {
   "cell_type": "code",
   "execution_count": 31,
   "metadata": {},
   "outputs": [
    {
     "name": "stdout",
     "output_type": "stream",
     "text": [
      "[[1 2]\n",
      " [3 4]]\n"
     ]
    },
    {
     "data": {
      "text/plain": [
       "2"
      ]
     },
     "execution_count": 31,
     "metadata": {},
     "output_type": "execute_result"
    }
   ],
   "source": [
    "import numpy as np \n",
    "a = np.array([[1,2],[3,4]])\n",
    "print(a)\n",
    "a.ndim #The ndim will print the dimensionality of the array i.e 1 dimentional or 2 dimensional \n"
   ]
  },
  {
   "cell_type": "markdown",
   "metadata": {},
   "source": [
    "# q)How to count the number of elements in any array \n"
   ]
  },
  {
   "cell_type": "code",
   "execution_count": 3,
   "metadata": {},
   "outputs": [
    {
     "name": "stdout",
     "output_type": "stream",
     "text": [
      "4\n",
      "shape = (2, 2)\n"
     ]
    }
   ],
   "source": [
    "print(a.size) \n",
    "print(\"shape =\",a.shape) # would print how many rows and cols are there in the array \n",
    "\n"
   ]
  },
  {
   "cell_type": "markdown",
   "metadata": {},
   "source": [
    "# q) Lets see another example of using the shape function"
   ]
  },
  {
   "cell_type": "code",
   "execution_count": 4,
   "metadata": {},
   "outputs": [
    {
     "data": {
      "text/plain": [
       "(3, 2)"
      ]
     },
     "execution_count": 4,
     "metadata": {},
     "output_type": "execute_result"
    }
   ],
   "source": [
    "a=np.array([[1,2],[3,4],[5,6]])\n",
    "a.shape"
   ]
  },
  {
   "cell_type": "markdown",
   "metadata": {},
   "source": [
    "# q)Reshaping an array \n"
   ]
  },
  {
   "cell_type": "code",
   "execution_count": 5,
   "metadata": {},
   "outputs": [
    {
     "name": "stdout",
     "output_type": "stream",
     "text": [
      "[[1 2 3]\n",
      " [4 5 6]]\n"
     ]
    }
   ],
   "source": [
    "b = a.reshape((2,3))\n",
    "b.shape\n",
    "print(b)\n"
   ]
  },
  {
   "cell_type": "markdown",
   "metadata": {},
   "source": [
    "# q)Creating a zero value array \n"
   ]
  },
  {
   "cell_type": "code",
   "execution_count": 6,
   "metadata": {},
   "outputs": [
    {
     "name": "stdout",
     "output_type": "stream",
     "text": [
      "[[0. 0. 0.]\n",
      " [0. 0. 0.]]\n",
      "[[1. 1. 1.]\n",
      " [1. 1. 1.]]\n"
     ]
    }
   ],
   "source": [
    "a = np.zeros( (2,3) )   #will result in creating a 2 row and 3 col array, filled with zeroes \n",
    "print(a)\n",
    "\n",
    "b = np.ones((2,3)) #This will create an array with value 1's \n",
    "print(b)\n"
   ]
  },
  {
   "cell_type": "markdown",
   "metadata": {},
   "source": [
    "# q)Using the arange function to create arrays \n"
   ]
  },
  {
   "cell_type": "code",
   "execution_count": 7,
   "metadata": {},
   "outputs": [
    {
     "name": "stdout",
     "output_type": "stream",
     "text": [
      "[0 1 2 3 4]\n"
     ]
    }
   ],
   "source": [
    "a = np.arange(5)\n",
    "print(a)\n"
   ]
  },
  {
   "cell_type": "markdown",
   "metadata": {},
   "source": [
    "# q) Understanding the ravel function,its used to convert an N dimensional array into a 1 dimensional array \n"
   ]
  },
  {
   "cell_type": "code",
   "execution_count": 19,
   "metadata": {},
   "outputs": [
    {
     "name": "stdout",
     "output_type": "stream",
     "text": [
      "[1 2 3 4]\n"
     ]
    },
    {
     "data": {
      "text/plain": [
       "numpy.ndarray"
      ]
     },
     "execution_count": 19,
     "metadata": {},
     "output_type": "execute_result"
    }
   ],
   "source": [
    "b=np.array([[1,2],[3,4]])\n",
    "a = b.ravel()\n",
    "print(a)\n",
    "type(a)"
   ]
  },
  {
   "cell_type": "markdown",
   "metadata": {},
   "source": [
    "# q)Finding out the min and max element from an array \n"
   ]
  },
  {
   "cell_type": "code",
   "execution_count": 4,
   "metadata": {},
   "outputs": [
    {
     "name": "stdout",
     "output_type": "stream",
     "text": [
      "min of b is  1\n",
      "max of b is  4\n"
     ]
    }
   ],
   "source": [
    "b=np.array([[1,2],[3,4]])\n",
    "print(\"min of b is \",b.min())\n",
    "print(\"max of b is \",b.max())\n",
    "\n",
    "# Note: try the built in function b.sum()\n"
   ]
  },
  {
   "cell_type": "markdown",
   "metadata": {},
   "source": [
    "# In class lab exercise  : \n",
    "Program a code snippet develop a custom user defined function to find out the min and max element from an 2 by 3 array or elements \n",
    "as shown below \n",
    "\n",
    "1 2\n",
    "3 4\n",
    "5 6 \n",
    "\n",
    "Hint : U may use the ravel function to flatten it out and then work on finding the min and max elements from the array \n",
    "Note : U are not supposed to use the min or max built in function \n"
   ]
  },
  {
   "cell_type": "code",
   "execution_count": 438,
   "metadata": {},
   "outputs": [
    {
     "name": "stdout",
     "output_type": "stream",
     "text": [
      "The array is \n",
      "[[ 1  2 45]\n",
      " [42  5  6]]\n",
      "\n",
      "ravel array is :\n",
      "[ 1  2 45 42  5  6]\n",
      "\n",
      "the sorted array is\n",
      "[ 1  2  5  6 42 45]\n",
      "\n",
      "the min is : 1\n",
      "\n",
      "the max is : 45\n"
     ]
    }
   ],
   "source": [
    "Arr=np.array([1,2,45,42,5,6]).reshape(2,3)\n",
    "print(\"The array is \")\n",
    "print(Arr)\n",
    "print()\n",
    "Arr1=Arr.ravel()\n",
    "print(\"ravel array is :\")\n",
    "print(Arr1)\n",
    "print()\n",
    "while np.any(Arr1[:-1] > Arr1[1:]):\n",
    "        np.random.shuffle(Arr1)\n",
    "print(\"the sorted array is\")\n",
    "print(Arr1)\n",
    "print()\n",
    "print(\"the min is :\",Arr1[0])\n",
    "print()\n",
    "print(\"the max is :\",Arr1[-1])"
   ]
  },
  {
   "cell_type": "markdown",
   "metadata": {},
   "source": [
    "# q)Operations on arrays (Addition, subtraction and multiplication is possible)\n"
   ]
  },
  {
   "cell_type": "code",
   "execution_count": 10,
   "metadata": {},
   "outputs": [
    {
     "name": "stdout",
     "output_type": "stream",
     "text": [
      "[[1. 1.]\n",
      " [1. 1.]]\n",
      "[[1. 1.]\n",
      " [1. 1.]]\n",
      "addition result follows\n",
      "\n",
      ": [[2. 2.]\n",
      " [2. 2.]]\n",
      "subtraction result follows\n",
      " \n",
      " : [[0. 0.]\n",
      " [0. 0.]]\n",
      "multiplication result follows\n",
      " \n",
      " : [[1. 1.]\n",
      " [1. 1.]]\n"
     ]
    }
   ],
   "source": [
    "a=np.ones((2,2))\n",
    "b=np.ones((2,2))\n",
    "print(a)\n",
    "print(b)\n",
    "c = a+b\n",
    "d = a-b\n",
    "e = a*b\n",
    "print(\"addition result follows\\n\\n:\",c)\n",
    "print(\"subtraction result follows\\n \\n :\",d)\n",
    "print(\"multiplication result follows\\n \\n :\",e)\n"
   ]
  },
  {
   "cell_type": "markdown",
   "metadata": {},
   "source": [
    "# Slicing python lists \n"
   ]
  },
  {
   "cell_type": "code",
   "execution_count": 11,
   "metadata": {},
   "outputs": [
    {
     "data": {
      "text/plain": [
       "[3, 4]"
      ]
     },
     "execution_count": 11,
     "metadata": {},
     "output_type": "execute_result"
    }
   ],
   "source": [
    "l = [1,2,3,4,5]\n",
    "l[2:4]\n"
   ]
  },
  {
   "cell_type": "markdown",
   "metadata": {},
   "source": [
    "# Similar kind of slicing is possible on Python arrays \n"
   ]
  },
  {
   "cell_type": "code",
   "execution_count": 12,
   "metadata": {},
   "outputs": [
    {
     "name": "stdout",
     "output_type": "stream",
     "text": [
      "[[1 2 3]\n",
      " [4 5 6]\n",
      " [7 8 9]]\n",
      "1\n",
      "5\n"
     ]
    }
   ],
   "source": [
    "d2 = np.array([[1,2,3],[4,5,6],[7,8,9]])\n",
    "print(d2)\n",
    "\n",
    "print(d2[0,0]) #This would print the element from 0th row and 0th column i.e 1 \n",
    "print(d2[1,1]) #This would print the element from 0th row and 0th column i.e 5 \n"
   ]
  },
  {
   "cell_type": "markdown",
   "metadata": {},
   "source": [
    "# 1 2 3\n",
    "# 4 5 6\n",
    "# 7 8 9\n",
    "# q)How to interpret the below statement with respect to the above 3 by 3 array\n",
    "\n"
   ]
  },
  {
   "cell_type": "code",
   "execution_count": 13,
   "metadata": {},
   "outputs": [
    {
     "name": "stdout",
     "output_type": "stream",
     "text": [
      "[3 6]\n"
     ]
    }
   ],
   "source": [
    "print(d2[0:2,2]) #would print [3 6] \n",
    "# [0:2,2] would translate to [(0,1),2] i.e to print the row 0 and row 1 elements of column 2 which is 3,6\n"
   ]
  },
  {
   "cell_type": "code",
   "execution_count": 14,
   "metadata": {},
   "outputs": [
    {
     "name": "stdout",
     "output_type": "stream",
     "text": [
      "[[1 2]\n",
      " [4 5]\n",
      " [7 8]]\n"
     ]
    }
   ],
   "source": [
    "print(d2[:,0:2]) # Print all the row elements from col 0 and col 1\n"
   ]
  },
  {
   "cell_type": "markdown",
   "metadata": {},
   "source": [
    "# q)Iterating the array using for loops \n",
    "\n",
    "1 2 3\n",
    "4 5 6\n",
    "7 8 9\n",
    "\n",
    "The array d2 contains the above elements"
   ]
  },
  {
   "cell_type": "code",
   "execution_count": 33,
   "metadata": {
    "scrolled": true
   },
   "outputs": [
    {
     "name": "stdout",
     "output_type": "stream",
     "text": [
      "1\n",
      "2\n",
      "3\n",
      "4\n",
      "5\n",
      "6\n",
      "7\n",
      "8\n",
      "9\n"
     ]
    }
   ],
   "source": [
    "d2=[1,2,3,4,5,6,7,8,9]\n",
    "for row in d2:\n",
    "    print(row) \n"
   ]
  },
  {
   "cell_type": "markdown",
   "metadata": {},
   "source": [
    "# q)Conditional statements on arrays \n"
   ]
  },
  {
   "cell_type": "code",
   "execution_count": 16,
   "metadata": {
    "scrolled": true
   },
   "outputs": [
    {
     "name": "stdout",
     "output_type": "stream",
     "text": [
      "The original array is \n",
      " [[0 1 2]\n",
      " [3 4 5]\n",
      " [6 7 8]]\n",
      " \n",
      "The boolean array after the conditional statement is applied \n",
      "\n",
      "[[False False False]\n",
      " [False False False]\n",
      " [ True  True  True]]\n"
     ]
    },
    {
     "data": {
      "text/plain": [
       "array([6, 7, 8])"
      ]
     },
     "execution_count": 16,
     "metadata": {},
     "output_type": "execute_result"
    }
   ],
   "source": [
    "ca = np.arange(9).reshape(3,3)\n",
    "print(\"The original array is \\n\" ,ca)\n",
    "\n",
    "con = ca > 5 \n",
    "\n",
    "print(\" \\nThe boolean array after the conditional statement is applied \\n\")\n",
    "print(con)\n",
    "\n",
    "ca[con] # The boolean TRUE/FALSE array is now the index and print only the numbers satisfying the the > 5 condition \n"
   ]
  },
  {
   "cell_type": "markdown",
   "metadata": {},
   "source": [
    "# In class lab exercise : \n",
    "To create an array with 100 elements (M,N is 5,10) anf filter only those elements between than 75 and 100 and create a new array with 5 rows and 5 cols \n"
   ]
  },
  {
   "cell_type": "code",
   "execution_count": 355,
   "metadata": {},
   "outputs": [
    {
     "name": "stdout",
     "output_type": "stream",
     "text": [
      "array with 100 elemets is :\n",
      "[[  1   2   3   4   5   6   7   8   9  10]\n",
      " [ 11  12  13  14  15  16  17  18  19  20]\n",
      " [ 21  22  23  24  25  26  27  28  29  30]\n",
      " [ 31  32  33  34  35  36  37  38  39  40]\n",
      " [ 41  42  43  44  45  46  47  48  49  50]\n",
      " [ 51  52  53  54  55  56  57  58  59  60]\n",
      " [ 61  62  63  64  65  66  67  68  69  70]\n",
      " [ 71  72  73  74  75  76  77  78  79  80]\n",
      " [ 81  82  83  84  85  86  87  88  89  90]\n",
      " [ 91  92  93  94  95  96  97  98  99 100]]\n",
      "\n",
      "The new array with 5 rows and 5 columns is :\n",
      "[[ 76  77  78  79  80]\n",
      " [ 81  82  83  84  85]\n",
      " [ 86  87  88  89  90]\n",
      " [ 91  92  93  94  95]\n",
      " [ 96  97  98  99 100]]\n"
     ]
    }
   ],
   "source": [
    "a=np.arange(1,101).reshape(10,10)\n",
    "Arr=[]\n",
    "print(\"array with 100 elemets is :\")\n",
    "print(a)\n",
    "print()\n",
    "b=[a[i][j] for i in range(10) for j in range(10)]\n",
    "for i in b:\n",
    "    if i>75:\n",
    "        Arr.append(i)\n",
    "print(\"The new array with 5 rows and 5 columns is :\")\n",
    "NewArr=np.array(Arr).reshape(5,5)\n",
    "print(NewArr)"
   ]
  },
  {
   "cell_type": "markdown",
   "metadata": {},
   "source": [
    "# q)Replacing all the elements of an array which is greater than 4 with zero \n"
   ]
  },
  {
   "cell_type": "code",
   "execution_count": 17,
   "metadata": {},
   "outputs": [
    {
     "name": "stdout",
     "output_type": "stream",
     "text": [
      "The original array is : \n",
      " [[0 1 2]\n",
      " [3 4 5]\n",
      " [6 7 8]]\n",
      "\n",
      " [[0 1 2]\n",
      " [3 4 0]\n",
      " [0 0 0]]\n"
     ]
    }
   ],
   "source": [
    "ca = np.arange(9).reshape(3,3)\n",
    "print(\"The original array is : \\n\", ca)\n",
    "\n",
    "con = ca > 4\n",
    "ca[con]=0\n",
    "print(\"\\n\",ca) \n",
    "\n"
   ]
  },
  {
   "cell_type": "markdown",
   "metadata": {},
   "source": [
    "# q)Taking a 1 dimensional array and reshaping it to a 2 dimensional array \n"
   ]
  },
  {
   "cell_type": "code",
   "execution_count": 18,
   "metadata": {},
   "outputs": [
    {
     "name": "stdout",
     "output_type": "stream",
     "text": [
      "[[0 1 2 3 4]\n",
      " [5 6 7 8 9]]\n",
      "[[10 11 12 13 14]\n",
      " [15 16 17 18 19]]\n"
     ]
    }
   ],
   "source": [
    "newa = np.arange(10).reshape(2,5)\n",
    "newb = np.arange(10,20).reshape(2,5)\n",
    "\n",
    "print(newa)\n",
    "print(newb)\n",
    "\n"
   ]
  },
  {
   "cell_type": "markdown",
   "metadata": {},
   "source": [
    "# understanding stacking operations on an array \n"
   ]
  },
  {
   "cell_type": "code",
   "execution_count": 19,
   "metadata": {},
   "outputs": [
    {
     "name": "stdout",
     "output_type": "stream",
     "text": [
      "[[ 0  1  2  3  4]\n",
      " [ 5  6  7  8  9]\n",
      " [10 11 12 13 14]\n",
      " [15 16 17 18 19]]\n"
     ]
    },
    {
     "data": {
      "text/plain": [
       "numpy.ndarray"
      ]
     },
     "execution_count": 19,
     "metadata": {},
     "output_type": "execute_result"
    }
   ],
   "source": [
    "newc=np.vstack((newa,newb))  # vstack is for vertical stacking and similarly hstack can be used too\n",
    "\n",
    "print(newc)\n",
    "type(newc)\n",
    "\n"
   ]
  },
  {
   "cell_type": "markdown",
   "metadata": {},
   "source": [
    "# q)We can split a large arrays into smaller arrays \n"
   ]
  },
  {
   "cell_type": "code",
   "execution_count": 20,
   "metadata": {},
   "outputs": [
    {
     "name": "stdout",
     "output_type": "stream",
     "text": [
      "[[ 0  1  2  3  4  5  6  7  8  9]\n",
      " [10 11 12 13 14 15 16 17 18 19]\n",
      " [20 21 22 23 24 25 26 27 28 29]\n",
      " [30 31 32 33 34 35 36 37 38 39]\n",
      " [40 41 42 43 44 45 46 47 48 49]\n",
      " [50 51 52 53 54 55 56 57 58 59]]\n",
      "[[ 0  1  2  3  4]\n",
      " [10 11 12 13 14]\n",
      " [20 21 22 23 24]\n",
      " [30 31 32 33 34]\n",
      " [40 41 42 43 44]\n",
      " [50 51 52 53 54]]\n",
      "[[ 5  6  7  8  9]\n",
      " [15 16 17 18 19]\n",
      " [25 26 27 28 29]\n",
      " [35 36 37 38 39]\n",
      " [45 46 47 48 49]\n",
      " [55 56 57 58 59]]\n"
     ]
    }
   ],
   "source": [
    "biga = np.arange(60).reshape(6,10)\n",
    "print(biga)\n",
    "biga.shape\n",
    "\n",
    "sma = np.hsplit(biga,2)  #  sma is a list consisting of 3 smaller arrays \n",
    "print(sma[0])\n",
    "print(sma[1])\n",
    "\n"
   ]
  },
  {
   "cell_type": "markdown",
   "metadata": {},
   "source": [
    "# In class lab exercise  :  \n",
    "Demonstrate using a code snippet to split the above biga into 3 smaller arrays using vsplit\n"
   ]
  },
  {
   "cell_type": "code",
   "execution_count": 23,
   "metadata": {},
   "outputs": [
    {
     "name": "stdout",
     "output_type": "stream",
     "text": [
      "[[ 0  1  2  3  4  5  6  7  8  9]\n",
      " [10 11 12 13 14 15 16 17 18 19]\n",
      " [20 21 22 23 24 25 26 27 28 29]\n",
      " [30 31 32 33 34 35 36 37 38 39]\n",
      " [40 41 42 43 44 45 46 47 48 49]\n",
      " [50 51 52 53 54 55 56 57 58 59]]\n",
      "\n",
      "the 3 smaller arrays after split are :\n",
      "\n",
      "[[ 0  1  2  3  4  5  6  7  8  9]\n",
      " [10 11 12 13 14 15 16 17 18 19]]\n",
      "\n",
      "[[20 21 22 23 24 25 26 27 28 29]\n",
      " [30 31 32 33 34 35 36 37 38 39]]\n",
      "\n",
      "[[40 41 42 43 44 45 46 47 48 49]\n",
      " [50 51 52 53 54 55 56 57 58 59]]\n"
     ]
    }
   ],
   "source": [
    "biga = np.arange(60).reshape(6,10)\n",
    "print(biga)\n",
    "biga.shape\n",
    "\n",
    "sma = np.vsplit(biga,3)  #  sma is a list consisting of 3 smaller arrays \n",
    "print()\n",
    "print(\"the 3 smaller arrays after split are :\")\n",
    "print()\n",
    "print(sma[0])\n",
    "print()\n",
    "print(sma[1])\n",
    "print()\n",
    "print(sma[2])\n",
    "\n"
   ]
  },
  {
   "cell_type": "markdown",
   "metadata": {},
   "source": [
    "# Suppose you have array of 4 rows and 4 cols like the one shown below \n",
    "1 2 3 4\n",
    "5 6 7 8\n",
    "9 10 11 12\n",
    "13 14 15 16\n",
    "\n",
    "# In class lab exercise  :  -\n",
    "Develop a code snippet to print only the right diagonal elements i.e 1, 6, 11, 16 \n",
    "Hint : U need to use loops \n"
   ]
  },
  {
   "cell_type": "code",
   "execution_count": 6,
   "metadata": {},
   "outputs": [
    {
     "name": "stdout",
     "output_type": "stream",
     "text": [
      "[[ 1  2  3  4]\n",
      " [ 5  6  7  8]\n",
      " [ 9 10 11 12]\n",
      " [13 14 15 16]]\n",
      "\n",
      "the right diagonals are :\n",
      "[1, 6, 11, 16]\n"
     ]
    }
   ],
   "source": [
    "import numpy as np\n",
    "A=np.arange(1,17).reshape(4,4)\n",
    "print(A)\n",
    "print()\n",
    "A=[A[i][j] for i in range(4) for j in range(4)]\n",
    "print(\"the right diagonals are :\")\n",
    "print(A[::5])\n"
   ]
  },
  {
   "cell_type": "markdown",
   "metadata": {},
   "source": [
    "# In class lab exercise :\n",
    "Modify the above program to print the left diagonal elements i.e 4,7,10,13\n"
   ]
  },
  {
   "cell_type": "code",
   "execution_count": 317,
   "metadata": {},
   "outputs": [
    {
     "name": "stdout",
     "output_type": "stream",
     "text": [
      "[[ 1  2  3  4]\n",
      " [ 5  6  7  8]\n",
      " [ 9 10 11 12]\n",
      " [13 14 15 16]]\n",
      "\n",
      "the left diagonals are :\n",
      "[4, 7, 10, 13]\n"
     ]
    }
   ],
   "source": [
    "A=np.arange(1,17).reshape(4,4)\n",
    "print(A)\n",
    "print()\n",
    "A=[A[i][j] for i in range(4) for j in range(4)]\n",
    "print(\"the left diagonals are :\")\n",
    "print(A[3:-1:3])"
   ]
  },
  {
   "cell_type": "markdown",
   "metadata": {},
   "source": [
    "# In class lab exercise WAP : \n",
    "Take N elments into a function, the function must be able to generate a zero array of an appropriate dimension and populate the N elements as the right diagonal elements of the array. \n"
   ]
  },
  {
   "cell_type": "code",
   "execution_count": 35,
   "metadata": {},
   "outputs": [
    {
     "name": "stdout",
     "output_type": "stream",
     "text": [
      "zero array of dimension 4*4 :\n",
      "[[0 0 0 0]\n",
      " [0 0 0 0]\n",
      " [0 0 0 0]\n",
      " [0 0 0 0]]\n",
      "\n",
      "populating the N elements as the right diagonal elements of the array :\n",
      "[[1 0 0 0]\n",
      " [0 2 0 0]\n",
      " [0 0 3 0]\n",
      " [0 0 0 4]]\n"
     ]
    }
   ],
   "source": [
    "z=np.zeros((4,4),dtype=int)\n",
    "print(\"zero array of dimension 4*4 :\")\n",
    "print(z)\n",
    "print()\n",
    "z=[z[i][j] for i in range(4) for j in range(4)]\n",
    "z[::5]=[1,2,3,4]\n",
    "a=np.array(z).reshape(4,4)\n",
    "print(\"populating the N elements as the right diagonal elements of the array :\")\n",
    "print(a)\n",
    "    \n"
   ]
  },
  {
   "cell_type": "markdown",
   "metadata": {},
   "source": [
    "# *************Take home weekend group assignment************\n",
    "\n",
    "WAP to solve the below sudoku \n",
    "\n",
    "0 4 0 1\n",
    "3 0 4 0\n",
    "1 0 0 4\n",
    "0 2 1 0 \n",
    "\n",
    "The zero's represent empty cells. \n",
    "\n",
    "\n",
    "\n",
    "Note : Do not use the readily available algorithms to solve the sudoku problems. Instead, develop your custom code to solve only the above problem. Each group should choose a different sudoku problem which is at least 4 by 4 and above.   \n",
    "\n",
    " \n",
    "\n"
   ]
  },
  {
   "cell_type": "code",
   "execution_count": 8,
   "metadata": {
    "scrolled": true
   },
   "outputs": [
    {
     "name": "stdout",
     "output_type": "stream",
     "text": [
      "[[0 2 1 0]\n",
      " [1 0 0 3]\n",
      " [4 0 3 0]\n",
      " [0 2 4 0]]\n",
      "[0, 2, 1, 0]\n",
      "1\n",
      "2\n",
      "1\n",
      "1\n",
      "0 2 1 0\n",
      "3\n",
      "5\n",
      "[0, 2, 1, 0, 1, 0, 0, 3, 4, 0, 3, 0, 0, 2, 4, 0]\n",
      "[0, 1, 4, 0, 2, 0, 0, 2, 1, 0, 3, 4, 0, 3, 0, 0]\n"
     ]
    }
   ],
   "source": [
    "Sudoku=np.array([[0,2,1,0],[1,0,0,3],[4,0,3,0],[0,2,4,0]])\n",
    "z1=[]\n",
    "sum=0\n",
    "print(Sudoku)\n",
    "S=Sudoku.T\n",
    "z=[Sudoku[i][j] for i in range(4) for j in range(4)]\n",
    "z1=z[:4]\n",
    "print(z1)\n",
    "for k in z1:\n",
    "    if k==0:\n",
    "        k=1\n",
    "    print(k)\n",
    "    sum+=k\n",
    "print(z1[0],z1[1],z1[2],z1[3])\n",
    "sum1=z1[0]+z1[1]+z1[2]+z1[3]\n",
    "print(sum1)\n",
    "print(sum)\n",
    "    \n",
    "print(z)\n",
    "z2=[S[i][j] for i in range(4) for j in range(4)]\n",
    "print(z2)\n",
    "\n",
    "    "
   ]
  },
  {
   "cell_type": "code",
   "execution_count": 9,
   "metadata": {},
   "outputs": [
    {
     "name": "stdout",
     "output_type": "stream",
     "text": [
      "[[0 4 0 1]\n",
      " [3 0 4 0]\n",
      " [1 0 0 4]\n",
      " [0 2 1 0]]\n",
      "[[2 4 3 1]\n",
      " [3 1 4 2]\n",
      " [1 3 2 4]\n",
      " [4 2 1 3]]\n"
     ]
    }
   ],
   "source": [
    "#sudoku\n",
    "import numpy as np\n",
    "\n",
    "c=[[0,4,0,1],[3,0,4,0],[1,0,0,4],[0,2,1,0]]\n",
    "matrix=np.array(c)\n",
    "print(matrix)\n",
    "\n",
    "def mat(lis):\n",
    "    for lis_1 in lis:\n",
    "        for row in range(0,4):\n",
    "            for col in range(0,4):\n",
    "                if lis_1 not in matrix[row] and lis_1 not in matrix[:,col]:\n",
    "                    if matrix[row,col]==0:\n",
    "                        matrix[row,col]=lis_1\n",
    "    return matrix\n",
    "lis=list(range(1,5))\n",
    "print(mat(lis))"
   ]
  },
  {
   "cell_type": "code",
   "execution_count": null,
   "metadata": {},
   "outputs": [],
   "source": []
  }
 ],
 "metadata": {
  "kernelspec": {
   "display_name": "Python 3",
   "language": "python",
   "name": "python3"
  },
  "language_info": {
   "codemirror_mode": {
    "name": "ipython",
    "version": 3
   },
   "file_extension": ".py",
   "mimetype": "text/x-python",
   "name": "python",
   "nbconvert_exporter": "python",
   "pygments_lexer": "ipython3",
   "version": "3.7.1"
  }
 },
 "nbformat": 4,
 "nbformat_minor": 2
}
