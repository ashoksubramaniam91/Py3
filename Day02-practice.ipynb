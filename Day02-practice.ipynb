{
 "cells": [
  {
   "cell_type": "code",
   "execution_count": 88,
   "metadata": {},
   "outputs": [
    {
     "name": "stdout",
     "output_type": "stream",
     "text": [
      "enter first number5\n",
      "enter second number6\n",
      "enter third number7\n",
      "enter a stringdf\n",
      "[5, 6, 7, 'df']\n",
      "['df', 5, 6, 7, 18]\n"
     ]
    }
   ],
   "source": [
    "a=int(input(\"enter first number\"))\n",
    "b=int(input(\"enter second number\"))\n",
    "c=int(input(\"enter third number\"))\n",
    "d=input(\"enter a string\")\n",
    "list1=[a,b,c,d]\n",
    "print(list1)\n",
    "e=a+b+c\n",
    "list1.append(e)\n",
    "\n",
    "f=list1[3:4]\n",
    "g=list1[4:]\n",
    "h=list1[0:3]\n",
    "\n",
    "i=f+h+g\n",
    "print(i)"
   ]
  },
  {
   "cell_type": "code",
   "execution_count": 19,
   "metadata": {},
   "outputs": [
    {
     "name": "stdout",
     "output_type": "stream",
     "text": [
      "enter length4\n",
      "enter breadth5\n",
      "area of rectangle is  20\n"
     ]
    }
   ],
   "source": [
    "l=int(input(\"enter length\"))\n",
    "b=int(input(\"enter breadth\"))\n",
    "a=l*b\n",
    "print(\"area of rectangle is \",a)"
   ]
  },
  {
   "cell_type": "code",
   "execution_count": 67,
   "metadata": {},
   "outputs": [
    {
     "name": "stdout",
     "output_type": "stream",
     "text": [
      "enter a date27/01/1991\n",
      "['27', '01', '1991']\n",
      "1991 / 27 / 01\n"
     ]
    }
   ],
   "source": [
    "dt=input(\"enter a date\")\n",
    "newdt=dt.split('/')\n",
    "print(newdt)\n",
    "print(newdt[2],\"/\",newdt[0],\"/\",newdt[1])"
   ]
  },
  {
   "cell_type": "code",
   "execution_count": 66,
   "metadata": {},
   "outputs": [
    {
     "name": "stdout",
     "output_type": "stream",
     "text": [
      "enter a quotejhd sdkj sdkj ksdj\n",
      "JHD SDKJ SDKJ KSDJ\n",
      "jhd sdkj sdkj ksdj\n",
      "Jhd sdkj sdkj ksdj\n",
      "Jhd Sdkj Sdkj Ksdj\n"
     ]
    }
   ],
   "source": [
    "quote=input(\"enter a quote\")\n",
    "print(quote.upper())\n",
    "print(quote.lower())\n",
    "print(quote.capitalize())\n",
    "print(quote.title())"
   ]
  },
  {
   "cell_type": "code",
   "execution_count": null,
   "metadata": {},
   "outputs": [],
   "source": [
    "tempe=int(input(\"enter the temperature\"))\n",
    "if(tempe>100):\n",
    "    print(\"it is hot\")\n",
    "elif((tempe>=0) and (tempe <=60)):\n",
    "    print(\"it is cold\")\n",
    "elif((tempe>=61) and (tempe<=99)):\n",
    "    print(\"it is just right\")\n",
    "else:\n",
    "    print(\"unknown\")\n"
   ]
  },
  {
   "cell_type": "code",
   "execution_count": 26,
   "metadata": {},
   "outputs": [
    {
     "data": {
      "text/plain": [
       "[0,\n",
       " 2,\n",
       " 4,\n",
       " 6,\n",
       " 8,\n",
       " 10,\n",
       " 12,\n",
       " 14,\n",
       " 16,\n",
       " 18,\n",
       " 20,\n",
       " 22,\n",
       " 24,\n",
       " 26,\n",
       " 28,\n",
       " 30,\n",
       " 32,\n",
       " 34,\n",
       " 36,\n",
       " 38,\n",
       " 40,\n",
       " 42,\n",
       " 44,\n",
       " 46,\n",
       " 48,\n",
       " 50,\n",
       " 52,\n",
       " 54,\n",
       " 56,\n",
       " 58,\n",
       " 60,\n",
       " 62,\n",
       " 64,\n",
       " 66,\n",
       " 68,\n",
       " 70,\n",
       " 72,\n",
       " 74,\n",
       " 76,\n",
       " 78,\n",
       " 80,\n",
       " 82,\n",
       " 84,\n",
       " 86,\n",
       " 88,\n",
       " 90,\n",
       " 92,\n",
       " 94,\n",
       " 96,\n",
       " 98,\n",
       " 100]"
      ]
     },
     "execution_count": 26,
     "metadata": {},
     "output_type": "execute_result"
    }
   ],
   "source": [
    "list(range(0,102,2))"
   ]
  },
  {
   "cell_type": "code",
   "execution_count": 1,
   "metadata": {},
   "outputs": [
    {
     "name": "stdout",
     "output_type": "stream",
     "text": [
      "enter a sentencekjdndf6df5fdkjvbd kdjfdf g654 sdkjf65\n",
      "27\n",
      "7\n"
     ]
    }
   ],
   "source": [
    "#wap that accepts a sentence and calculates the number of letters and digits in sentence\n",
    "a=input(\"enter a sentence\")\n",
    "b=c=0\n",
    "for x in a:\n",
    "    if x.isalpha():\n",
    "        b=b+1\n",
    "    elif x.isdigit():\n",
    "        c=c+1\n",
    "print(b)\n",
    "print(c)\n"
   ]
  },
  {
   "cell_type": "code",
   "execution_count": 28,
   "metadata": {},
   "outputs": [
    {
     "name": "stdout",
     "output_type": "stream",
     "text": [
      "enter the value of n10\n",
      "[0, 1, 4, 9, 16, 25, 36, 49, 64, 81]\n"
     ]
    }
   ],
   "source": [
    "#create a list which has elements like: 1*1,2*2,3*3......\n",
    "#list comprehension\n",
    "n=int(input(\"enter the value of n\"))\n",
    "a=list(range(n))\n",
    "sq=[i*i for i in a]\n",
    "print(sq)\n",
    "    \n",
    "\n",
    "\n"
   ]
  },
  {
   "cell_type": "code",
   "execution_count": 36,
   "metadata": {},
   "outputs": [
    {
     "name": "stdout",
     "output_type": "stream",
     "text": [
      "smith\\exam\\test.txt\n"
     ]
    }
   ],
   "source": [
    "print(\"smith\\exam\\\\test.txt\")# if \\test is given then it will give space this is called as escape string"
   ]
  },
  {
   "cell_type": "code",
   "execution_count": null,
   "metadata": {},
   "outputs": [],
   "source": [
    "#rock scissor and paper\n",
    "n=int(input(\"enter the loop no\"))\n",
    "player1=0;player2=0\n",
    "print(\"rock=1,scissor=2,paper=3\")\n",
    "for data in range(0,n):\n",
    "    p1=int(input())\n",
    "    p2=int(input())\n",
    "    if p1==1 and p2==2:\n",
    "        palyer1+=1\n",
    "    elif p1==1 and p2==3:\n",
    "        player2+=1\n",
    "    elif p1==2 and p2==3:\n",
    "        player1+=1\n",
    "    elif p1==2 and p2==1:\n",
    "        player1+=1\n",
    "    elif p1==3 and p2==1:\n",
    "        player1+=1\n",
    "    elif p1==3 and p2==2:\n",
    "        player1+=1\n",
    "    else:\n",
    "        print(\"same inputs\")\n",
    "if(player1>player2):\n",
    "    print(\"player1 wins\")\n",
    "else:\n",
    "    print(\"player2 wins\")\n",
    "        "
   ]
  },
  {
   "cell_type": "code",
   "execution_count": 3,
   "metadata": {},
   "outputs": [],
   "source": [
    "import math"
   ]
  },
  {
   "cell_type": "code",
   "execution_count": 6,
   "metadata": {},
   "outputs": [
    {
     "data": {
      "text/plain": [
       "['__doc__',\n",
       " '__loader__',\n",
       " '__name__',\n",
       " '__package__',\n",
       " '__spec__',\n",
       " 'acos',\n",
       " 'acosh',\n",
       " 'asin',\n",
       " 'asinh',\n",
       " 'atan',\n",
       " 'atan2',\n",
       " 'atanh',\n",
       " 'ceil',\n",
       " 'copysign',\n",
       " 'cos',\n",
       " 'cosh',\n",
       " 'degrees',\n",
       " 'e',\n",
       " 'erf',\n",
       " 'erfc',\n",
       " 'exp',\n",
       " 'expm1',\n",
       " 'fabs',\n",
       " 'factorial',\n",
       " 'floor',\n",
       " 'fmod',\n",
       " 'frexp',\n",
       " 'fsum',\n",
       " 'gamma',\n",
       " 'gcd',\n",
       " 'hypot',\n",
       " 'inf',\n",
       " 'isclose',\n",
       " 'isfinite',\n",
       " 'isinf',\n",
       " 'isnan',\n",
       " 'ldexp',\n",
       " 'lgamma',\n",
       " 'log',\n",
       " 'log10',\n",
       " 'log1p',\n",
       " 'log2',\n",
       " 'modf',\n",
       " 'nan',\n",
       " 'pi',\n",
       " 'pow',\n",
       " 'radians',\n",
       " 'remainder',\n",
       " 'sin',\n",
       " 'sinh',\n",
       " 'sqrt',\n",
       " 'tan',\n",
       " 'tanh',\n",
       " 'tau',\n",
       " 'trunc']"
      ]
     },
     "execution_count": 6,
     "metadata": {},
     "output_type": "execute_result"
    }
   ],
   "source": [
    "dir(math)"
   ]
  },
  {
   "cell_type": "code",
   "execution_count": 8,
   "metadata": {},
   "outputs": [
    {
     "name": "stdout",
     "output_type": "stream",
     "text": [
      "Help on built-in function fsum in module math:\n",
      "\n",
      "fsum(seq, /)\n",
      "    Return an accurate floating point sum of values in the iterable seq.\n",
      "    \n",
      "    Assumes IEEE-754 floating point arithmetic.\n",
      "\n"
     ]
    }
   ],
   "source": [
    "help(math.fsum)"
   ]
  },
  {
   "cell_type": "code",
   "execution_count": 17,
   "metadata": {},
   "outputs": [
    {
     "name": "stdout",
     "output_type": "stream",
     "text": [
      "43302432.0\n"
     ]
    }
   ],
   "source": [
    "a=list(range(334,667,2))\n",
    "s=[i*i for i in a]\n",
    "b=math.fsum(s)\n",
    "print(b)"
   ]
  },
  {
   "cell_type": "code",
   "execution_count": 16,
   "metadata": {},
   "outputs": [
    {
     "name": "stdout",
     "output_type": "stream",
     "text": [
      "3628800\n"
     ]
    }
   ],
   "source": [
    "n=10\n",
    "c=math.factorial(n)\n",
    "print(c)"
   ]
  },
  {
   "cell_type": "code",
   "execution_count": 1,
   "metadata": {},
   "outputs": [
    {
     "name": "stdout",
     "output_type": "stream",
     "text": [
      "no of terms5\n",
      "Fibonacci upto 5 :\n",
      "0\n",
      "1\n",
      "1\n",
      "2\n",
      "3\n"
     ]
    }
   ],
   "source": [
    "#fibonacci\n",
    "n=int(input(\"no of terms\"))\n",
    "n1=0\n",
    "n2=1\n",
    "c=0\n",
    "print(\"Fibonacci upto\",n,\":\")\n",
    "while(c<n):\n",
    "    print(n1)\n",
    "    n3=n1+n2\n",
    "    n1=n2\n",
    "    n2=n3\n",
    "    c+=1"
   ]
  },
  {
   "cell_type": "code",
   "execution_count": 3,
   "metadata": {},
   "outputs": [
    {
     "name": "stdout",
     "output_type": "stream",
     "text": [
      "A\n",
      "B\n",
      "C\n"
     ]
    }
   ],
   "source": [
    "def A(a):\n",
    "    print(\"A\")\n",
    "    B()\n",
    "    \n",
    "def B():\n",
    "    print(\"B\")\n",
    "    C()\n",
    "    \n",
    "def C():\n",
    "    print(\"C\")\n",
    "    \n",
    "x=A(1)"
   ]
  },
  {
   "cell_type": "code",
   "execution_count": 5,
   "metadata": {},
   "outputs": [
    {
     "name": "stdout",
     "output_type": "stream",
     "text": [
      "enter sentence She is in her 40's but behaves as if she is a teenager who is 16!\n",
      "Entered string is :\n",
      "[['She', 'is', 'in', 'her', \"40's\", 'but', 'behaves', 'as', 'if', 'she', 'is', 'a', 'teenager', 'who', 'is', '16!']]\n",
      "\n",
      "extrating numbers, in case of presence of any special char that is also extracted\n",
      "[\"40's\", '16!']\n",
      "\n",
      "['4', '0', '1', '6']\n"
     ]
    }
   ],
   "source": [
    "import re\n",
    "def A(sentence):\n",
    "    l1=[]\n",
    "    a=[]\n",
    "    nl=[]\n",
    "    newdt=sentence.split(' ')\n",
    "    l1.append(newdt)\n",
    "    print(\"Entered string is :\")\n",
    "    print(l1)\n",
    "    print()\n",
    "    for i in l1:\n",
    "        r = re.compile(\".*[0-9]\")\n",
    "        newlist = list(filter(r.match,i))\n",
    "        print(\"extrating numbers, in case of presence of any special char that is also extracted\")\n",
    "        print(newlist)\n",
    "        print()\n",
    "        for j in newlist:\n",
    "            r=re.compile(\".*[0-9]\")\n",
    "            nl=list(filter(r.match,j))\n",
    "            a+=nl\n",
    "        print(a)\n",
    "\n",
    "\n",
    "x=A(input(\"enter sentence \"))"
   ]
  }
 ],
 "metadata": {
  "kernelspec": {
   "display_name": "Python 3",
   "language": "python",
   "name": "python3"
  },
  "language_info": {
   "codemirror_mode": {
    "name": "ipython",
    "version": 3
   },
   "file_extension": ".py",
   "mimetype": "text/x-python",
   "name": "python",
   "nbconvert_exporter": "python",
   "pygments_lexer": "ipython3",
   "version": "3.7.1"
  }
 },
 "nbformat": 4,
 "nbformat_minor": 2
}
