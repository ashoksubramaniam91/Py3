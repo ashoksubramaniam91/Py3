{
 "cells": [
  {
   "cell_type": "code",
   "execution_count": 3,
   "metadata": {},
   "outputs": [
    {
     "name": "stdout",
     "output_type": "stream",
     "text": [
      "Args are 2, 4, 8\n",
      "Sum of Args is 14\n",
      "14\n"
     ]
    }
   ],
   "source": [
    "#functions\n",
    "def myFunction(a,b,c):\n",
    "    s=a+b+c\n",
    "    print(\"Args are %d, %d, %d\"%(a,b,c))\n",
    "    print(\"Sum of Args is\",s)\n",
    "    return s\n",
    "\n",
    "x=myFunction(2,4,8)\n",
    "print(x)"
   ]
  },
  {
   "cell_type": "code",
   "execution_count": 5,
   "metadata": {},
   "outputs": [
    {
     "name": "stdout",
     "output_type": "stream",
     "text": [
      "4 5 9\n",
      "None\n",
      "Hello World HelloWorld\n",
      "None\n"
     ]
    }
   ],
   "source": [
    "def myFunction1(param1,param2):\n",
    "    print(param1,param2,param1+param2)\n",
    "    \n",
    "x=myFunction1(4,5)\n",
    "print(x)\n",
    "x=myFunction1(\"Hello\",\"World\")\n",
    "print(x)"
   ]
  },
  {
   "cell_type": "code",
   "execution_count": 45,
   "metadata": {},
   "outputs": [
    {
     "name": "stdout",
     "output_type": "stream",
     "text": [
      "[0, 1, 1, 2, 3, 5, 8, 13, 21, 34, 55, 89, 144, 233, 377, 610, 987, 1597, 2584, 4181]\n"
     ]
    }
   ],
   "source": [
    "def fibonacci(nterms):\n",
    "    n1=0\n",
    "    n2=1\n",
    "    Series=[n1,n2]\n",
    "    for i in range(nterms-2):\n",
    "        nth=n1+n2\n",
    "        Series.append(nth)\n",
    "        n1,n2=n2,nth\n",
    "    return Series\n",
    "\n",
    "Fibo=fibonacci(20)\n",
    "print(Fibo)\n",
    "\n",
    "   "
   ]
  },
  {
   "cell_type": "code",
   "execution_count": 3,
   "metadata": {},
   "outputs": [
    {
     "name": "stdout",
     "output_type": "stream",
     "text": [
      "True\n"
     ]
    }
   ],
   "source": [
    "#prime or not\n",
    "def PrimeSeries(num):\n",
    "    for i in range(2,int(num**0.5)+1):\n",
    "        if num%i==0:\n",
    "            return False\n",
    "    return True\n",
    "\n",
    "x=PrimeSeries(2)\n",
    "print(x)\n",
    "    \n",
    "       "
   ]
  },
  {
   "cell_type": "code",
   "execution_count": 8,
   "metadata": {},
   "outputs": [],
   "source": [
    "import math\n",
    "def isPrime(n=20):\n",
    "    for i in range(2,int(math.sqrt(n)+1)):\n",
    "        if n%i==0:\n",
    "            return False\n",
    "    return True"
   ]
  },
  {
   "cell_type": "code",
   "execution_count": 6,
   "metadata": {},
   "outputs": [
    {
     "data": {
      "text/plain": [
       "False"
      ]
     },
     "execution_count": 6,
     "metadata": {},
     "output_type": "execute_result"
    }
   ],
   "source": [
    "isPrime()"
   ]
  },
  {
   "cell_type": "code",
   "execution_count": 7,
   "metadata": {},
   "outputs": [
    {
     "name": "stdout",
     "output_type": "stream",
     "text": [
      "enter number200\n",
      "[2, 3, 5, 7, 11, 13, 17, 19, 23, 29, 31, 37, 41, 43, 47, 53, 59, 61, 67, 71, 73, 79, 83, 89, 97, 101, 103, 107, 109, 113, 127, 131, 137, 139, 149, 151, 157, 163, 167, 173, 179, 181, 191, 193, 197, 199]\n"
     ]
    }
   ],
   "source": [
    "def PrimeSeries(nterms):\n",
    "    Series=[]\n",
    "    for i in range(2,nterms):\n",
    "        nth=isPrime(i)\n",
    "        if(nth):\n",
    "            Series.append(i)\n",
    "    return Series\n",
    "\n",
    "Prime=PrimeSeries(int(input(\"enter number\")))\n",
    "print(Prime)"
   ]
  },
  {
   "cell_type": "code",
   "execution_count": null,
   "metadata": {},
   "outputs": [],
   "source": [
    "#pass by eference\n"
   ]
  },
  {
   "cell_type": "code",
   "execution_count": 20,
   "metadata": {},
   "outputs": [
    {
     "name": "stdout",
     "output_type": "stream",
     "text": [
      "Ashok 15\n",
      "Ashok 12\n",
      "Ashok 5\n"
     ]
    }
   ],
   "source": [
    "#required arguments\n",
    "#keyword arguments\n",
    "#degault arguments\n",
    "\n",
    "def printfo2(name,num=5):\n",
    "    print(name,num)\n",
    "    return\n",
    "\n",
    "printfo2(\"Ashok\",15)\n",
    "printfo2(num=12,name=\"Ashok\")\n",
    "printfo2(\"Ashok\")"
   ]
  },
  {
   "cell_type": "code",
   "execution_count": 40,
   "metadata": {},
   "outputs": [
    {
     "name": "stdout",
     "output_type": "stream",
     "text": [
      "[1, 2, 3, 5, 7, 11, 13, 17, 19, 23, 29, 31, 37, 41, 43, 47, 53, 59, 61, 67, 71, 73, 79, 83, 89, 97, 101, 103, 107, 109, 113, 127, 131, 137, 139, 149, 151, 157, 163, 167, 173, 179, 181, 191, 193, 197, 199, 211, 223, 227, 229, 233, 239, 241, 251, 257, 263, 269, 271, 277, 281, 283, 293, 307, 311, 313, 317, 331, 337, 347, 349, 353, 359, 367, 373, 379, 383, 389, 397, 401, 409, 419, 421, 431, 433, 439, 443, 449, 457, 461, 463, 467, 479, 487, 491, 499, 503, 509, 521, 523, 541, 547, 557, 563, 569, 571, 577, 587, 593, 599, 601, 607, 613, 617, 619, 631, 641, 643, 647, 653, 659, 661, 673, 677, 683, 691, 701, 709, 719, 727, 733, 739, 743, 751, 757, 761, 769, 773, 787, 797, 809, 811, 821, 823, 827, 829, 839, 853, 857, 859, 863, 877, 881, 883, 887, 907, 911, 919, 929, 937, 941, 947, 953, 967, 971, 977, 983, 991, 997]\n"
     ]
    }
   ],
   "source": [
    "def PrimeRange(begin=2,end=100):\n",
    "    Series=[]\n",
    "    for i in range(begin,end):\n",
    "        nth=isPrime(i)\n",
    "        if(nth):\n",
    "            Series.append(i)\n",
    "    return Series\n",
    "\n",
    "Prime=PrimeRange(1,1000)\n",
    "print(Prime)"
   ]
  },
  {
   "cell_type": "code",
   "execution_count": 39,
   "metadata": {},
   "outputs": [
    {
     "data": {
      "text/plain": [
       "[41, 43, 47, 53, 59, 61, 67, 71, 73, 79, 83, 89, 97]"
      ]
     },
     "execution_count": 39,
     "metadata": {},
     "output_type": "execute_result"
    }
   ],
   "source": [
    "PrimeRange(40)"
   ]
  },
  {
   "cell_type": "code",
   "execution_count": 41,
   "metadata": {},
   "outputs": [
    {
     "ename": "TypeError",
     "evalue": "printinfo3() missing 1 required positional argument: 'vartuple'",
     "output_type": "error",
     "traceback": [
      "\u001b[1;31m---------------------------------------------------------------------------\u001b[0m",
      "\u001b[1;31mTypeError\u001b[0m                                 Traceback (most recent call last)",
      "\u001b[1;32m<ipython-input-41-491b6fa7f1ce>\u001b[0m in \u001b[0;36m<module>\u001b[1;34m\u001b[0m\n\u001b[0;32m      6\u001b[0m     \u001b[1;32mreturn\u001b[0m\u001b[1;33m\u001b[0m\u001b[1;33m\u001b[0m\u001b[0m\n\u001b[0;32m      7\u001b[0m \u001b[1;33m\u001b[0m\u001b[0m\n\u001b[1;32m----> 8\u001b[1;33m \u001b[0mprintinfo3\u001b[0m\u001b[1;33m(\u001b[0m\u001b[1;36m40\u001b[0m\u001b[1;33m)\u001b[0m\u001b[1;33m\u001b[0m\u001b[1;33m\u001b[0m\u001b[0m\n\u001b[0m\u001b[0;32m      9\u001b[0m \u001b[0mprint\u001b[0m\u001b[1;33m(\u001b[0m\u001b[1;33m)\u001b[0m\u001b[1;33m\u001b[0m\u001b[1;33m\u001b[0m\u001b[0m\n\u001b[0;32m     10\u001b[0m \u001b[0mprintinfo3\u001b[0m\u001b[1;33m(\u001b[0m\u001b[1;36m70\u001b[0m\u001b[1;33m,\u001b[0m\u001b[1;36m60\u001b[0m\u001b[1;33m,\u001b[0m\u001b[1;36m50\u001b[0m\u001b[1;33m)\u001b[0m\u001b[1;33m\u001b[0m\u001b[1;33m\u001b[0m\u001b[0m\n",
      "\u001b[1;31mTypeError\u001b[0m: printinfo3() missing 1 required positional argument: 'vartuple'"
     ]
    }
   ],
   "source": [
    "#variable length arguments  #throw an erro coz it should be *vartuple\n",
    "def printinfo3(a,vartuple):\n",
    "    print(a)\n",
    "    for var in vartuple:\n",
    "        print(var,end='')\n",
    "    return\n",
    "\n",
    "printinfo3(40)\n",
    "print()\n",
    "printinfo3(70,60,50)"
   ]
  },
  {
   "cell_type": "code",
   "execution_count": 46,
   "metadata": {},
   "outputs": [
    {
     "name": "stdout",
     "output_type": "stream",
     "text": [
      "40\n",
      "\n",
      "70\n",
      "60 50 "
     ]
    }
   ],
   "source": [
    "def printinfo3(a,*vartuple): #alwyas *vartuple should be at the end\n",
    "    print(a)\n",
    "    for var in vartuple:\n",
    "        print(var,end=\" \")\n",
    "    return\n",
    "\n",
    "printinfo3(40)\n",
    "print()\n",
    "printinfo3(70,60,50)"
   ]
  },
  {
   "cell_type": "code",
   "execution_count": 47,
   "metadata": {},
   "outputs": [
    {
     "name": "stdout",
     "output_type": "stream",
     "text": [
      "40 50\n",
      "\n",
      "70 60\n",
      "50 10 20 15 50 "
     ]
    }
   ],
   "source": [
    "def printinfo3(a,b,*vartuple):\n",
    "    print(a,b)\n",
    "    for var in vartuple:\n",
    "        print(var,end=\" \")\n",
    "    return\n",
    "\n",
    "printinfo3(40,50)\n",
    "print()\n",
    "printinfo3(70,60,50,10,20,15,50)"
   ]
  },
  {
   "cell_type": "code",
   "execution_count": 48,
   "metadata": {},
   "outputs": [],
   "source": [
    "#Lambda"
   ]
  },
  {
   "cell_type": "code",
   "execution_count": 52,
   "metadata": {},
   "outputs": [
    {
     "name": "stdout",
     "output_type": "stream",
     "text": [
      "-10\n"
     ]
    }
   ],
   "source": [
    "sub=lambda a,b:a-b\n",
    "s=sub(10,20)\n",
    "print(s)"
   ]
  },
  {
   "cell_type": "code",
   "execution_count": 55,
   "metadata": {},
   "outputs": [
    {
     "name": "stdout",
     "output_type": "stream",
     "text": [
      "200\n",
      "multiplication  50\n"
     ]
    }
   ],
   "source": [
    "mul=lambda a,b:a*b\n",
    "m=mul(10,20)\n",
    "print(m)\n",
    "print(\"multiplication \",mul(10,5))"
   ]
  },
  {
   "cell_type": "code",
   "execution_count": 59,
   "metadata": {},
   "outputs": [
    {
     "name": "stdout",
     "output_type": "stream",
     "text": [
      "22 33 21 23 25.67 Windows\n",
      "22,16,26,Windows,25.670000\n",
      "    22,   Windows,25.670\n"
     ]
    }
   ],
   "source": [
    "#print methods\n",
    "numd=22\n",
    "numh=0x21\n",
    "numo=0o25\n",
    "numb=0b10111\n",
    "numf=25.67\n",
    "str1=\"Windows\"\n",
    "\n",
    "print(numd,numh,numo,numb,numf,str1)\n",
    "print(\"%d,%x,%o,%s,%f\"%(numd,numd,numd,str1,numf))\n",
    "print(\"%6d,%10s,%2.3f\"%(numd,str1,numf)) #padding, precision"
   ]
  },
  {
   "cell_type": "code",
   "execution_count": 61,
   "metadata": {},
   "outputs": [
    {
     "name": "stdout",
     "output_type": "stream",
     "text": [
      "30 10 <class 'int'>\n",
      "(90, 30) <class 'tuple'> 30\n"
     ]
    }
   ],
   "source": [
    "def myFunction(n1,n2):\n",
    "    s=n1+n2\n",
    "    d=n1-n2\n",
    "    return s,d\n",
    "\n",
    "s1,d1=myFunction(20,10)\n",
    "print(s1,d1,type(s1))\n",
    "\n",
    "r1=myFunction(60,30)\n",
    "print(r1,type(r1),r1[1])"
   ]
  },
  {
   "cell_type": "code",
   "execution_count": 69,
   "metadata": {},
   "outputs": [
    {
     "name": "stdout",
     "output_type": "stream",
     "text": [
      "(150, 30, 5400, 0.6666666666666666, 60) <class 'tuple'> 30\n",
      "150\n",
      "30\n",
      "5400\n",
      "0.6666666666666666\n",
      "60\n"
     ]
    }
   ],
   "source": [
    "def BasicMath(n1,n2):\n",
    "    sum=n1+n2\n",
    "    if n1>n2:\n",
    "        diff=n1-n2\n",
    "    elif n2>n1:\n",
    "        diff=n2-n1\n",
    "    mul=n1*n2\n",
    "    div=n1/n2\n",
    "    flo=n1%n2\n",
    "    \n",
    "    return sum,diff,mul,div,flo\n",
    "\n",
    "\n",
    "r1=BasicMath(60,90)\n",
    "print(r1,type(r1),r1[1])\n",
    "for i in r1:\n",
    "    print(i)"
   ]
  },
  {
   "cell_type": "code",
   "execution_count": 71,
   "metadata": {},
   "outputs": [
    {
     "data": {
      "text/plain": [
       "['__add__',\n",
       " '__class__',\n",
       " '__contains__',\n",
       " '__delattr__',\n",
       " '__delitem__',\n",
       " '__dir__',\n",
       " '__doc__',\n",
       " '__eq__',\n",
       " '__format__',\n",
       " '__ge__',\n",
       " '__getattribute__',\n",
       " '__getitem__',\n",
       " '__gt__',\n",
       " '__hash__',\n",
       " '__iadd__',\n",
       " '__imul__',\n",
       " '__init__',\n",
       " '__init_subclass__',\n",
       " '__iter__',\n",
       " '__le__',\n",
       " '__len__',\n",
       " '__lt__',\n",
       " '__mul__',\n",
       " '__ne__',\n",
       " '__new__',\n",
       " '__reduce__',\n",
       " '__reduce_ex__',\n",
       " '__repr__',\n",
       " '__reversed__',\n",
       " '__rmul__',\n",
       " '__setattr__',\n",
       " '__setitem__',\n",
       " '__sizeof__',\n",
       " '__str__',\n",
       " '__subclasshook__',\n",
       " 'append',\n",
       " 'clear',\n",
       " 'copy',\n",
       " 'count',\n",
       " 'extend',\n",
       " 'index',\n",
       " 'insert',\n",
       " 'pop',\n",
       " 'remove',\n",
       " 'reverse',\n",
       " 'sort']"
      ]
     },
     "execution_count": 71,
     "metadata": {},
     "output_type": "execute_result"
    }
   ],
   "source": [
    "dir(list)"
   ]
  },
  {
   "cell_type": "code",
   "execution_count": 5,
   "metadata": {},
   "outputs": [
    {
     "name": "stdout",
     "output_type": "stream",
     "text": [
      "list of inches  [24, 48, 72, 96, 120]\n"
     ]
    }
   ],
   "source": [
    "def f2i(feet):\n",
    "    l=[]\n",
    "    for i in feet:\n",
    "        i=i*12\n",
    "        l.append(i)\n",
    "    return l\n",
    "  \n",
    "a=f2i([2,4,6,8,10])\n",
    "print(\"list of inches \",a)\n",
    "\n",
    "    "
   ]
  },
  {
   "cell_type": "code",
   "execution_count": 11,
   "metadata": {},
   "outputs": [
    {
     "ename": "TypeError",
     "evalue": "'int' object is not iterable",
     "output_type": "error",
     "traceback": [
      "\u001b[1;31m---------------------------------------------------------------------------\u001b[0m",
      "\u001b[1;31mTypeError\u001b[0m                                 Traceback (most recent call last)",
      "\u001b[1;32m<ipython-input-11-5f92d34b4054>\u001b[0m in \u001b[0;36m<module>\u001b[1;34m\u001b[0m\n\u001b[0;32m      9\u001b[0m \u001b[1;33m\u001b[0m\u001b[0m\n\u001b[0;32m     10\u001b[0m \u001b[0mfoot\u001b[0m\u001b[1;33m=\u001b[0m\u001b[1;33m[\u001b[0m\u001b[1;36m2\u001b[0m\u001b[1;33m,\u001b[0m\u001b[1;36m4\u001b[0m\u001b[1;33m,\u001b[0m\u001b[1;36m6\u001b[0m\u001b[1;33m,\u001b[0m\u001b[1;36m8\u001b[0m\u001b[1;33m,\u001b[0m\u001b[1;36m10\u001b[0m\u001b[1;33m]\u001b[0m\u001b[1;33m\u001b[0m\u001b[1;33m\u001b[0m\u001b[0m\n\u001b[1;32m---> 11\u001b[1;33m \u001b[0minches\u001b[0m\u001b[1;33m=\u001b[0m\u001b[0mlist\u001b[0m\u001b[1;33m(\u001b[0m\u001b[0mmap\u001b[0m\u001b[1;33m(\u001b[0m\u001b[0mf2i\u001b[0m\u001b[1;33m,\u001b[0m\u001b[0mfoot\u001b[0m\u001b[1;33m)\u001b[0m\u001b[1;33m)\u001b[0m\u001b[1;33m\u001b[0m\u001b[1;33m\u001b[0m\u001b[0m\n\u001b[0m\u001b[0;32m     12\u001b[0m \u001b[0mprint\u001b[0m\u001b[1;33m(\u001b[0m\u001b[0minches\u001b[0m\u001b[1;33m)\u001b[0m\u001b[1;33m\u001b[0m\u001b[1;33m\u001b[0m\u001b[0m\n",
      "\u001b[1;32m<ipython-input-11-5f92d34b4054>\u001b[0m in \u001b[0;36mf2i\u001b[1;34m(foot)\u001b[0m\n\u001b[0;32m      3\u001b[0m \u001b[1;32mdef\u001b[0m \u001b[0mf2i\u001b[0m\u001b[1;33m(\u001b[0m\u001b[0mfoot\u001b[0m\u001b[1;33m)\u001b[0m\u001b[1;33m:\u001b[0m\u001b[1;33m\u001b[0m\u001b[1;33m\u001b[0m\u001b[0m\n\u001b[0;32m      4\u001b[0m     \u001b[0ml1\u001b[0m\u001b[1;33m=\u001b[0m\u001b[1;33m[\u001b[0m\u001b[1;33m]\u001b[0m\u001b[1;33m\u001b[0m\u001b[1;33m\u001b[0m\u001b[0m\n\u001b[1;32m----> 5\u001b[1;33m     \u001b[1;32mfor\u001b[0m \u001b[0mi\u001b[0m \u001b[1;32min\u001b[0m \u001b[0mfoot\u001b[0m\u001b[1;33m:\u001b[0m\u001b[1;33m\u001b[0m\u001b[1;33m\u001b[0m\u001b[0m\n\u001b[0m\u001b[0;32m      6\u001b[0m         \u001b[0ml2\u001b[0m\u001b[1;33m.\u001b[0m\u001b[0mappend\u001b[0m\u001b[1;33m(\u001b[0m\u001b[0mi\u001b[0m\u001b[1;33m*\u001b[0m\u001b[1;36m12\u001b[0m\u001b[1;33m)\u001b[0m\u001b[1;33m\u001b[0m\u001b[1;33m\u001b[0m\u001b[0m\n\u001b[0;32m      7\u001b[0m     \u001b[0mprint\u001b[0m\u001b[1;33m(\u001b[0m\u001b[0ml2\u001b[0m\u001b[1;33m)\u001b[0m\u001b[1;33m\u001b[0m\u001b[1;33m\u001b[0m\u001b[0m\n",
      "\u001b[1;31mTypeError\u001b[0m: 'int' object is not iterable"
     ]
    }
   ],
   "source": [
    "#mapping a function and list object\n",
    "\n",
    "def f2i(foot):\n",
    "    l1=[]\n",
    "    for i in foot:\n",
    "        l2.append(i*12)\n",
    "    print(l2)\n",
    "        \n",
    "\n",
    "foot=[2,4,6,8,10]\n",
    "inches=list(map(f2i,foot))\n",
    "print(inches)\n"
   ]
  },
  {
   "cell_type": "code",
   "execution_count": 12,
   "metadata": {},
   "outputs": [
    {
     "name": "stdout",
     "output_type": "stream",
     "text": [
      "<class 'map'> <map object at 0x0000000004EBE7B8>\n",
      "(120, 240, 360, 480, 600, 720)\n"
     ]
    }
   ],
   "source": [
    "#convert feet to inches\n",
    "feet=[10,20,30,40,50,60]\n",
    "inch=map(lambda F:F*12,feet)\n",
    "print(type(inch),inch)\n",
    "print(tuple(inch))"
   ]
  },
  {
   "cell_type": "code",
   "execution_count": 14,
   "metadata": {},
   "outputs": [
    {
     "name": "stdout",
     "output_type": "stream",
     "text": [
      "<class 'map'> <map object at 0x0000000004EBEA90>\n",
      "(1000, 2000, 3000, 4000, 5000, 6000)\n"
     ]
    }
   ],
   "source": [
    "#meters to centimeters\n",
    "meters=[10,20,30,40,50,60]\n",
    "cent=map(lambda M:M*100,meters)\n",
    "print(type(cent),cent)\n",
    "print(tuple(cent))"
   ]
  },
  {
   "cell_type": "code",
   "execution_count": 16,
   "metadata": {},
   "outputs": [
    {
     "name": "stdout",
     "output_type": "stream",
     "text": [
      "Help on built-in function max in module builtins:\n",
      "\n",
      "max(...)\n",
      "    max(iterable, *[, default=obj, key=func]) -> value\n",
      "    max(arg1, arg2, *args, *[, key=func]) -> value\n",
      "    \n",
      "    With a single iterable argument, return its biggest item. The\n",
      "    default keyword-only argument specifies an object to return if\n",
      "    the provided iterable is empty.\n",
      "    With two or more arguments, return the largest argument.\n",
      "\n"
     ]
    }
   ],
   "source": [
    "help(max)"
   ]
  },
  {
   "cell_type": "code",
   "execution_count": 25,
   "metadata": {},
   "outputs": [
    {
     "name": "stdout",
     "output_type": "stream",
     "text": [
      "132\n",
      "5\n",
      "[5, 7, 32, 56, 65, 132]\n",
      "6\n"
     ]
    }
   ],
   "source": [
    "a=[32,56,7,132,5,65]\n",
    "l=[]\n",
    "b=max(a)\n",
    "c=min(a)\n",
    "d=sorted(a)\n",
    "e=len(a)\n",
    "    \n",
    "print(b)\n",
    "print(c)\n",
    "print(d)\n",
    "print(e)"
   ]
  },
  {
   "cell_type": "code",
   "execution_count": 48,
   "metadata": {},
   "outputs": [
    {
     "name": "stdout",
     "output_type": "stream",
     "text": [
      "1\n",
      "0\n",
      "[1, 4, 7, 10, 13, 16, 19, 22, 25, 28, 31, 34, 37, 40, 43, 46, 49, 52, 55, 58]\n",
      "<class 'filter'>\n",
      "[1, 7, 13, 19, 25, 31, 37, 43, 49, 55]\n",
      "[]\n"
     ]
    }
   ],
   "source": [
    "odd=lambda x : x % 2\n",
    "print(odd(3))\n",
    "print(odd(14))\n",
    "num1=list(range(1,60,3)) #all the numbers from 1-60 split by 3\n",
    "print(num1)\n",
    "f=filter(odd,num1) #now all the num1 will pass thru odd and eliminate all the even numbers#works only for odd/truw logic\n",
    "print(type(f))\n",
    "print(list(f))\n",
    "print(list(f))"
   ]
  },
  {
   "cell_type": "code",
   "execution_count": 49,
   "metadata": {},
   "outputs": [
    {
     "name": "stdout",
     "output_type": "stream",
     "text": [
      "1\n",
      "0\n",
      "[1, 4, 7, 10, 13, 16, 19, 22, 25, 28, 31, 34, 37, 40, 43, 46, 49, 52, 55, 58]\n",
      "<class 'filter'>\n",
      "[1, 7, 13, 19, 31, 37, 43]\n",
      "[]\n"
     ]
    }
   ],
   "source": [
    "#prime or not\n",
    "odd=lambda x : x % 2\n",
    "print(odd(3))\n",
    "print(odd(14))\n",
    "num1=list(range(1,60,3)) #all the numbers from 1-60 split by 3\n",
    "print(num1)\n",
    "f=filter(isPrime,num1) #now all the num1 will pass thru odd and eliminate all the even numbers\n",
    "#filter/map will give a entity which is temporary, we shld just use loop n go thru it, once done it will be lost\n",
    "print(type(f))\n",
    "print(list(f))\n",
    "print(list(f))#hence we will get empty list #once read it will get empty so store it in a variable for future use\n",
    "#its called iterator"
   ]
  },
  {
   "cell_type": "code",
   "execution_count": 51,
   "metadata": {},
   "outputs": [
    {
     "name": "stdout",
     "output_type": "stream",
     "text": [
      "[1, 4, 7, 10, 13, 16, 19, 22, 25, 28, 31, 34, 37, 40, 43, 46, 49, 52, 55, 58]\n",
      "[4, 10, 16, 22, 28, 34, 40, 46, 52, 58]\n"
     ]
    }
   ],
   "source": [
    "#to filter only even numbers from a range\n",
    "num1=list(range(1,60,3))\n",
    "print(num1)\n",
    "f=list(filter(lambda x: not(x % 2),num1))\n",
    "print(f)"
   ]
  },
  {
   "cell_type": "code",
   "execution_count": 4,
   "metadata": {},
   "outputs": [
    {
     "name": "stdout",
     "output_type": "stream",
     "text": [
      "40320\n",
      "<class 'int'>\n"
     ]
    }
   ],
   "source": [
    "#the reduce function, reduce(function,iterable) applies 2 args\n",
    "#cumulatively to the items of iterable\n",
    "\n",
    "from functools import reduce\n",
    "mult=lambda x,y : x*y\n",
    "list1=[1,2,3,4,5,6,7,8]\n",
    "rproduct=reduce(mult,list1)\n",
    "print(rproduct)\n",
    "print(type(rproduct))\n"
   ]
  },
  {
   "cell_type": "code",
   "execution_count": 3,
   "metadata": {},
   "outputs": [
    {
     "name": "stdout",
     "output_type": "stream",
     "text": [
      "3.1622776601683795\n"
     ]
    }
   ],
   "source": [
    "from math import sqrt\n",
    "a=sqrt(10)\n",
    "print(a)"
   ]
  },
  {
   "cell_type": "code",
   "execution_count": 6,
   "metadata": {},
   "outputs": [
    {
     "name": "stdout",
     "output_type": "stream",
     "text": [
      "\n",
      "Please wait a moment while I gather a list of all available modules...\n",
      "\n",
      "Crypto              builtins            menuinst            sphinx\n",
      "Cython              bz2                 mimetypes           sphinxcontrib\n",
      "IPython             cProfile            mistune             sphinxify\n",
      "OpenSSL             calendar            mkl                 spyder\n",
      "PIL                 certifi             mkl_fft             spyder_breakpoints\n",
      "PyQt5               cffi                mkl_random          spyder_io_dcm\n",
      "__future__          cgi                 mmap                spyder_io_hdf5\n",
      "_abc                cgitb               mmapfile            spyder_kernels\n",
      "_ast                chardet             mmsystem            spyder_profiler\n",
      "_asyncio            chunk               modulefinder        spyder_pylint\n",
      "_bisect             click               more_itertools      sqlalchemy\n",
      "_blake2             cloudpickle         mpmath              sqlite3\n",
      "_bootlocale         clyent              msgpack             sre_compile\n",
      "_bz2                cmath               msilib              sre_constants\n",
      "_cffi_backend       cmd                 msvcrt              sre_parse\n",
      "_codecs             code                multipledispatch    ssl\n",
      "_codecs_cn          codecs              multiprocessing     sspi\n",
      "_codecs_hk          codeop              navigator_updater   sspicon\n",
      "_codecs_iso2022     collections         nbconvert           stat\n",
      "_codecs_jp          colorama            nbformat            statistics\n",
      "_codecs_kr          colorsys            netbios             statsmodels\n",
      "_codecs_tw          commctrl            netrc               storemagic\n",
      "_collections        compileall          networkx            string\n",
      "_collections_abc    comtypes            nltk                stringprep\n",
      "_compat_pickle      concurrent          nntplib             struct\n",
      "_compression        conda               nose                subprocess\n",
      "_contextvars        conda_build         notebook            sunau\n",
      "_csv                conda_env           nt                  symbol\n",
      "_ctypes             conda_verify        ntpath              sympy\n",
      "_ctypes_test        conf                ntsecuritycon       sympyprinting\n",
      "_datetime           configparser        nturl2path          symtable\n",
      "_decimal            contextlib          numba               sys\n",
      "_distutils_findvs   contextlib2         numbers             sysconfig\n",
      "_dummy_thread       contextvars         numexpr             tables\n",
      "_elementtree        copy                numpy               tabnanny\n",
      "_functools          copyreg             numpydoc            tarfile\n",
      "_hashlib            crypt               odbc                tblib\n",
      "_heapq              cryptography        odo                 telnetlib\n",
      "_imp                csv                 olefile             tempfile\n",
      "_io                 ctypes              opcode              terminado\n",
      "_json               curl                openpyxl            test\n",
      "_locale             curses              operator            test_path\n",
      "_lsprof             cwp                 optparse            test_pycosat\n",
      "_lzma               cycler              os                  testpath\n",
      "_markupbase         cython              packaging           tests\n",
      "_md5                cythonmagic         pandas              textwrap\n",
      "_msi                cytoolz             pandocfilters       this\n",
      "_multibytecodec     dask                parser              threading\n",
      "_multiprocessing    dataclasses         parso               time\n",
      "_nsis               datashape           partd               timeit\n",
      "_opcode             datetime            past                timer\n",
      "_operator           dateutil            path                tkinter\n",
      "_osx_support        dbi                 pathlib             tlz\n",
      "_overlapped         dbm                 pathlib2            token\n",
      "_pickle             dde                 patsy               tokenize\n",
      "_py_abc             decimal             pdb                 toolz\n",
      "_pydecimal          decorator           pep8                tornado\n",
      "_pyio               defusedxml          perfmon             tqdm\n",
      "_pytest             difflib             pickle              trace\n",
      "_queue              dis                 pickleshare         traceback\n",
      "_random             distributed         pickletools         tracemalloc\n",
      "_sha1               distutils           pip                 traitlets\n",
      "_sha256             doctest             pipes               tty\n",
      "_sha3               docutils            pkg_resources       turtle\n",
      "_sha512             dummy_threading     pkginfo             turtledemo\n",
      "_signal             easy_install        pkgutil             types\n",
      "_sitebuiltins       email               platform            typing\n",
      "_socket             encodings           plistlib            unicodecsv\n",
      "_sqlite3            ensurepip           pluggy              unicodedata\n",
      "_sre                entrypoints         ply                 unittest\n",
      "_ssl                enum                poplib              urllib\n",
      "_stat               errno               posixpath           urllib3\n",
      "_string             et_xmlfile          pprint              uu\n",
      "_strptime           fastcache           profile             uuid\n",
      "_struct             faulthandler        prometheus_client   venv\n",
      "_symtable           filecmp             prompt_toolkit      warnings\n",
      "_system_path        fileinput           pstats              wave\n",
      "_testbuffer         filelock            psutil              wcwidth\n",
      "_testcapi           flask               pty                 weakref\n",
      "_testconsole        flask_cors          py                  webbrowser\n",
      "_testimportmultiple fnmatch             py_compile          webencodings\n",
      "_testmultiphase     formatter           pyclbr              werkzeug\n",
      "_thread             fractions           pycodestyle         wheel\n",
      "_threading_local    ftplib              pycosat             widgetsnbextension\n",
      "_tkinter            functools           pycparser           win2kras\n",
      "_tracemalloc        future              pycurl              win32api\n",
      "_warnings           gc                  pydoc               win32clipboard\n",
      "_weakref            genericpath         pydoc_data          win32com\n",
      "_weakrefset         getopt              pyexpat             win32con\n",
      "_win32sysloader     getpass             pyflakes            win32console\n",
      "_winapi             gettext             pygments            win32cred\n",
      "_winxptheme         gevent              pylab               win32crypt\n",
      "_yaml               glob                pylint              win32cryptcon\n",
      "abc                 glob2               pyodbc              win32event\n",
      "adodbapi            greenlet            pyparsing           win32evtlog\n",
      "afxres              gzip                pytest              win32evtlogutil\n",
      "aifc                h5py                pytest_arraydiff    win32file\n",
      "alabaster           hashlib             pytest_doctestplus  win32gui\n",
      "anaconda_navigator  heapdict            pytest_openfiles    win32gui_struct\n",
      "anaconda_project    heapq               pytest_remotedata   win32help\n",
      "antigravity         hmac                pythoncom           win32inet\n",
      "argparse            html                pytz                win32inetcon\n",
      "array               html5lib            pywin               win32job\n",
      "asn1crypto          http                pywin32_testutil    win32lz\n",
      "ast                 idlelib             pywintypes          win32net\n",
      "astroid             idna                pywt                win32netcon\n",
      "astropy             imageio             pyximport           win32pdh\n",
      "asynchat            imagesize           qtawesome           win32pdhquery\n",
      "asyncio             imaplib             qtconsole           win32pdhutil\n",
      "asyncore            imghdr              qtpy                win32pipe\n",
      "atexit              imp                 queue               win32print\n",
      "atomicwrites        importlib           quopri              win32process\n",
      "attr                importlib_metadata  random              win32profile\n",
      "audioop             inspect             rasutil             win32ras\n",
      "autoreload          io                  re                  win32rcparser\n",
      "babel               ipaddress           regcheck            win32security\n",
      "backcall            ipykernel           regutil             win32service\n",
      "backports           ipykernel_launcher  reprlib             win32serviceutil\n",
      "base64              ipython_genutils    requests            win32timezone\n",
      "bdb                 ipywidgets          rlcompleter         win32trace\n",
      "binascii            isapi               rmagic              win32traceutil\n",
      "binhex              isort               rope                win32transaction\n",
      "binstar_client      isympy              ruamel_yaml         win32ts\n",
      "bisect              itertools           run                 win32ui\n",
      "bitarray            itsdangerous        runpy               win32uiole\n",
      "bkcharts            jdcal               sched               win32verstamp\n",
      "blaze               jedi                scipy               win32wnet\n",
      "bleach              jinja2              scripts             win_inet_pton\n",
      "bokeh               json                seaborn             win_unicode_console\n",
      "boto                jsonschema          secrets             wincertstore\n",
      "bottleneck          jupyter             select              winerror\n",
      "brain_argparse      jupyter_client      selectors           winioctlcon\n",
      "brain_attrs         jupyter_console     send2trash          winnt\n",
      "brain_builtin_inference jupyter_core        servicemanager      winperf\n",
      "brain_collections   jupyterlab          setuptools          winpty\n",
      "brain_curses        jupyterlab_server   shelve              winreg\n",
      "brain_dateutil      keyring             shlex               winsound\n",
      "brain_fstrings      keyword             shutil              winxpgui\n",
      "brain_functools     kiwisolver          signal              winxptheme\n",
      "brain_gi            lazy_object_proxy   simplegeneric       wrapt\n",
      "brain_hashlib       lib2to3             singledispatch      wsgiref\n",
      "brain_io            libarchive          singledispatch_helpers xdrlib\n",
      "brain_mechanize     libfuturize         sip                 xlrd\n",
      "brain_multiprocessing libpasteurize       sipconfig           xlsxwriter\n",
      "brain_namedtuple_enum linecache           sipdistutils        xlwings\n",
      "brain_nose          llvmlite            site                xlwt\n",
      "brain_numpy         locale              six                 xml\n",
      "brain_pkg_resources locket              skimage             xmlrpc\n",
      "brain_pytest        logging             sklearn             xxsubtype\n",
      "brain_qt            lxml                smtpd               yaml\n",
      "brain_random        lzma                smtplib             zict\n",
      "brain_re            macpath             sndhdr              zipapp\n",
      "brain_six           mailbox             snowballstemmer     zipfile\n",
      "brain_ssl           mailcap             socket              zipimport\n",
      "brain_subprocess    markupsafe          socketserver        zlib\n",
      "brain_threading     marshal             socks               zmq\n",
      "brain_typing        math                sockshandler        \n",
      "brain_uuid          matplotlib          sortedcollections   \n",
      "bs4                 mccabe              sortedcontainers    \n",
      "\n",
      "Enter any module name to get more help.  Or, type \"modules spam\" to search\n",
      "for modules whose name or summary contain the string \"spam\".\n",
      "\n"
     ]
    }
   ],
   "source": [
    "help(\"modules\") #to know what all packages are installed "
   ]
  },
  {
   "cell_type": "code",
   "execution_count": 16,
   "metadata": {},
   "outputs": [
    {
     "name": "stdout",
     "output_type": "stream",
     "text": [
      "[0, 2, 4, 6, 8]\n",
      "[1, 3, 5, 7, 9]\n",
      "[1, 2, 4, 5, 7, 8, 10, 11, 13, 14, 16, 17, 19, 20, 22, 23, 25, 26, 28, 29]\n",
      "[2, 4, 6, 78, 34, 44, 65, 7, 8, 9, 47]\n",
      "[7, 9, 11, 79, 39, 49, 66, 12, 13, 14, 48]\n",
      "\n"
     ]
    }
   ],
   "source": [
    "#list comprehension\n",
    "newlisteven=[x for x in range(10) if x%2==0]\n",
    "print(newlisteven)\n",
    "\n",
    "newlistodd=[x for x in range(10) if x%2==1]\n",
    "print(newlistodd)\n",
    "\n",
    "list_nodiv3=[x for x in range(30) if x%3!=0]\n",
    "print(list_nodiv3)\n",
    "\n",
    "list1=[2,4,6,78,34,44,65,7,8,9,47]\n",
    "print(list1)\n",
    "\n",
    "list_numbers=[x+1 if x >= 45 else x+5 for x in list1]\n",
    "print(list_numbers)\n",
    "print()"
   ]
  },
  {
   "cell_type": "code",
   "execution_count": 65,
   "metadata": {},
   "outputs": [
    {
     "name": "stdout",
     "output_type": "stream",
     "text": [
      "its a palindrome\n"
     ]
    }
   ],
   "source": [
    "#check if a string is a palindrome or not\n",
    "def palindrome(str):\n",
    "    start=str[:]\n",
    "    reverse=str[::-1]\n",
    "    if(start==reverse):\n",
    "        print(\"its a palindrome\")\n",
    "    else:\n",
    "        print(\"not a palindrome\")\n",
    "        \n",
    "x=palindrome(\"maam\")"
   ]
  },
  {
   "cell_type": "code",
   "execution_count": 23,
   "metadata": {},
   "outputs": [
    {
     "name": "stdout",
     "output_type": "stream",
     "text": [
      "Help on function mean in module statistics:\n",
      "\n",
      "mean(data)\n",
      "    Return the sample arithmetic mean of data.\n",
      "    \n",
      "    >>> mean([1, 2, 3, 4, 4])\n",
      "    2.8\n",
      "    \n",
      "    >>> from fractions import Fraction as F\n",
      "    >>> mean([F(3, 7), F(1, 21), F(5, 3), F(1, 3)])\n",
      "    Fraction(13, 21)\n",
      "    \n",
      "    >>> from decimal import Decimal as D\n",
      "    >>> mean([D(\"0.5\"), D(\"0.75\"), D(\"0.625\"), D(\"0.375\")])\n",
      "    Decimal('0.5625')\n",
      "    \n",
      "    If ``data`` is empty, StatisticsError will be raised.\n",
      "\n"
     ]
    }
   ],
   "source": [
    "from statistics import mean\n",
    "help(mean)"
   ]
  },
  {
   "cell_type": "code",
   "execution_count": 25,
   "metadata": {},
   "outputs": [
    {
     "data": {
      "text/plain": [
       "209.8"
      ]
     },
     "execution_count": 25,
     "metadata": {},
     "output_type": "execute_result"
    }
   ],
   "source": [
    "mean([32,65,865,65,22])"
   ]
  },
  {
   "cell_type": "code",
   "execution_count": 66,
   "metadata": {},
   "outputs": [
    {
     "data": {
      "text/plain": [
       "['__add__',\n",
       " '__class__',\n",
       " '__contains__',\n",
       " '__delattr__',\n",
       " '__delitem__',\n",
       " '__dir__',\n",
       " '__doc__',\n",
       " '__eq__',\n",
       " '__format__',\n",
       " '__ge__',\n",
       " '__getattribute__',\n",
       " '__getitem__',\n",
       " '__gt__',\n",
       " '__hash__',\n",
       " '__iadd__',\n",
       " '__imul__',\n",
       " '__init__',\n",
       " '__init_subclass__',\n",
       " '__iter__',\n",
       " '__le__',\n",
       " '__len__',\n",
       " '__lt__',\n",
       " '__mul__',\n",
       " '__ne__',\n",
       " '__new__',\n",
       " '__reduce__',\n",
       " '__reduce_ex__',\n",
       " '__repr__',\n",
       " '__reversed__',\n",
       " '__rmul__',\n",
       " '__setattr__',\n",
       " '__setitem__',\n",
       " '__sizeof__',\n",
       " '__str__',\n",
       " '__subclasshook__',\n",
       " 'append',\n",
       " 'clear',\n",
       " 'copy',\n",
       " 'count',\n",
       " 'extend',\n",
       " 'index',\n",
       " 'insert',\n",
       " 'pop',\n",
       " 'remove',\n",
       " 'reverse',\n",
       " 'sort']"
      ]
     },
     "execution_count": 66,
     "metadata": {},
     "output_type": "execute_result"
    }
   ],
   "source": [
    "dir(list)"
   ]
  },
  {
   "cell_type": "code",
   "execution_count": 75,
   "metadata": {},
   "outputs": [],
   "source": [
    "import numpy as np"
   ]
  },
  {
   "cell_type": "code",
   "execution_count": 77,
   "metadata": {},
   "outputs": [
    {
     "name": "stdout",
     "output_type": "stream",
     "text": [
      "Help on function resize in module numpy.core.fromnumeric:\n",
      "\n",
      "resize(a, new_shape)\n",
      "    Return a new array with the specified shape.\n",
      "    \n",
      "    If the new array is larger than the original array, then the new\n",
      "    array is filled with repeated copies of `a`.  Note that this behavior\n",
      "    is different from a.resize(new_shape) which fills with zeros instead\n",
      "    of repeated copies of `a`.\n",
      "    \n",
      "    Parameters\n",
      "    ----------\n",
      "    a : array_like\n",
      "        Array to be resized.\n",
      "    \n",
      "    new_shape : int or tuple of int\n",
      "        Shape of resized array.\n",
      "    \n",
      "    Returns\n",
      "    -------\n",
      "    reshaped_array : ndarray\n",
      "        The new array is formed from the data in the old array, repeated\n",
      "        if necessary to fill out the required number of elements.  The\n",
      "        data are repeated in the order that they are stored in memory.\n",
      "    \n",
      "    See Also\n",
      "    --------\n",
      "    ndarray.resize : resize an array in-place.\n",
      "    \n",
      "    Examples\n",
      "    --------\n",
      "    >>> a=np.array([[0,1],[2,3]])\n",
      "    >>> np.resize(a,(2,3))\n",
      "    array([[0, 1, 2],\n",
      "           [3, 0, 1]])\n",
      "    >>> np.resize(a,(1,4))\n",
      "    array([[0, 1, 2, 3]])\n",
      "    >>> np.resize(a,(2,4))\n",
      "    array([[0, 1, 2, 3],\n",
      "           [0, 1, 2, 3]])\n",
      "\n"
     ]
    }
   ],
   "source": [
    "help(np.resize)"
   ]
  },
  {
   "cell_type": "code",
   "execution_count": 81,
   "metadata": {},
   "outputs": [
    {
     "data": {
      "text/plain": [
       "array([[1, 2, 3, 4],\n",
       "       [5, 6, 1, 2],\n",
       "       [3, 4, 5, 6]])"
      ]
     },
     "execution_count": 81,
     "metadata": {},
     "output_type": "execute_result"
    }
   ],
   "source": [
    "a=np.array([[1,2,3],[4,5,6]])\n",
    "np.resize(a,(3,4))"
   ]
  }
 ],
 "metadata": {
  "kernelspec": {
   "display_name": "Python 3",
   "language": "python",
   "name": "python3"
  },
  "language_info": {
   "codemirror_mode": {
    "name": "ipython",
    "version": 3
   },
   "file_extension": ".py",
   "mimetype": "text/x-python",
   "name": "python",
   "nbconvert_exporter": "python",
   "pygments_lexer": "ipython3",
   "version": "3.7.1"
  }
 },
 "nbformat": 4,
 "nbformat_minor": 2
}
