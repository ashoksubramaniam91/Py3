{
 "cells": [
  {
   "cell_type": "code",
   "execution_count": 12,
   "metadata": {},
   "outputs": [],
   "source": [
    "import numpy as np\n",
    "import pandas as pd"
   ]
  },
  {
   "cell_type": "code",
   "execution_count": 15,
   "metadata": {},
   "outputs": [
    {
     "name": "stdout",
     "output_type": "stream",
     "text": [
      "C:\\Users\\Ashok\n"
     ]
    }
   ],
   "source": [
    "cd C:\\Users\\Ashok"
   ]
  },
  {
   "cell_type": "code",
   "execution_count": 16,
   "metadata": {},
   "outputs": [],
   "source": [
    "df=pd.read_csv('Bank_Personal_Loan_Modelling.csv')"
   ]
  },
  {
   "cell_type": "code",
   "execution_count": 19,
   "metadata": {},
   "outputs": [
    {
     "data": {
      "text/html": [
       "<div>\n",
       "<style scoped>\n",
       "    .dataframe tbody tr th:only-of-type {\n",
       "        vertical-align: middle;\n",
       "    }\n",
       "\n",
       "    .dataframe tbody tr th {\n",
       "        vertical-align: top;\n",
       "    }\n",
       "\n",
       "    .dataframe thead th {\n",
       "        text-align: right;\n",
       "    }\n",
       "</style>\n",
       "<table border=\"1\" class=\"dataframe\">\n",
       "  <thead>\n",
       "    <tr style=\"text-align: right;\">\n",
       "      <th></th>\n",
       "      <th>ID</th>\n",
       "      <th>Age</th>\n",
       "      <th>Experience</th>\n",
       "      <th>Income</th>\n",
       "      <th>ZIP Code</th>\n",
       "      <th>Family</th>\n",
       "      <th>CCAvg</th>\n",
       "      <th>Education</th>\n",
       "      <th>Mortgage</th>\n",
       "      <th>Personal Loan</th>\n",
       "      <th>Securities Account</th>\n",
       "      <th>CD Account</th>\n",
       "      <th>Online</th>\n",
       "      <th>CreditCard</th>\n",
       "    </tr>\n",
       "  </thead>\n",
       "  <tbody>\n",
       "    <tr>\n",
       "      <th>0</th>\n",
       "      <td>1</td>\n",
       "      <td>25</td>\n",
       "      <td>1</td>\n",
       "      <td>49</td>\n",
       "      <td>91107</td>\n",
       "      <td>4</td>\n",
       "      <td>1.6</td>\n",
       "      <td>1</td>\n",
       "      <td>0</td>\n",
       "      <td>0</td>\n",
       "      <td>1</td>\n",
       "      <td>0</td>\n",
       "      <td>0</td>\n",
       "      <td>0</td>\n",
       "    </tr>\n",
       "    <tr>\n",
       "      <th>1</th>\n",
       "      <td>2</td>\n",
       "      <td>45</td>\n",
       "      <td>19</td>\n",
       "      <td>34</td>\n",
       "      <td>90089</td>\n",
       "      <td>3</td>\n",
       "      <td>1.5</td>\n",
       "      <td>1</td>\n",
       "      <td>0</td>\n",
       "      <td>0</td>\n",
       "      <td>1</td>\n",
       "      <td>0</td>\n",
       "      <td>0</td>\n",
       "      <td>0</td>\n",
       "    </tr>\n",
       "    <tr>\n",
       "      <th>2</th>\n",
       "      <td>3</td>\n",
       "      <td>39</td>\n",
       "      <td>15</td>\n",
       "      <td>11</td>\n",
       "      <td>94720</td>\n",
       "      <td>1</td>\n",
       "      <td>1.0</td>\n",
       "      <td>1</td>\n",
       "      <td>0</td>\n",
       "      <td>0</td>\n",
       "      <td>0</td>\n",
       "      <td>0</td>\n",
       "      <td>0</td>\n",
       "      <td>0</td>\n",
       "    </tr>\n",
       "    <tr>\n",
       "      <th>3</th>\n",
       "      <td>4</td>\n",
       "      <td>35</td>\n",
       "      <td>9</td>\n",
       "      <td>100</td>\n",
       "      <td>94112</td>\n",
       "      <td>1</td>\n",
       "      <td>2.7</td>\n",
       "      <td>2</td>\n",
       "      <td>0</td>\n",
       "      <td>0</td>\n",
       "      <td>0</td>\n",
       "      <td>0</td>\n",
       "      <td>0</td>\n",
       "      <td>0</td>\n",
       "    </tr>\n",
       "    <tr>\n",
       "      <th>4</th>\n",
       "      <td>5</td>\n",
       "      <td>35</td>\n",
       "      <td>8</td>\n",
       "      <td>45</td>\n",
       "      <td>91330</td>\n",
       "      <td>4</td>\n",
       "      <td>1.0</td>\n",
       "      <td>2</td>\n",
       "      <td>0</td>\n",
       "      <td>0</td>\n",
       "      <td>0</td>\n",
       "      <td>0</td>\n",
       "      <td>0</td>\n",
       "      <td>1</td>\n",
       "    </tr>\n",
       "  </tbody>\n",
       "</table>\n",
       "</div>"
      ],
      "text/plain": [
       "   ID  Age  Experience  Income  ZIP Code  Family  CCAvg  Education  Mortgage  \\\n",
       "0   1   25           1      49     91107       4    1.6          1         0   \n",
       "1   2   45          19      34     90089       3    1.5          1         0   \n",
       "2   3   39          15      11     94720       1    1.0          1         0   \n",
       "3   4   35           9     100     94112       1    2.7          2         0   \n",
       "4   5   35           8      45     91330       4    1.0          2         0   \n",
       "\n",
       "   Personal Loan  Securities Account  CD Account  Online  CreditCard  \n",
       "0              0                   1           0       0           0  \n",
       "1              0                   1           0       0           0  \n",
       "2              0                   0           0       0           0  \n",
       "3              0                   0           0       0           0  \n",
       "4              0                   0           0       0           1  "
      ]
     },
     "execution_count": 19,
     "metadata": {},
     "output_type": "execute_result"
    }
   ],
   "source": [
    "df.head()"
   ]
  },
  {
   "cell_type": "code",
   "execution_count": 20,
   "metadata": {},
   "outputs": [
    {
     "data": {
      "text/plain": [
       "ID                    0\n",
       "Age                   0\n",
       "Experience            0\n",
       "Income                0\n",
       "ZIP Code              0\n",
       "Family                0\n",
       "CCAvg                 0\n",
       "Education             0\n",
       "Mortgage              0\n",
       "Personal Loan         0\n",
       "Securities Account    0\n",
       "CD Account            0\n",
       "Online                0\n",
       "CreditCard            0\n",
       "dtype: int64"
      ]
     },
     "execution_count": 20,
     "metadata": {},
     "output_type": "execute_result"
    }
   ],
   "source": [
    "df.isnull().sum()"
   ]
  },
  {
   "cell_type": "code",
   "execution_count": 21,
   "metadata": {},
   "outputs": [
    {
     "data": {
      "text/plain": [
       "467"
      ]
     },
     "execution_count": 21,
     "metadata": {},
     "output_type": "execute_result"
    }
   ],
   "source": [
    "df['ZIP Code'].nunique()"
   ]
  },
  {
   "cell_type": "code",
   "execution_count": 22,
   "metadata": {},
   "outputs": [
    {
     "data": {
      "text/plain": [
       "0    4520\n",
       "1     480\n",
       "Name: Personal Loan, dtype: int64"
      ]
     },
     "execution_count": 22,
     "metadata": {},
     "output_type": "execute_result"
    }
   ],
   "source": [
    "df['Personal Loan'].value_counts()"
   ]
  },
  {
   "cell_type": "code",
   "execution_count": 23,
   "metadata": {},
   "outputs": [
    {
     "data": {
      "text/html": [
       "<div>\n",
       "<style scoped>\n",
       "    .dataframe tbody tr th:only-of-type {\n",
       "        vertical-align: middle;\n",
       "    }\n",
       "\n",
       "    .dataframe tbody tr th {\n",
       "        vertical-align: top;\n",
       "    }\n",
       "\n",
       "    .dataframe thead th {\n",
       "        text-align: right;\n",
       "    }\n",
       "</style>\n",
       "<table border=\"1\" class=\"dataframe\">\n",
       "  <thead>\n",
       "    <tr style=\"text-align: right;\">\n",
       "      <th></th>\n",
       "      <th>ID</th>\n",
       "      <th>Age</th>\n",
       "      <th>Experience</th>\n",
       "      <th>Income</th>\n",
       "      <th>ZIP Code</th>\n",
       "      <th>Family</th>\n",
       "      <th>CCAvg</th>\n",
       "      <th>Education</th>\n",
       "      <th>Mortgage</th>\n",
       "      <th>Personal Loan</th>\n",
       "      <th>Securities Account</th>\n",
       "      <th>CD Account</th>\n",
       "      <th>Online</th>\n",
       "      <th>CreditCard</th>\n",
       "    </tr>\n",
       "  </thead>\n",
       "  <tbody>\n",
       "    <tr>\n",
       "      <th>9</th>\n",
       "      <td>10</td>\n",
       "      <td>34</td>\n",
       "      <td>9</td>\n",
       "      <td>180</td>\n",
       "      <td>93023</td>\n",
       "      <td>1</td>\n",
       "      <td>8.90</td>\n",
       "      <td>3</td>\n",
       "      <td>0</td>\n",
       "      <td>1</td>\n",
       "      <td>0</td>\n",
       "      <td>0</td>\n",
       "      <td>0</td>\n",
       "      <td>0</td>\n",
       "    </tr>\n",
       "    <tr>\n",
       "      <th>16</th>\n",
       "      <td>17</td>\n",
       "      <td>38</td>\n",
       "      <td>14</td>\n",
       "      <td>130</td>\n",
       "      <td>95010</td>\n",
       "      <td>4</td>\n",
       "      <td>4.70</td>\n",
       "      <td>3</td>\n",
       "      <td>134</td>\n",
       "      <td>1</td>\n",
       "      <td>0</td>\n",
       "      <td>0</td>\n",
       "      <td>0</td>\n",
       "      <td>0</td>\n",
       "    </tr>\n",
       "    <tr>\n",
       "      <th>18</th>\n",
       "      <td>19</td>\n",
       "      <td>46</td>\n",
       "      <td>21</td>\n",
       "      <td>193</td>\n",
       "      <td>91604</td>\n",
       "      <td>2</td>\n",
       "      <td>8.10</td>\n",
       "      <td>3</td>\n",
       "      <td>0</td>\n",
       "      <td>1</td>\n",
       "      <td>0</td>\n",
       "      <td>0</td>\n",
       "      <td>0</td>\n",
       "      <td>0</td>\n",
       "    </tr>\n",
       "    <tr>\n",
       "      <th>29</th>\n",
       "      <td>30</td>\n",
       "      <td>38</td>\n",
       "      <td>13</td>\n",
       "      <td>119</td>\n",
       "      <td>94104</td>\n",
       "      <td>1</td>\n",
       "      <td>3.30</td>\n",
       "      <td>2</td>\n",
       "      <td>0</td>\n",
       "      <td>1</td>\n",
       "      <td>0</td>\n",
       "      <td>1</td>\n",
       "      <td>1</td>\n",
       "      <td>1</td>\n",
       "    </tr>\n",
       "    <tr>\n",
       "      <th>38</th>\n",
       "      <td>39</td>\n",
       "      <td>42</td>\n",
       "      <td>18</td>\n",
       "      <td>141</td>\n",
       "      <td>94114</td>\n",
       "      <td>3</td>\n",
       "      <td>5.00</td>\n",
       "      <td>3</td>\n",
       "      <td>0</td>\n",
       "      <td>1</td>\n",
       "      <td>1</td>\n",
       "      <td>1</td>\n",
       "      <td>1</td>\n",
       "      <td>0</td>\n",
       "    </tr>\n",
       "    <tr>\n",
       "      <th>42</th>\n",
       "      <td>43</td>\n",
       "      <td>32</td>\n",
       "      <td>7</td>\n",
       "      <td>132</td>\n",
       "      <td>90019</td>\n",
       "      <td>4</td>\n",
       "      <td>1.10</td>\n",
       "      <td>2</td>\n",
       "      <td>412</td>\n",
       "      <td>1</td>\n",
       "      <td>0</td>\n",
       "      <td>0</td>\n",
       "      <td>1</td>\n",
       "      <td>0</td>\n",
       "    </tr>\n",
       "    <tr>\n",
       "      <th>47</th>\n",
       "      <td>48</td>\n",
       "      <td>37</td>\n",
       "      <td>12</td>\n",
       "      <td>194</td>\n",
       "      <td>91380</td>\n",
       "      <td>4</td>\n",
       "      <td>0.20</td>\n",
       "      <td>3</td>\n",
       "      <td>211</td>\n",
       "      <td>1</td>\n",
       "      <td>1</td>\n",
       "      <td>1</td>\n",
       "      <td>1</td>\n",
       "      <td>1</td>\n",
       "    </tr>\n",
       "    <tr>\n",
       "      <th>53</th>\n",
       "      <td>54</td>\n",
       "      <td>50</td>\n",
       "      <td>26</td>\n",
       "      <td>190</td>\n",
       "      <td>90245</td>\n",
       "      <td>3</td>\n",
       "      <td>2.10</td>\n",
       "      <td>3</td>\n",
       "      <td>240</td>\n",
       "      <td>1</td>\n",
       "      <td>0</td>\n",
       "      <td>0</td>\n",
       "      <td>1</td>\n",
       "      <td>0</td>\n",
       "    </tr>\n",
       "    <tr>\n",
       "      <th>57</th>\n",
       "      <td>58</td>\n",
       "      <td>56</td>\n",
       "      <td>31</td>\n",
       "      <td>131</td>\n",
       "      <td>95616</td>\n",
       "      <td>2</td>\n",
       "      <td>1.20</td>\n",
       "      <td>3</td>\n",
       "      <td>0</td>\n",
       "      <td>1</td>\n",
       "      <td>0</td>\n",
       "      <td>0</td>\n",
       "      <td>0</td>\n",
       "      <td>0</td>\n",
       "    </tr>\n",
       "    <tr>\n",
       "      <th>75</th>\n",
       "      <td>76</td>\n",
       "      <td>31</td>\n",
       "      <td>7</td>\n",
       "      <td>135</td>\n",
       "      <td>94901</td>\n",
       "      <td>4</td>\n",
       "      <td>3.80</td>\n",
       "      <td>2</td>\n",
       "      <td>0</td>\n",
       "      <td>1</td>\n",
       "      <td>0</td>\n",
       "      <td>1</td>\n",
       "      <td>1</td>\n",
       "      <td>1</td>\n",
       "    </tr>\n",
       "    <tr>\n",
       "      <th>78</th>\n",
       "      <td>79</td>\n",
       "      <td>54</td>\n",
       "      <td>30</td>\n",
       "      <td>133</td>\n",
       "      <td>93305</td>\n",
       "      <td>2</td>\n",
       "      <td>2.60</td>\n",
       "      <td>3</td>\n",
       "      <td>0</td>\n",
       "      <td>1</td>\n",
       "      <td>0</td>\n",
       "      <td>0</td>\n",
       "      <td>0</td>\n",
       "      <td>0</td>\n",
       "    </tr>\n",
       "    <tr>\n",
       "      <th>90</th>\n",
       "      <td>91</td>\n",
       "      <td>55</td>\n",
       "      <td>30</td>\n",
       "      <td>118</td>\n",
       "      <td>90277</td>\n",
       "      <td>4</td>\n",
       "      <td>5.60</td>\n",
       "      <td>2</td>\n",
       "      <td>0</td>\n",
       "      <td>1</td>\n",
       "      <td>0</td>\n",
       "      <td>0</td>\n",
       "      <td>1</td>\n",
       "      <td>0</td>\n",
       "    </tr>\n",
       "    <tr>\n",
       "      <th>131</th>\n",
       "      <td>132</td>\n",
       "      <td>58</td>\n",
       "      <td>34</td>\n",
       "      <td>149</td>\n",
       "      <td>93720</td>\n",
       "      <td>4</td>\n",
       "      <td>7.20</td>\n",
       "      <td>2</td>\n",
       "      <td>0</td>\n",
       "      <td>1</td>\n",
       "      <td>0</td>\n",
       "      <td>1</td>\n",
       "      <td>1</td>\n",
       "      <td>1</td>\n",
       "    </tr>\n",
       "    <tr>\n",
       "      <th>151</th>\n",
       "      <td>152</td>\n",
       "      <td>26</td>\n",
       "      <td>0</td>\n",
       "      <td>132</td>\n",
       "      <td>92834</td>\n",
       "      <td>3</td>\n",
       "      <td>6.50</td>\n",
       "      <td>3</td>\n",
       "      <td>0</td>\n",
       "      <td>1</td>\n",
       "      <td>0</td>\n",
       "      <td>0</td>\n",
       "      <td>0</td>\n",
       "      <td>1</td>\n",
       "    </tr>\n",
       "    <tr>\n",
       "      <th>160</th>\n",
       "      <td>161</td>\n",
       "      <td>29</td>\n",
       "      <td>0</td>\n",
       "      <td>134</td>\n",
       "      <td>95819</td>\n",
       "      <td>4</td>\n",
       "      <td>6.50</td>\n",
       "      <td>3</td>\n",
       "      <td>0</td>\n",
       "      <td>1</td>\n",
       "      <td>0</td>\n",
       "      <td>0</td>\n",
       "      <td>0</td>\n",
       "      <td>0</td>\n",
       "    </tr>\n",
       "    <tr>\n",
       "      <th>174</th>\n",
       "      <td>175</td>\n",
       "      <td>42</td>\n",
       "      <td>17</td>\n",
       "      <td>168</td>\n",
       "      <td>95503</td>\n",
       "      <td>2</td>\n",
       "      <td>7.90</td>\n",
       "      <td>2</td>\n",
       "      <td>0</td>\n",
       "      <td>1</td>\n",
       "      <td>0</td>\n",
       "      <td>0</td>\n",
       "      <td>1</td>\n",
       "      <td>0</td>\n",
       "    </tr>\n",
       "    <tr>\n",
       "      <th>183</th>\n",
       "      <td>184</td>\n",
       "      <td>29</td>\n",
       "      <td>3</td>\n",
       "      <td>148</td>\n",
       "      <td>92173</td>\n",
       "      <td>3</td>\n",
       "      <td>4.10</td>\n",
       "      <td>1</td>\n",
       "      <td>0</td>\n",
       "      <td>1</td>\n",
       "      <td>0</td>\n",
       "      <td>0</td>\n",
       "      <td>1</td>\n",
       "      <td>0</td>\n",
       "    </tr>\n",
       "    <tr>\n",
       "      <th>187</th>\n",
       "      <td>188</td>\n",
       "      <td>46</td>\n",
       "      <td>21</td>\n",
       "      <td>159</td>\n",
       "      <td>94305</td>\n",
       "      <td>3</td>\n",
       "      <td>1.90</td>\n",
       "      <td>3</td>\n",
       "      <td>315</td>\n",
       "      <td>1</td>\n",
       "      <td>0</td>\n",
       "      <td>0</td>\n",
       "      <td>1</td>\n",
       "      <td>0</td>\n",
       "    </tr>\n",
       "    <tr>\n",
       "      <th>199</th>\n",
       "      <td>200</td>\n",
       "      <td>36</td>\n",
       "      <td>11</td>\n",
       "      <td>158</td>\n",
       "      <td>92152</td>\n",
       "      <td>1</td>\n",
       "      <td>5.10</td>\n",
       "      <td>3</td>\n",
       "      <td>0</td>\n",
       "      <td>1</td>\n",
       "      <td>0</td>\n",
       "      <td>1</td>\n",
       "      <td>1</td>\n",
       "      <td>1</td>\n",
       "    </tr>\n",
       "    <tr>\n",
       "      <th>209</th>\n",
       "      <td>210</td>\n",
       "      <td>64</td>\n",
       "      <td>39</td>\n",
       "      <td>172</td>\n",
       "      <td>94707</td>\n",
       "      <td>4</td>\n",
       "      <td>3.10</td>\n",
       "      <td>1</td>\n",
       "      <td>282</td>\n",
       "      <td>1</td>\n",
       "      <td>0</td>\n",
       "      <td>1</td>\n",
       "      <td>1</td>\n",
       "      <td>1</td>\n",
       "    </tr>\n",
       "    <tr>\n",
       "      <th>243</th>\n",
       "      <td>244</td>\n",
       "      <td>65</td>\n",
       "      <td>39</td>\n",
       "      <td>170</td>\n",
       "      <td>90095</td>\n",
       "      <td>3</td>\n",
       "      <td>7.90</td>\n",
       "      <td>3</td>\n",
       "      <td>99</td>\n",
       "      <td>1</td>\n",
       "      <td>0</td>\n",
       "      <td>1</td>\n",
       "      <td>1</td>\n",
       "      <td>0</td>\n",
       "    </tr>\n",
       "    <tr>\n",
       "      <th>247</th>\n",
       "      <td>248</td>\n",
       "      <td>53</td>\n",
       "      <td>29</td>\n",
       "      <td>120</td>\n",
       "      <td>92626</td>\n",
       "      <td>4</td>\n",
       "      <td>2.70</td>\n",
       "      <td>2</td>\n",
       "      <td>111</td>\n",
       "      <td>1</td>\n",
       "      <td>1</td>\n",
       "      <td>1</td>\n",
       "      <td>1</td>\n",
       "      <td>0</td>\n",
       "    </tr>\n",
       "    <tr>\n",
       "      <th>251</th>\n",
       "      <td>252</td>\n",
       "      <td>54</td>\n",
       "      <td>28</td>\n",
       "      <td>170</td>\n",
       "      <td>92182</td>\n",
       "      <td>2</td>\n",
       "      <td>6.20</td>\n",
       "      <td>2</td>\n",
       "      <td>325</td>\n",
       "      <td>1</td>\n",
       "      <td>0</td>\n",
       "      <td>0</td>\n",
       "      <td>1</td>\n",
       "      <td>0</td>\n",
       "    </tr>\n",
       "    <tr>\n",
       "      <th>254</th>\n",
       "      <td>255</td>\n",
       "      <td>65</td>\n",
       "      <td>41</td>\n",
       "      <td>134</td>\n",
       "      <td>91942</td>\n",
       "      <td>3</td>\n",
       "      <td>3.90</td>\n",
       "      <td>3</td>\n",
       "      <td>121</td>\n",
       "      <td>1</td>\n",
       "      <td>0</td>\n",
       "      <td>0</td>\n",
       "      <td>1</td>\n",
       "      <td>0</td>\n",
       "    </tr>\n",
       "    <tr>\n",
       "      <th>261</th>\n",
       "      <td>262</td>\n",
       "      <td>42</td>\n",
       "      <td>16</td>\n",
       "      <td>111</td>\n",
       "      <td>93106</td>\n",
       "      <td>2</td>\n",
       "      <td>1.20</td>\n",
       "      <td>3</td>\n",
       "      <td>251</td>\n",
       "      <td>1</td>\n",
       "      <td>0</td>\n",
       "      <td>0</td>\n",
       "      <td>1</td>\n",
       "      <td>0</td>\n",
       "    </tr>\n",
       "    <tr>\n",
       "      <th>288</th>\n",
       "      <td>289</td>\n",
       "      <td>44</td>\n",
       "      <td>19</td>\n",
       "      <td>172</td>\n",
       "      <td>94306</td>\n",
       "      <td>2</td>\n",
       "      <td>4.30</td>\n",
       "      <td>3</td>\n",
       "      <td>391</td>\n",
       "      <td>1</td>\n",
       "      <td>1</td>\n",
       "      <td>1</td>\n",
       "      <td>1</td>\n",
       "      <td>0</td>\n",
       "    </tr>\n",
       "    <tr>\n",
       "      <th>299</th>\n",
       "      <td>300</td>\n",
       "      <td>41</td>\n",
       "      <td>15</td>\n",
       "      <td>159</td>\n",
       "      <td>90057</td>\n",
       "      <td>1</td>\n",
       "      <td>5.50</td>\n",
       "      <td>3</td>\n",
       "      <td>0</td>\n",
       "      <td>1</td>\n",
       "      <td>0</td>\n",
       "      <td>1</td>\n",
       "      <td>1</td>\n",
       "      <td>0</td>\n",
       "    </tr>\n",
       "    <tr>\n",
       "      <th>303</th>\n",
       "      <td>304</td>\n",
       "      <td>49</td>\n",
       "      <td>25</td>\n",
       "      <td>195</td>\n",
       "      <td>95605</td>\n",
       "      <td>4</td>\n",
       "      <td>3.00</td>\n",
       "      <td>1</td>\n",
       "      <td>617</td>\n",
       "      <td>1</td>\n",
       "      <td>0</td>\n",
       "      <td>0</td>\n",
       "      <td>0</td>\n",
       "      <td>0</td>\n",
       "    </tr>\n",
       "    <tr>\n",
       "      <th>316</th>\n",
       "      <td>317</td>\n",
       "      <td>57</td>\n",
       "      <td>31</td>\n",
       "      <td>165</td>\n",
       "      <td>95054</td>\n",
       "      <td>1</td>\n",
       "      <td>1.60</td>\n",
       "      <td>2</td>\n",
       "      <td>0</td>\n",
       "      <td>1</td>\n",
       "      <td>0</td>\n",
       "      <td>0</td>\n",
       "      <td>1</td>\n",
       "      <td>0</td>\n",
       "    </tr>\n",
       "    <tr>\n",
       "      <th>317</th>\n",
       "      <td>318</td>\n",
       "      <td>40</td>\n",
       "      <td>16</td>\n",
       "      <td>119</td>\n",
       "      <td>91335</td>\n",
       "      <td>2</td>\n",
       "      <td>4.20</td>\n",
       "      <td>2</td>\n",
       "      <td>0</td>\n",
       "      <td>1</td>\n",
       "      <td>0</td>\n",
       "      <td>0</td>\n",
       "      <td>1</td>\n",
       "      <td>0</td>\n",
       "    </tr>\n",
       "    <tr>\n",
       "      <th>...</th>\n",
       "      <td>...</td>\n",
       "      <td>...</td>\n",
       "      <td>...</td>\n",
       "      <td>...</td>\n",
       "      <td>...</td>\n",
       "      <td>...</td>\n",
       "      <td>...</td>\n",
       "      <td>...</td>\n",
       "      <td>...</td>\n",
       "      <td>...</td>\n",
       "      <td>...</td>\n",
       "      <td>...</td>\n",
       "      <td>...</td>\n",
       "      <td>...</td>\n",
       "    </tr>\n",
       "    <tr>\n",
       "      <th>4585</th>\n",
       "      <td>4586</td>\n",
       "      <td>35</td>\n",
       "      <td>11</td>\n",
       "      <td>180</td>\n",
       "      <td>94010</td>\n",
       "      <td>1</td>\n",
       "      <td>3.60</td>\n",
       "      <td>3</td>\n",
       "      <td>571</td>\n",
       "      <td>1</td>\n",
       "      <td>0</td>\n",
       "      <td>1</td>\n",
       "      <td>1</td>\n",
       "      <td>1</td>\n",
       "    </tr>\n",
       "    <tr>\n",
       "      <th>4590</th>\n",
       "      <td>4591</td>\n",
       "      <td>58</td>\n",
       "      <td>34</td>\n",
       "      <td>151</td>\n",
       "      <td>94022</td>\n",
       "      <td>3</td>\n",
       "      <td>0.60</td>\n",
       "      <td>2</td>\n",
       "      <td>0</td>\n",
       "      <td>1</td>\n",
       "      <td>0</td>\n",
       "      <td>0</td>\n",
       "      <td>0</td>\n",
       "      <td>0</td>\n",
       "    </tr>\n",
       "    <tr>\n",
       "      <th>4593</th>\n",
       "      <td>4594</td>\n",
       "      <td>54</td>\n",
       "      <td>30</td>\n",
       "      <td>133</td>\n",
       "      <td>95747</td>\n",
       "      <td>1</td>\n",
       "      <td>5.00</td>\n",
       "      <td>2</td>\n",
       "      <td>0</td>\n",
       "      <td>1</td>\n",
       "      <td>0</td>\n",
       "      <td>0</td>\n",
       "      <td>0</td>\n",
       "      <td>1</td>\n",
       "    </tr>\n",
       "    <tr>\n",
       "      <th>4604</th>\n",
       "      <td>4605</td>\n",
       "      <td>32</td>\n",
       "      <td>7</td>\n",
       "      <td>81</td>\n",
       "      <td>90601</td>\n",
       "      <td>2</td>\n",
       "      <td>3.40</td>\n",
       "      <td>2</td>\n",
       "      <td>0</td>\n",
       "      <td>1</td>\n",
       "      <td>0</td>\n",
       "      <td>0</td>\n",
       "      <td>0</td>\n",
       "      <td>1</td>\n",
       "    </tr>\n",
       "    <tr>\n",
       "      <th>4625</th>\n",
       "      <td>4626</td>\n",
       "      <td>45</td>\n",
       "      <td>21</td>\n",
       "      <td>102</td>\n",
       "      <td>92037</td>\n",
       "      <td>4</td>\n",
       "      <td>4.70</td>\n",
       "      <td>2</td>\n",
       "      <td>81</td>\n",
       "      <td>1</td>\n",
       "      <td>0</td>\n",
       "      <td>0</td>\n",
       "      <td>0</td>\n",
       "      <td>0</td>\n",
       "    </tr>\n",
       "    <tr>\n",
       "      <th>4627</th>\n",
       "      <td>4628</td>\n",
       "      <td>27</td>\n",
       "      <td>1</td>\n",
       "      <td>134</td>\n",
       "      <td>93106</td>\n",
       "      <td>1</td>\n",
       "      <td>1.70</td>\n",
       "      <td>2</td>\n",
       "      <td>307</td>\n",
       "      <td>1</td>\n",
       "      <td>0</td>\n",
       "      <td>0</td>\n",
       "      <td>1</td>\n",
       "      <td>0</td>\n",
       "    </tr>\n",
       "    <tr>\n",
       "      <th>4628</th>\n",
       "      <td>4629</td>\n",
       "      <td>27</td>\n",
       "      <td>1</td>\n",
       "      <td>130</td>\n",
       "      <td>94801</td>\n",
       "      <td>3</td>\n",
       "      <td>2.90</td>\n",
       "      <td>2</td>\n",
       "      <td>0</td>\n",
       "      <td>1</td>\n",
       "      <td>0</td>\n",
       "      <td>0</td>\n",
       "      <td>0</td>\n",
       "      <td>0</td>\n",
       "    </tr>\n",
       "    <tr>\n",
       "      <th>4631</th>\n",
       "      <td>4632</td>\n",
       "      <td>32</td>\n",
       "      <td>8</td>\n",
       "      <td>142</td>\n",
       "      <td>90095</td>\n",
       "      <td>4</td>\n",
       "      <td>6.20</td>\n",
       "      <td>2</td>\n",
       "      <td>120</td>\n",
       "      <td>1</td>\n",
       "      <td>0</td>\n",
       "      <td>1</td>\n",
       "      <td>1</td>\n",
       "      <td>1</td>\n",
       "    </tr>\n",
       "    <tr>\n",
       "      <th>4642</th>\n",
       "      <td>4643</td>\n",
       "      <td>65</td>\n",
       "      <td>40</td>\n",
       "      <td>143</td>\n",
       "      <td>95616</td>\n",
       "      <td>4</td>\n",
       "      <td>6.60</td>\n",
       "      <td>2</td>\n",
       "      <td>0</td>\n",
       "      <td>1</td>\n",
       "      <td>0</td>\n",
       "      <td>0</td>\n",
       "      <td>1</td>\n",
       "      <td>0</td>\n",
       "    </tr>\n",
       "    <tr>\n",
       "      <th>4652</th>\n",
       "      <td>4653</td>\n",
       "      <td>38</td>\n",
       "      <td>12</td>\n",
       "      <td>184</td>\n",
       "      <td>91311</td>\n",
       "      <td>3</td>\n",
       "      <td>8.00</td>\n",
       "      <td>1</td>\n",
       "      <td>0</td>\n",
       "      <td>1</td>\n",
       "      <td>0</td>\n",
       "      <td>0</td>\n",
       "      <td>1</td>\n",
       "      <td>0</td>\n",
       "    </tr>\n",
       "    <tr>\n",
       "      <th>4655</th>\n",
       "      <td>4656</td>\n",
       "      <td>33</td>\n",
       "      <td>7</td>\n",
       "      <td>188</td>\n",
       "      <td>95054</td>\n",
       "      <td>2</td>\n",
       "      <td>7.00</td>\n",
       "      <td>2</td>\n",
       "      <td>581</td>\n",
       "      <td>1</td>\n",
       "      <td>0</td>\n",
       "      <td>0</td>\n",
       "      <td>0</td>\n",
       "      <td>0</td>\n",
       "    </tr>\n",
       "    <tr>\n",
       "      <th>4698</th>\n",
       "      <td>4699</td>\n",
       "      <td>48</td>\n",
       "      <td>22</td>\n",
       "      <td>162</td>\n",
       "      <td>94143</td>\n",
       "      <td>3</td>\n",
       "      <td>1.40</td>\n",
       "      <td>1</td>\n",
       "      <td>400</td>\n",
       "      <td>1</td>\n",
       "      <td>0</td>\n",
       "      <td>0</td>\n",
       "      <td>0</td>\n",
       "      <td>0</td>\n",
       "    </tr>\n",
       "    <tr>\n",
       "      <th>4702</th>\n",
       "      <td>4703</td>\n",
       "      <td>35</td>\n",
       "      <td>5</td>\n",
       "      <td>108</td>\n",
       "      <td>90630</td>\n",
       "      <td>2</td>\n",
       "      <td>2.75</td>\n",
       "      <td>3</td>\n",
       "      <td>0</td>\n",
       "      <td>1</td>\n",
       "      <td>1</td>\n",
       "      <td>0</td>\n",
       "      <td>0</td>\n",
       "      <td>0</td>\n",
       "    </tr>\n",
       "    <tr>\n",
       "      <th>4705</th>\n",
       "      <td>4706</td>\n",
       "      <td>61</td>\n",
       "      <td>37</td>\n",
       "      <td>141</td>\n",
       "      <td>92677</td>\n",
       "      <td>3</td>\n",
       "      <td>0.70</td>\n",
       "      <td>1</td>\n",
       "      <td>0</td>\n",
       "      <td>1</td>\n",
       "      <td>0</td>\n",
       "      <td>1</td>\n",
       "      <td>1</td>\n",
       "      <td>1</td>\n",
       "    </tr>\n",
       "    <tr>\n",
       "      <th>4719</th>\n",
       "      <td>4720</td>\n",
       "      <td>32</td>\n",
       "      <td>8</td>\n",
       "      <td>140</td>\n",
       "      <td>94102</td>\n",
       "      <td>4</td>\n",
       "      <td>6.60</td>\n",
       "      <td>3</td>\n",
       "      <td>0</td>\n",
       "      <td>1</td>\n",
       "      <td>0</td>\n",
       "      <td>1</td>\n",
       "      <td>0</td>\n",
       "      <td>1</td>\n",
       "    </tr>\n",
       "    <tr>\n",
       "      <th>4763</th>\n",
       "      <td>4764</td>\n",
       "      <td>51</td>\n",
       "      <td>25</td>\n",
       "      <td>173</td>\n",
       "      <td>95051</td>\n",
       "      <td>1</td>\n",
       "      <td>0.50</td>\n",
       "      <td>2</td>\n",
       "      <td>0</td>\n",
       "      <td>1</td>\n",
       "      <td>0</td>\n",
       "      <td>0</td>\n",
       "      <td>1</td>\n",
       "      <td>0</td>\n",
       "    </tr>\n",
       "    <tr>\n",
       "      <th>4790</th>\n",
       "      <td>4791</td>\n",
       "      <td>35</td>\n",
       "      <td>11</td>\n",
       "      <td>101</td>\n",
       "      <td>94143</td>\n",
       "      <td>3</td>\n",
       "      <td>3.80</td>\n",
       "      <td>3</td>\n",
       "      <td>150</td>\n",
       "      <td>1</td>\n",
       "      <td>0</td>\n",
       "      <td>0</td>\n",
       "      <td>1</td>\n",
       "      <td>0</td>\n",
       "    </tr>\n",
       "    <tr>\n",
       "      <th>4811</th>\n",
       "      <td>4812</td>\n",
       "      <td>36</td>\n",
       "      <td>12</td>\n",
       "      <td>123</td>\n",
       "      <td>90502</td>\n",
       "      <td>2</td>\n",
       "      <td>3.00</td>\n",
       "      <td>3</td>\n",
       "      <td>0</td>\n",
       "      <td>1</td>\n",
       "      <td>0</td>\n",
       "      <td>0</td>\n",
       "      <td>0</td>\n",
       "      <td>0</td>\n",
       "    </tr>\n",
       "    <tr>\n",
       "      <th>4812</th>\n",
       "      <td>4813</td>\n",
       "      <td>29</td>\n",
       "      <td>4</td>\n",
       "      <td>184</td>\n",
       "      <td>92126</td>\n",
       "      <td>4</td>\n",
       "      <td>2.20</td>\n",
       "      <td>3</td>\n",
       "      <td>612</td>\n",
       "      <td>1</td>\n",
       "      <td>0</td>\n",
       "      <td>0</td>\n",
       "      <td>1</td>\n",
       "      <td>0</td>\n",
       "    </tr>\n",
       "    <tr>\n",
       "      <th>4823</th>\n",
       "      <td>4824</td>\n",
       "      <td>46</td>\n",
       "      <td>21</td>\n",
       "      <td>115</td>\n",
       "      <td>95616</td>\n",
       "      <td>2</td>\n",
       "      <td>4.20</td>\n",
       "      <td>3</td>\n",
       "      <td>0</td>\n",
       "      <td>1</td>\n",
       "      <td>1</td>\n",
       "      <td>1</td>\n",
       "      <td>1</td>\n",
       "      <td>1</td>\n",
       "    </tr>\n",
       "    <tr>\n",
       "      <th>4842</th>\n",
       "      <td>4843</td>\n",
       "      <td>49</td>\n",
       "      <td>23</td>\n",
       "      <td>174</td>\n",
       "      <td>95449</td>\n",
       "      <td>3</td>\n",
       "      <td>4.60</td>\n",
       "      <td>2</td>\n",
       "      <td>590</td>\n",
       "      <td>1</td>\n",
       "      <td>0</td>\n",
       "      <td>0</td>\n",
       "      <td>0</td>\n",
       "      <td>0</td>\n",
       "    </tr>\n",
       "    <tr>\n",
       "      <th>4846</th>\n",
       "      <td>4847</td>\n",
       "      <td>35</td>\n",
       "      <td>10</td>\n",
       "      <td>135</td>\n",
       "      <td>94596</td>\n",
       "      <td>3</td>\n",
       "      <td>4.80</td>\n",
       "      <td>2</td>\n",
       "      <td>0</td>\n",
       "      <td>1</td>\n",
       "      <td>0</td>\n",
       "      <td>0</td>\n",
       "      <td>1</td>\n",
       "      <td>0</td>\n",
       "    </tr>\n",
       "    <tr>\n",
       "      <th>4859</th>\n",
       "      <td>4860</td>\n",
       "      <td>34</td>\n",
       "      <td>8</td>\n",
       "      <td>165</td>\n",
       "      <td>91107</td>\n",
       "      <td>1</td>\n",
       "      <td>7.00</td>\n",
       "      <td>3</td>\n",
       "      <td>541</td>\n",
       "      <td>1</td>\n",
       "      <td>0</td>\n",
       "      <td>0</td>\n",
       "      <td>0</td>\n",
       "      <td>0</td>\n",
       "    </tr>\n",
       "    <tr>\n",
       "      <th>4865</th>\n",
       "      <td>4866</td>\n",
       "      <td>50</td>\n",
       "      <td>24</td>\n",
       "      <td>133</td>\n",
       "      <td>90025</td>\n",
       "      <td>4</td>\n",
       "      <td>1.40</td>\n",
       "      <td>2</td>\n",
       "      <td>342</td>\n",
       "      <td>1</td>\n",
       "      <td>0</td>\n",
       "      <td>0</td>\n",
       "      <td>0</td>\n",
       "      <td>1</td>\n",
       "    </tr>\n",
       "    <tr>\n",
       "      <th>4876</th>\n",
       "      <td>4877</td>\n",
       "      <td>44</td>\n",
       "      <td>19</td>\n",
       "      <td>142</td>\n",
       "      <td>95054</td>\n",
       "      <td>1</td>\n",
       "      <td>1.50</td>\n",
       "      <td>3</td>\n",
       "      <td>0</td>\n",
       "      <td>1</td>\n",
       "      <td>0</td>\n",
       "      <td>0</td>\n",
       "      <td>0</td>\n",
       "      <td>0</td>\n",
       "    </tr>\n",
       "    <tr>\n",
       "      <th>4883</th>\n",
       "      <td>4884</td>\n",
       "      <td>38</td>\n",
       "      <td>13</td>\n",
       "      <td>129</td>\n",
       "      <td>92646</td>\n",
       "      <td>3</td>\n",
       "      <td>4.10</td>\n",
       "      <td>3</td>\n",
       "      <td>0</td>\n",
       "      <td>1</td>\n",
       "      <td>0</td>\n",
       "      <td>1</td>\n",
       "      <td>1</td>\n",
       "      <td>1</td>\n",
       "    </tr>\n",
       "    <tr>\n",
       "      <th>4927</th>\n",
       "      <td>4928</td>\n",
       "      <td>43</td>\n",
       "      <td>19</td>\n",
       "      <td>121</td>\n",
       "      <td>94720</td>\n",
       "      <td>1</td>\n",
       "      <td>0.70</td>\n",
       "      <td>2</td>\n",
       "      <td>0</td>\n",
       "      <td>1</td>\n",
       "      <td>0</td>\n",
       "      <td>1</td>\n",
       "      <td>1</td>\n",
       "      <td>1</td>\n",
       "    </tr>\n",
       "    <tr>\n",
       "      <th>4941</th>\n",
       "      <td>4942</td>\n",
       "      <td>28</td>\n",
       "      <td>4</td>\n",
       "      <td>112</td>\n",
       "      <td>90049</td>\n",
       "      <td>2</td>\n",
       "      <td>1.60</td>\n",
       "      <td>2</td>\n",
       "      <td>0</td>\n",
       "      <td>1</td>\n",
       "      <td>0</td>\n",
       "      <td>0</td>\n",
       "      <td>1</td>\n",
       "      <td>0</td>\n",
       "    </tr>\n",
       "    <tr>\n",
       "      <th>4962</th>\n",
       "      <td>4963</td>\n",
       "      <td>46</td>\n",
       "      <td>20</td>\n",
       "      <td>122</td>\n",
       "      <td>90065</td>\n",
       "      <td>3</td>\n",
       "      <td>3.00</td>\n",
       "      <td>3</td>\n",
       "      <td>0</td>\n",
       "      <td>1</td>\n",
       "      <td>0</td>\n",
       "      <td>1</td>\n",
       "      <td>1</td>\n",
       "      <td>1</td>\n",
       "    </tr>\n",
       "    <tr>\n",
       "      <th>4980</th>\n",
       "      <td>4981</td>\n",
       "      <td>29</td>\n",
       "      <td>5</td>\n",
       "      <td>135</td>\n",
       "      <td>95762</td>\n",
       "      <td>3</td>\n",
       "      <td>5.30</td>\n",
       "      <td>1</td>\n",
       "      <td>0</td>\n",
       "      <td>1</td>\n",
       "      <td>0</td>\n",
       "      <td>1</td>\n",
       "      <td>1</td>\n",
       "      <td>1</td>\n",
       "    </tr>\n",
       "  </tbody>\n",
       "</table>\n",
       "<p>480 rows × 14 columns</p>\n",
       "</div>"
      ],
      "text/plain": [
       "        ID  Age  Experience  Income  ZIP Code  Family  CCAvg  Education  \\\n",
       "9       10   34           9     180     93023       1   8.90          3   \n",
       "16      17   38          14     130     95010       4   4.70          3   \n",
       "18      19   46          21     193     91604       2   8.10          3   \n",
       "29      30   38          13     119     94104       1   3.30          2   \n",
       "38      39   42          18     141     94114       3   5.00          3   \n",
       "42      43   32           7     132     90019       4   1.10          2   \n",
       "47      48   37          12     194     91380       4   0.20          3   \n",
       "53      54   50          26     190     90245       3   2.10          3   \n",
       "57      58   56          31     131     95616       2   1.20          3   \n",
       "75      76   31           7     135     94901       4   3.80          2   \n",
       "78      79   54          30     133     93305       2   2.60          3   \n",
       "90      91   55          30     118     90277       4   5.60          2   \n",
       "131    132   58          34     149     93720       4   7.20          2   \n",
       "151    152   26           0     132     92834       3   6.50          3   \n",
       "160    161   29           0     134     95819       4   6.50          3   \n",
       "174    175   42          17     168     95503       2   7.90          2   \n",
       "183    184   29           3     148     92173       3   4.10          1   \n",
       "187    188   46          21     159     94305       3   1.90          3   \n",
       "199    200   36          11     158     92152       1   5.10          3   \n",
       "209    210   64          39     172     94707       4   3.10          1   \n",
       "243    244   65          39     170     90095       3   7.90          3   \n",
       "247    248   53          29     120     92626       4   2.70          2   \n",
       "251    252   54          28     170     92182       2   6.20          2   \n",
       "254    255   65          41     134     91942       3   3.90          3   \n",
       "261    262   42          16     111     93106       2   1.20          3   \n",
       "288    289   44          19     172     94306       2   4.30          3   \n",
       "299    300   41          15     159     90057       1   5.50          3   \n",
       "303    304   49          25     195     95605       4   3.00          1   \n",
       "316    317   57          31     165     95054       1   1.60          2   \n",
       "317    318   40          16     119     91335       2   4.20          2   \n",
       "...    ...  ...         ...     ...       ...     ...    ...        ...   \n",
       "4585  4586   35          11     180     94010       1   3.60          3   \n",
       "4590  4591   58          34     151     94022       3   0.60          2   \n",
       "4593  4594   54          30     133     95747       1   5.00          2   \n",
       "4604  4605   32           7      81     90601       2   3.40          2   \n",
       "4625  4626   45          21     102     92037       4   4.70          2   \n",
       "4627  4628   27           1     134     93106       1   1.70          2   \n",
       "4628  4629   27           1     130     94801       3   2.90          2   \n",
       "4631  4632   32           8     142     90095       4   6.20          2   \n",
       "4642  4643   65          40     143     95616       4   6.60          2   \n",
       "4652  4653   38          12     184     91311       3   8.00          1   \n",
       "4655  4656   33           7     188     95054       2   7.00          2   \n",
       "4698  4699   48          22     162     94143       3   1.40          1   \n",
       "4702  4703   35           5     108     90630       2   2.75          3   \n",
       "4705  4706   61          37     141     92677       3   0.70          1   \n",
       "4719  4720   32           8     140     94102       4   6.60          3   \n",
       "4763  4764   51          25     173     95051       1   0.50          2   \n",
       "4790  4791   35          11     101     94143       3   3.80          3   \n",
       "4811  4812   36          12     123     90502       2   3.00          3   \n",
       "4812  4813   29           4     184     92126       4   2.20          3   \n",
       "4823  4824   46          21     115     95616       2   4.20          3   \n",
       "4842  4843   49          23     174     95449       3   4.60          2   \n",
       "4846  4847   35          10     135     94596       3   4.80          2   \n",
       "4859  4860   34           8     165     91107       1   7.00          3   \n",
       "4865  4866   50          24     133     90025       4   1.40          2   \n",
       "4876  4877   44          19     142     95054       1   1.50          3   \n",
       "4883  4884   38          13     129     92646       3   4.10          3   \n",
       "4927  4928   43          19     121     94720       1   0.70          2   \n",
       "4941  4942   28           4     112     90049       2   1.60          2   \n",
       "4962  4963   46          20     122     90065       3   3.00          3   \n",
       "4980  4981   29           5     135     95762       3   5.30          1   \n",
       "\n",
       "      Mortgage  Personal Loan  Securities Account  CD Account  Online  \\\n",
       "9            0              1                   0           0       0   \n",
       "16         134              1                   0           0       0   \n",
       "18           0              1                   0           0       0   \n",
       "29           0              1                   0           1       1   \n",
       "38           0              1                   1           1       1   \n",
       "42         412              1                   0           0       1   \n",
       "47         211              1                   1           1       1   \n",
       "53         240              1                   0           0       1   \n",
       "57           0              1                   0           0       0   \n",
       "75           0              1                   0           1       1   \n",
       "78           0              1                   0           0       0   \n",
       "90           0              1                   0           0       1   \n",
       "131          0              1                   0           1       1   \n",
       "151          0              1                   0           0       0   \n",
       "160          0              1                   0           0       0   \n",
       "174          0              1                   0           0       1   \n",
       "183          0              1                   0           0       1   \n",
       "187        315              1                   0           0       1   \n",
       "199          0              1                   0           1       1   \n",
       "209        282              1                   0           1       1   \n",
       "243         99              1                   0           1       1   \n",
       "247        111              1                   1           1       1   \n",
       "251        325              1                   0           0       1   \n",
       "254        121              1                   0           0       1   \n",
       "261        251              1                   0           0       1   \n",
       "288        391              1                   1           1       1   \n",
       "299          0              1                   0           1       1   \n",
       "303        617              1                   0           0       0   \n",
       "316          0              1                   0           0       1   \n",
       "317          0              1                   0           0       1   \n",
       "...        ...            ...                 ...         ...     ...   \n",
       "4585       571              1                   0           1       1   \n",
       "4590         0              1                   0           0       0   \n",
       "4593         0              1                   0           0       0   \n",
       "4604         0              1                   0           0       0   \n",
       "4625        81              1                   0           0       0   \n",
       "4627       307              1                   0           0       1   \n",
       "4628         0              1                   0           0       0   \n",
       "4631       120              1                   0           1       1   \n",
       "4642         0              1                   0           0       1   \n",
       "4652         0              1                   0           0       1   \n",
       "4655       581              1                   0           0       0   \n",
       "4698       400              1                   0           0       0   \n",
       "4702         0              1                   1           0       0   \n",
       "4705         0              1                   0           1       1   \n",
       "4719         0              1                   0           1       0   \n",
       "4763         0              1                   0           0       1   \n",
       "4790       150              1                   0           0       1   \n",
       "4811         0              1                   0           0       0   \n",
       "4812       612              1                   0           0       1   \n",
       "4823         0              1                   1           1       1   \n",
       "4842       590              1                   0           0       0   \n",
       "4846         0              1                   0           0       1   \n",
       "4859       541              1                   0           0       0   \n",
       "4865       342              1                   0           0       0   \n",
       "4876         0              1                   0           0       0   \n",
       "4883         0              1                   0           1       1   \n",
       "4927         0              1                   0           1       1   \n",
       "4941         0              1                   0           0       1   \n",
       "4962         0              1                   0           1       1   \n",
       "4980         0              1                   0           1       1   \n",
       "\n",
       "      CreditCard  \n",
       "9              0  \n",
       "16             0  \n",
       "18             0  \n",
       "29             1  \n",
       "38             0  \n",
       "42             0  \n",
       "47             1  \n",
       "53             0  \n",
       "57             0  \n",
       "75             1  \n",
       "78             0  \n",
       "90             0  \n",
       "131            1  \n",
       "151            1  \n",
       "160            0  \n",
       "174            0  \n",
       "183            0  \n",
       "187            0  \n",
       "199            1  \n",
       "209            1  \n",
       "243            0  \n",
       "247            0  \n",
       "251            0  \n",
       "254            0  \n",
       "261            0  \n",
       "288            0  \n",
       "299            0  \n",
       "303            0  \n",
       "316            0  \n",
       "317            0  \n",
       "...          ...  \n",
       "4585           1  \n",
       "4590           0  \n",
       "4593           1  \n",
       "4604           1  \n",
       "4625           0  \n",
       "4627           0  \n",
       "4628           0  \n",
       "4631           1  \n",
       "4642           0  \n",
       "4652           0  \n",
       "4655           0  \n",
       "4698           0  \n",
       "4702           0  \n",
       "4705           1  \n",
       "4719           1  \n",
       "4763           0  \n",
       "4790           0  \n",
       "4811           0  \n",
       "4812           0  \n",
       "4823           1  \n",
       "4842           0  \n",
       "4846           0  \n",
       "4859           0  \n",
       "4865           1  \n",
       "4876           0  \n",
       "4883           1  \n",
       "4927           1  \n",
       "4941           0  \n",
       "4962           1  \n",
       "4980           1  \n",
       "\n",
       "[480 rows x 14 columns]"
      ]
     },
     "execution_count": 23,
     "metadata": {},
     "output_type": "execute_result"
    }
   ],
   "source": [
    "df[df['Personal Loan']==1]"
   ]
  },
  {
   "cell_type": "code",
   "execution_count": 25,
   "metadata": {},
   "outputs": [],
   "source": [
    "import matplotlib.pyplot as plt\n",
    "import seaborn as sns"
   ]
  },
  {
   "cell_type": "code",
   "execution_count": 26,
   "metadata": {},
   "outputs": [
    {
     "data": {
      "text/plain": [
       "Index(['ID', 'Age', 'Experience', 'Income', 'ZIP Code', 'Family', 'CCAvg',\n",
       "       'Education', 'Mortgage', 'Personal Loan', 'Securities Account',\n",
       "       'CD Account', 'Online', 'CreditCard'],\n",
       "      dtype='object')"
      ]
     },
     "execution_count": 26,
     "metadata": {},
     "output_type": "execute_result"
    }
   ],
   "source": [
    "df.columns"
   ]
  },
  {
   "cell_type": "markdown",
   "metadata": {},
   "source": [
    "#  2. Study the data distribution in each attribute, share your findings. (5 points)"
   ]
  },
  {
   "cell_type": "code",
   "execution_count": 27,
   "metadata": {},
   "outputs": [
    {
     "name": "stderr",
     "output_type": "stream",
     "text": [
      "C:\\Users\\Ashok\\Anaconda3\\lib\\site-packages\\scipy\\stats\\stats.py:1713: FutureWarning: Using a non-tuple sequence for multidimensional indexing is deprecated; use `arr[tuple(seq)]` instead of `arr[seq]`. In the future this will be interpreted as an array index, `arr[np.array(seq)]`, which will result either in an error or a different result.\n",
      "  return np.add.reduce(sorted[indexer] * weights, axis=axis) / sumval\n"
     ]
    },
    {
     "data": {
      "text/plain": [
       "<matplotlib.axes._subplots.AxesSubplot at 0xbb8ba20>"
      ]
     },
     "execution_count": 27,
     "metadata": {},
     "output_type": "execute_result"
    },
    {
     "data": {
      "image/png": "[encoded data removed]",
      "text/plain": [
       "<Figure size 432x288 with 1 Axes>"
      ]
     },
     "metadata": {
      "needs_background": "light"
     },
     "output_type": "display_data"
    }
   ],
   "source": [
    "sns.distplot(df.Age)"
   ]
  },
  {
   "cell_type": "code",
   "execution_count": 28,
   "metadata": {},
   "outputs": [
    {
     "data": {
      "text/plain": [
       "<matplotlib.axes._subplots.AxesSubplot at 0xbb77438>"
      ]
     },
     "execution_count": 28,
     "metadata": {},
     "output_type": "execute_result"
    },
    {
     "data": {
      "image/png": "[encoded data removed]",
      "text/plain": [
       "<Figure size 432x288 with 1 Axes>"
      ]
     },
     "metadata": {
      "needs_background": "light"
     },
     "output_type": "display_data"
    }
   ],
   "source": [
    "sns.distplot(df.Experience)"
   ]
  },
  {
   "cell_type": "code",
   "execution_count": 29,
   "metadata": {},
   "outputs": [
    {
     "name": "stderr",
     "output_type": "stream",
     "text": [
      "C:\\Users\\Ashok\\Anaconda3\\lib\\site-packages\\scipy\\stats\\stats.py:1713: FutureWarning: Using a non-tuple sequence for multidimensional indexing is deprecated; use `arr[tuple(seq)]` instead of `arr[seq]`. In the future this will be interpreted as an array index, `arr[np.array(seq)]`, which will result either in an error or a different result.\n",
      "  return np.add.reduce(sorted[indexer] * weights, axis=axis) / sumval\n"
     ]
    },
    {
     "data": {
      "text/plain": [
       "<matplotlib.axes._subplots.AxesSubplot at 0xaf670b8>"
      ]
     },
     "execution_count": 29,
     "metadata": {},
     "output_type": "execute_result"
    },
    {
     "data": {
      "image/png": "[encoded data removed]",
      "text/plain": [
       "<Figure size 432x288 with 1 Axes>"
      ]
     },
     "metadata": {
      "needs_background": "light"
     },
     "output_type": "display_data"
    }
   ],
   "source": [
    "sns.distplot(df.Income)"
   ]
  },
  {
   "cell_type": "code",
   "execution_count": 31,
   "metadata": {},
   "outputs": [
    {
     "data": {
      "text/plain": [
       "<matplotlib.axes._subplots.AxesSubplot at 0xb076550>"
      ]
     },
     "execution_count": 31,
     "metadata": {},
     "output_type": "execute_result"
    },
    {
     "data": {
      "image/png": "[encoded data removed]",
      "text/plain": [
       "<Figure size 432x288 with 1 Axes>"
      ]
     },
     "metadata": {
      "needs_background": "light"
     },
     "output_type": "display_data"
    }
   ],
   "source": [
    "sns.countplot(df.Family)"
   ]
  },
  {
   "cell_type": "code",
   "execution_count": 32,
   "metadata": {},
   "outputs": [
    {
     "name": "stderr",
     "output_type": "stream",
     "text": [
      "C:\\Users\\Ashok\\Anaconda3\\lib\\site-packages\\scipy\\stats\\stats.py:1713: FutureWarning: Using a non-tuple sequence for multidimensional indexing is deprecated; use `arr[tuple(seq)]` instead of `arr[seq]`. In the future this will be interpreted as an array index, `arr[np.array(seq)]`, which will result either in an error or a different result.\n",
      "  return np.add.reduce(sorted[indexer] * weights, axis=axis) / sumval\n"
     ]
    },
    {
     "data": {
      "text/plain": [
       "<matplotlib.axes._subplots.AxesSubplot at 0xb0a3438>"
      ]
     },
     "execution_count": 32,
     "metadata": {},
     "output_type": "execute_result"
    },
    {
     "data": {
      "image/png": "[encoded data removed]",
      "text/plain": [
       "<Figure size 432x288 with 1 Axes>"
      ]
     },
     "metadata": {
      "needs_background": "light"
     },
     "output_type": "display_data"
    }
   ],
   "source": [
    "sns.distplot(df.CCAvg)"
   ]
  },
  {
   "cell_type": "code",
   "execution_count": 34,
   "metadata": {},
   "outputs": [
    {
     "data": {
      "text/plain": [
       "<matplotlib.axes._subplots.AxesSubplot at 0xc2aafd0>"
      ]
     },
     "execution_count": 34,
     "metadata": {},
     "output_type": "execute_result"
    },
    {
     "data": {
      "image/png": "[encoded data removed]",
      "text/plain": [
       "<Figure size 432x288 with 1 Axes>"
      ]
     },
     "metadata": {
      "needs_background": "light"
     },
     "output_type": "display_data"
    }
   ],
   "source": [
    "sns.countplot(df.Education)"
   ]
  },
  {
   "cell_type": "code",
   "execution_count": 38,
   "metadata": {},
   "outputs": [
    {
     "data": {
      "text/plain": [
       "(array([3462.,  566.,  428.,  254.,  127.,   73.,   46.,   20.,   14.,\n",
       "          10.]),\n",
       " array([  0. ,  63.5, 127. , 190.5, 254. , 317.5, 381. , 444.5, 508. ,\n",
       "        571.5, 635. ]),\n",
       " <a list of 10 Patch objects>)"
      ]
     },
     "execution_count": 38,
     "metadata": {},
     "output_type": "execute_result"
    },
    {
     "data": {
      "image/png": "[encoded data removed]",
      "text/plain": [
       "<Figure size 432x288 with 1 Axes>"
      ]
     },
     "metadata": {
      "needs_background": "light"
     },
     "output_type": "display_data"
    }
   ],
   "source": [
    "plt.hist(df.Mortgage)"
   ]
  },
  {
   "cell_type": "code",
   "execution_count": 40,
   "metadata": {},
   "outputs": [
    {
     "data": {
      "text/plain": [
       "<matplotlib.axes._subplots.AxesSubplot at 0xe30e3c8>"
      ]
     },
     "execution_count": 40,
     "metadata": {},
     "output_type": "execute_result"
    },
    {
     "data": {
      "image/png": "[encoded data removed]",
      "text/plain": [
       "<Figure size 432x288 with 1 Axes>"
      ]
     },
     "metadata": {
      "needs_background": "light"
     },
     "output_type": "display_data"
    }
   ],
   "source": [
    "sns.countplot(df['Personal Loan'])"
   ]
  },
  {
   "cell_type": "code",
   "execution_count": 41,
   "metadata": {},
   "outputs": [
    {
     "data": {
      "text/plain": [
       "<matplotlib.axes._subplots.AxesSubplot at 0xe1cdd30>"
      ]
     },
     "execution_count": 41,
     "metadata": {},
     "output_type": "execute_result"
    },
    {
     "data": {
      "image/png": "[encoded data removed]",
      "text/plain": [
       "<Figure size 432x288 with 1 Axes>"
      ]
     },
     "metadata": {
      "needs_background": "light"
     },
     "output_type": "display_data"
    }
   ],
   "source": [
    "sns.countplot(df['Securities Account'])"
   ]
  },
  {
   "cell_type": "code",
   "execution_count": 42,
   "metadata": {},
   "outputs": [
    {
     "data": {
      "text/plain": [
       "<matplotlib.axes._subplots.AxesSubplot at 0xdf6ee48>"
      ]
     },
     "execution_count": 42,
     "metadata": {},
     "output_type": "execute_result"
    },
    {
     "data": {
      "image/png": "[encoded data removed]",
      "text/plain": [
       "<Figure size 432x288 with 1 Axes>"
      ]
     },
     "metadata": {
      "needs_background": "light"
     },
     "output_type": "display_data"
    }
   ],
   "source": [
    "sns.countplot(df['CD Account'])"
   ]
  },
  {
   "cell_type": "code",
   "execution_count": 44,
   "metadata": {},
   "outputs": [
    {
     "data": {
      "text/plain": [
       "<matplotlib.axes._subplots.AxesSubplot at 0xe10b400>"
      ]
     },
     "execution_count": 44,
     "metadata": {},
     "output_type": "execute_result"
    },
    {
     "data": {
      "image/png": "[encoded data removed]",
      "text/plain": [
       "<Figure size 432x288 with 1 Axes>"
      ]
     },
     "metadata": {
      "needs_background": "light"
     },
     "output_type": "display_data"
    }
   ],
   "source": [
    "sns.countplot(df['Online'])"
   ]
  },
  {
   "cell_type": "code",
   "execution_count": 45,
   "metadata": {},
   "outputs": [
    {
     "data": {
      "text/plain": [
       "<matplotlib.axes._subplots.AxesSubplot at 0xe2311d0>"
      ]
     },
     "execution_count": 45,
     "metadata": {},
     "output_type": "execute_result"
    },
    {
     "data": {
      "image/png": "[encoded data removed]",
      "text/plain": [
       "<Figure size 432x288 with 1 Axes>"
      ]
     },
     "metadata": {
      "needs_background": "light"
     },
     "output_type": "display_data"
    }
   ],
   "source": [
    "sns.countplot(df['CreditCard'])"
   ]
  },
  {
   "cell_type": "markdown",
   "metadata": {},
   "source": [
    "#   3. Get the target column distribution. Your comments "
   ]
  },
  {
   "cell_type": "code",
   "execution_count": 46,
   "metadata": {},
   "outputs": [],
   "source": [
    "X=df.drop(['ID','ZIP Code','Personal Loan'],axis=1)"
   ]
  },
  {
   "cell_type": "code",
   "execution_count": 47,
   "metadata": {},
   "outputs": [],
   "source": [
    "Y=df[['Personal Loan']]"
   ]
  },
  {
   "cell_type": "code",
   "execution_count": 48,
   "metadata": {},
   "outputs": [
    {
     "data": {
      "text/plain": [
       "(5000, 11)"
      ]
     },
     "execution_count": 48,
     "metadata": {},
     "output_type": "execute_result"
    }
   ],
   "source": [
    "X.shape"
   ]
  },
  {
   "cell_type": "code",
   "execution_count": 49,
   "metadata": {},
   "outputs": [
    {
     "data": {
      "text/plain": [
       "Index(['Age', 'Experience', 'Income', 'Family', 'CCAvg', 'Education',\n",
       "       'Mortgage', 'Securities Account', 'CD Account', 'Online', 'CreditCard'],\n",
       "      dtype='object')"
      ]
     },
     "execution_count": 49,
     "metadata": {},
     "output_type": "execute_result"
    }
   ],
   "source": [
    "X.columns"
   ]
  },
  {
   "cell_type": "code",
   "execution_count": 50,
   "metadata": {},
   "outputs": [
    {
     "data": {
      "text/plain": [
       "Index(['Personal Loan'], dtype='object')"
      ]
     },
     "execution_count": 50,
     "metadata": {},
     "output_type": "execute_result"
    }
   ],
   "source": [
    "Y.columns"
   ]
  },
  {
   "cell_type": "code",
   "execution_count": 53,
   "metadata": {},
   "outputs": [
    {
     "data": {
      "text/plain": [
       "0    4520\n",
       "1     480\n",
       "Name: Personal Loan, dtype: int64"
      ]
     },
     "execution_count": 53,
     "metadata": {},
     "output_type": "execute_result"
    }
   ],
   "source": [
    "Y['Personal Loan'].value_counts()"
   ]
  },
  {
   "cell_type": "markdown",
   "metadata": {},
   "source": [
    "# There is a data imbalance in the target column, hence we use SMOTE to balance the data"
   ]
  },
  {
   "cell_type": "code",
   "execution_count": 54,
   "metadata": {},
   "outputs": [],
   "source": [
    "from imblearn.over_sampling import SMOTE"
   ]
  },
  {
   "cell_type": "markdown",
   "metadata": {},
   "source": [
    "#  4. Split the data into training and test set in the ratio of 70:30 respectively "
   ]
  },
  {
   "cell_type": "code",
   "execution_count": 70,
   "metadata": {},
   "outputs": [],
   "source": [
    "from sklearn.preprocessing import StandardScaler"
   ]
  },
  {
   "cell_type": "code",
   "execution_count": 72,
   "metadata": {},
   "outputs": [],
   "source": [
    "sc=StandardScaler()"
   ]
  },
  {
   "cell_type": "code",
   "execution_count": 73,
   "metadata": {},
   "outputs": [
    {
     "name": "stderr",
     "output_type": "stream",
     "text": [
      "C:\\Users\\Ashok\\Anaconda3\\lib\\site-packages\\sklearn\\preprocessing\\data.py:625: DataConversionWarning: Data with input dtype int64, float64 were all converted to float64 by StandardScaler.\n",
      "  return self.partial_fit(X, y)\n",
      "C:\\Users\\Ashok\\Anaconda3\\lib\\site-packages\\sklearn\\base.py:462: DataConversionWarning: Data with input dtype int64, float64 were all converted to float64 by StandardScaler.\n",
      "  return self.fit(X, **fit_params).transform(X)\n"
     ]
    }
   ],
   "source": [
    "X_Scaled=sc.fit_transform(X)"
   ]
  },
  {
   "cell_type": "code",
   "execution_count": 86,
   "metadata": {},
   "outputs": [],
   "source": [
    "X_Scaled=pd.DataFrame(X_Scaled,columns=X.columns)"
   ]
  },
  {
   "cell_type": "code",
   "execution_count": 87,
   "metadata": {},
   "outputs": [
    {
     "data": {
      "text/html": [
       "<div>\n",
       "<style scoped>\n",
       "    .dataframe tbody tr th:only-of-type {\n",
       "        vertical-align: middle;\n",
       "    }\n",
       "\n",
       "    .dataframe tbody tr th {\n",
       "        vertical-align: top;\n",
       "    }\n",
       "\n",
       "    .dataframe thead th {\n",
       "        text-align: right;\n",
       "    }\n",
       "</style>\n",
       "<table border=\"1\" class=\"dataframe\">\n",
       "  <thead>\n",
       "    <tr style=\"text-align: right;\">\n",
       "      <th></th>\n",
       "      <th>Age</th>\n",
       "      <th>Experience</th>\n",
       "      <th>Income</th>\n",
       "      <th>Family</th>\n",
       "      <th>CCAvg</th>\n",
       "      <th>Education</th>\n",
       "      <th>Mortgage</th>\n",
       "      <th>Securities Account</th>\n",
       "      <th>CD Account</th>\n",
       "      <th>Online</th>\n",
       "      <th>CreditCard</th>\n",
       "    </tr>\n",
       "  </thead>\n",
       "  <tbody>\n",
       "    <tr>\n",
       "      <th>0</th>\n",
       "      <td>-1.774417</td>\n",
       "      <td>-1.666078</td>\n",
       "      <td>-0.538229</td>\n",
       "      <td>1.397414</td>\n",
       "      <td>-0.193385</td>\n",
       "      <td>-1.049078</td>\n",
       "      <td>-0.555524</td>\n",
       "      <td>2.928915</td>\n",
       "      <td>-0.25354</td>\n",
       "      <td>-1.216618</td>\n",
       "      <td>-0.645314</td>\n",
       "    </tr>\n",
       "    <tr>\n",
       "      <th>1</th>\n",
       "      <td>-0.029524</td>\n",
       "      <td>-0.096330</td>\n",
       "      <td>-0.864109</td>\n",
       "      <td>0.525991</td>\n",
       "      <td>-0.250611</td>\n",
       "      <td>-1.049078</td>\n",
       "      <td>-0.555524</td>\n",
       "      <td>2.928915</td>\n",
       "      <td>-0.25354</td>\n",
       "      <td>-1.216618</td>\n",
       "      <td>-0.645314</td>\n",
       "    </tr>\n",
       "    <tr>\n",
       "      <th>2</th>\n",
       "      <td>-0.552992</td>\n",
       "      <td>-0.445163</td>\n",
       "      <td>-1.363793</td>\n",
       "      <td>-1.216855</td>\n",
       "      <td>-0.536736</td>\n",
       "      <td>-1.049078</td>\n",
       "      <td>-0.555524</td>\n",
       "      <td>-0.341423</td>\n",
       "      <td>-0.25354</td>\n",
       "      <td>-1.216618</td>\n",
       "      <td>-0.645314</td>\n",
       "    </tr>\n",
       "    <tr>\n",
       "      <th>3</th>\n",
       "      <td>-0.901970</td>\n",
       "      <td>-0.968413</td>\n",
       "      <td>0.569765</td>\n",
       "      <td>-1.216855</td>\n",
       "      <td>0.436091</td>\n",
       "      <td>0.141703</td>\n",
       "      <td>-0.555524</td>\n",
       "      <td>-0.341423</td>\n",
       "      <td>-0.25354</td>\n",
       "      <td>-1.216618</td>\n",
       "      <td>-0.645314</td>\n",
       "    </tr>\n",
       "    <tr>\n",
       "      <th>4</th>\n",
       "      <td>-0.901970</td>\n",
       "      <td>-1.055621</td>\n",
       "      <td>-0.625130</td>\n",
       "      <td>1.397414</td>\n",
       "      <td>-0.536736</td>\n",
       "      <td>0.141703</td>\n",
       "      <td>-0.555524</td>\n",
       "      <td>-0.341423</td>\n",
       "      <td>-0.25354</td>\n",
       "      <td>-1.216618</td>\n",
       "      <td>1.549632</td>\n",
       "    </tr>\n",
       "  </tbody>\n",
       "</table>\n",
       "</div>"
      ],
      "text/plain": [
       "        Age  Experience    Income    Family     CCAvg  Education  Mortgage  \\\n",
       "0 -1.774417   -1.666078 -0.538229  1.397414 -0.193385  -1.049078 -0.555524   \n",
       "1 -0.029524   -0.096330 -0.864109  0.525991 -0.250611  -1.049078 -0.555524   \n",
       "2 -0.552992   -0.445163 -1.363793 -1.216855 -0.536736  -1.049078 -0.555524   \n",
       "3 -0.901970   -0.968413  0.569765 -1.216855  0.436091   0.141703 -0.555524   \n",
       "4 -0.901970   -1.055621 -0.625130  1.397414 -0.536736   0.141703 -0.555524   \n",
       "\n",
       "   Securities Account  CD Account    Online  CreditCard  \n",
       "0            2.928915    -0.25354 -1.216618   -0.645314  \n",
       "1            2.928915    -0.25354 -1.216618   -0.645314  \n",
       "2           -0.341423    -0.25354 -1.216618   -0.645314  \n",
       "3           -0.341423    -0.25354 -1.216618   -0.645314  \n",
       "4           -0.341423    -0.25354 -1.216618    1.549632  "
      ]
     },
     "execution_count": 87,
     "metadata": {},
     "output_type": "execute_result"
    }
   ],
   "source": [
    "X_Scaled.head()"
   ]
  },
  {
   "cell_type": "code",
   "execution_count": 74,
   "metadata": {},
   "outputs": [],
   "source": [
    "from sklearn.model_selection import train_test_split\n",
    "xtrain,xtest,ytrain,ytest=train_test_split(X_Scaled,Y,test_size=0.3,random_state=2)"
   ]
  },
  {
   "cell_type": "code",
   "execution_count": 75,
   "metadata": {},
   "outputs": [
    {
     "name": "stderr",
     "output_type": "stream",
     "text": [
      "C:\\Users\\Ashok\\Anaconda3\\lib\\site-packages\\sklearn\\utils\\validation.py:761: DataConversionWarning: A column-vector y was passed when a 1d array was expected. Please change the shape of y to (n_samples, ), for example using ravel().\n",
      "  y = column_or_1d(y, warn=True)\n"
     ]
    }
   ],
   "source": [
    "smt=SMOTE()\n",
    "x_train, y_train = smt.fit_sample(xtrain, ytrain)"
   ]
  },
  {
   "cell_type": "code",
   "execution_count": 76,
   "metadata": {},
   "outputs": [
    {
     "data": {
      "text/plain": [
       "array([3158, 3158], dtype=int64)"
      ]
     },
     "execution_count": 76,
     "metadata": {},
     "output_type": "execute_result"
    }
   ],
   "source": [
    "np.bincount(y_train)"
   ]
  },
  {
   "cell_type": "markdown",
   "metadata": {},
   "source": [
    "#  Now the data is balanced"
   ]
  },
  {
   "cell_type": "markdown",
   "metadata": {},
   "source": [
    "# 5. Use different classification models (Logistic, K-NN and Naïve Bayes) to predict the likelihood of a liability customer buying personal loans (15 points)"
   ]
  },
  {
   "cell_type": "code",
   "execution_count": 77,
   "metadata": {},
   "outputs": [
    {
     "name": "stderr",
     "output_type": "stream",
     "text": [
      "C:\\Users\\Ashok\\Anaconda3\\lib\\site-packages\\sklearn\\linear_model\\logistic.py:433: FutureWarning: Default solver will be changed to 'lbfgs' in 0.22. Specify a solver to silence this warning.\n",
      "  FutureWarning)\n"
     ]
    }
   ],
   "source": [
    "from sklearn.linear_model import LogisticRegression\n",
    "LR=LogisticRegression()\n",
    "LR.fit(x_train,y_train)\n",
    "y_pred=LR.predict(xtest)"
   ]
  },
  {
   "cell_type": "code",
   "execution_count": 78,
   "metadata": {},
   "outputs": [],
   "source": [
    "from sklearn.metrics import accuracy_score, cohen_kappa_score"
   ]
  },
  {
   "cell_type": "code",
   "execution_count": 79,
   "metadata": {},
   "outputs": [
    {
     "data": {
      "text/plain": [
       "0.912"
      ]
     },
     "execution_count": 79,
     "metadata": {},
     "output_type": "execute_result"
    }
   ],
   "source": [
    "accuracy_score(ytest,y_pred)"
   ]
  },
  {
   "cell_type": "code",
   "execution_count": 80,
   "metadata": {},
   "outputs": [],
   "source": [
    "from sklearn.metrics import confusion_matrix"
   ]
  },
  {
   "cell_type": "code",
   "execution_count": 81,
   "metadata": {},
   "outputs": [
    {
     "data": {
      "text/plain": [
       "array([[1256,  106],\n",
       "       [  26,  112]], dtype=int64)"
      ]
     },
     "execution_count": 81,
     "metadata": {},
     "output_type": "execute_result"
    }
   ],
   "source": [
    "cm=confusion_matrix(ytest,y_pred)\n",
    "cm"
   ]
  },
  {
   "cell_type": "code",
   "execution_count": 82,
   "metadata": {},
   "outputs": [],
   "source": [
    "from sklearn.metrics import classification_report"
   ]
  },
  {
   "cell_type": "code",
   "execution_count": 83,
   "metadata": {},
   "outputs": [
    {
     "name": "stdout",
     "output_type": "stream",
     "text": [
      "              precision    recall  f1-score   support\n",
      "\n",
      "           0       0.98      0.92      0.95      1362\n",
      "           1       0.51      0.81      0.63       138\n",
      "\n",
      "   micro avg       0.91      0.91      0.91      1500\n",
      "   macro avg       0.75      0.87      0.79      1500\n",
      "weighted avg       0.94      0.91      0.92      1500\n",
      "\n"
     ]
    }
   ],
   "source": [
    "print(classification_report(ytest,y_pred))"
   ]
  },
  {
   "cell_type": "code",
   "execution_count": 84,
   "metadata": {},
   "outputs": [],
   "source": [
    "from sklearn.neighbors import KNeighborsClassifier\n",
    "from sklearn.naive_bayes import GaussianNB"
   ]
  },
  {
   "cell_type": "markdown",
   "metadata": {},
   "source": [
    "#  6. Print the confusion matrix for all the above models (5 points)"
   ]
  },
  {
   "cell_type": "code",
   "execution_count": 85,
   "metadata": {},
   "outputs": [
    {
     "name": "stdout",
     "output_type": "stream",
     "text": [
      "KNeighborsClassifier(algorithm='auto', leaf_size=30, metric='minkowski',\n",
      "           metric_params=None, n_jobs=None, n_neighbors=5, p=2,\n",
      "           weights='uniform')\n",
      "\n",
      "\n",
      "0.9506666666666667\n",
      "[[1311   51]\n",
      " [  23  115]]\n",
      "              precision    recall  f1-score   support\n",
      "\n",
      "           0       0.98      0.96      0.97      1362\n",
      "           1       0.69      0.83      0.76       138\n",
      "\n",
      "   micro avg       0.95      0.95      0.95      1500\n",
      "   macro avg       0.84      0.90      0.86      1500\n",
      "weighted avg       0.96      0.95      0.95      1500\n",
      "\n",
      "Kappa score is 0.7293897372886314\n",
      "\n",
      " \n",
      "\n",
      "LogisticRegression(C=1.0, class_weight=None, dual=False, fit_intercept=True,\n",
      "          intercept_scaling=1, max_iter=100, multi_class='warn',\n",
      "          n_jobs=None, penalty='l2', random_state=None, solver='warn',\n",
      "          tol=0.0001, verbose=0, warm_start=False)\n",
      "\n",
      "\n",
      "0.912\n",
      "[[1256  106]\n",
      " [  26  112]]\n",
      "              precision    recall  f1-score   support\n",
      "\n",
      "           0       0.98      0.92      0.95      1362\n",
      "           1       0.51      0.81      0.63       138\n",
      "\n",
      "   micro avg       0.91      0.91      0.91      1500\n",
      "   macro avg       0.75      0.87      0.79      1500\n",
      "weighted avg       0.94      0.91      0.92      1500\n",
      "\n",
      "Kappa score is 0.5821303753228992\n",
      "\n",
      " \n",
      "\n",
      "GaussianNB(priors=None, var_smoothing=1e-09)\n",
      "\n",
      "\n",
      "0.8866666666666667\n",
      "[[1232  130]\n",
      " [  40   98]]\n",
      "              precision    recall  f1-score   support\n",
      "\n",
      "           0       0.97      0.90      0.94      1362\n",
      "           1       0.43      0.71      0.54       138\n",
      "\n",
      "   micro avg       0.89      0.89      0.89      1500\n",
      "   macro avg       0.70      0.81      0.74      1500\n",
      "weighted avg       0.92      0.89      0.90      1500\n",
      "\n",
      "Kappa score is 0.4753863625141954\n",
      "\n",
      " \n",
      "\n"
     ]
    },
    {
     "name": "stderr",
     "output_type": "stream",
     "text": [
      "C:\\Users\\Ashok\\Anaconda3\\lib\\site-packages\\sklearn\\linear_model\\logistic.py:433: FutureWarning: Default solver will be changed to 'lbfgs' in 0.22. Specify a solver to silence this warning.\n",
      "  FutureWarning)\n"
     ]
    }
   ],
   "source": [
    "knn1=KNeighborsClassifier()\n",
    "lr1=LogisticRegression()\n",
    "nb1=GaussianNB()\n",
    "models = [knn1,lr1,nb1]\n",
    "for mod in models : \n",
    "    print(mod)\n",
    "    print(\"\\n\")\n",
    "    mod.fit(x_train,y_train)\n",
    "    y_pred = mod.predict(xtest)\n",
    "    print(accuracy_score(ytest,y_pred))\n",
    "    conf_matrix1 = confusion_matrix(ytest, y_pred)\n",
    "    print(conf_matrix1)\n",
    "    print(classification_report(ytest, y_pred))\n",
    "    print('Kappa score is',cohen_kappa_score(ytest,y_pred))\n",
    "    print(\"\\n \\n\")\n",
    "    #print(y_pred)\n",
    "    \n",
    " "
   ]
  },
  {
   "cell_type": "markdown",
   "metadata": {},
   "source": [
    "# 7. Give your reasoning on which is the best model in this case and why it performs better? (5 points)"
   ]
  },
  {
   "cell_type": "code",
   "execution_count": null,
   "metadata": {},
   "outputs": [],
   "source": [
    "The best model is KNN, because it has better recall score, and kappa score compared to others."
   ]
  }
 ],
 "metadata": {
  "kernelspec": {
   "display_name": "Python 3",
   "language": "python",
   "name": "python3"
  },
  "language_info": {
   "codemirror_mode": {
    "name": "ipython",
    "version": 3
   },
   "file_extension": ".py",
   "mimetype": "text/x-python",
   "name": "python",
   "nbconvert_exporter": "python",
   "pygments_lexer": "ipython3",
   "version": "3.7.1"
  }
 },
 "nbformat": 4,
 "nbformat_minor": 2
}
