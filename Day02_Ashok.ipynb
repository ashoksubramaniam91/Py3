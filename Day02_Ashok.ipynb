{
 "cells": [
  {
   "cell_type": "markdown",
   "metadata": {},
   "source": [
    "## Looping in Python\n",
    "\n",
    "### The For loop"
   ]
  },
  {
   "cell_type": "code",
   "execution_count": 46,
   "metadata": {
    "scrolled": true
   },
   "outputs": [
    {
     "name": "stdout",
     "output_type": "stream",
     "text": [
      "Hi Joe.  Please come to my party on Saturday!\n",
      "Hi Zoe.  Please come to my party on Saturday!\n",
      "Hi Brad.  Please come to my party on Saturday!\n",
      "Hi Angelina.  Please come to my party on Saturday!\n",
      "Hi Zuki.  Please come to my party on Saturday!\n",
      "Hi Thandi.  Please come to my party on Saturday!\n",
      "Hi Paris.  Please come to my party on Saturday!\n"
     ]
    }
   ],
   "source": [
    "for name in [\"Joe\",\"Zoe\",\"Brad\",\"Angelina\",\"Zuki\",\"Thandi\",\"Paris\"]:\n",
    "    invite = \"Hi \" + name + \".  Please come to my party on Saturday!\"\n",
    "    print(invite)"
   ]
  },
  {
   "cell_type": "markdown",
   "metadata": {},
   "source": [
    "visualise loops through http://www.pythontutor.com/visualize.html#mode=display"
   ]
  },
  {
   "cell_type": "code",
   "execution_count": 2,
   "metadata": {},
   "outputs": [
    {
     "name": "stdout",
     "output_type": "stream",
     "text": [
      "23\n",
      "1\n",
      "0\n",
      "12\n",
      "45\n",
      "-1\n",
      "46\n"
     ]
    }
   ],
   "source": [
    "l2=[23,1,0,12,45,-1,46]\n",
    "\n",
    "for x in l2 :\n",
    "    print(x)"
   ]
  },
  {
   "cell_type": "code",
   "execution_count": 3,
   "metadata": {},
   "outputs": [
    {
     "name": "stdout",
     "output_type": "stream",
     "text": [
      "hello world\n",
      "hello world\n",
      "hello world\n",
      "hello world\n",
      "hello world\n",
      "hello world\n",
      "hello world\n"
     ]
    }
   ],
   "source": [
    "for x in l2:\n",
    "    print(\"hello world\")"
   ]
  },
  {
   "cell_type": "code",
   "execution_count": 108,
   "metadata": {},
   "outputs": [
    {
     "name": "stdout",
     "output_type": "stream",
     "text": [
      "100  is even number\n"
     ]
    }
   ],
   "source": [
    "# The following code snippet is to check if a number is divisible by 2.\n",
    "a = 100 # try different values for a\n",
    "if(a % 2 == 0) :   # checks if the remainder is zero when divided by 2 \n",
    "    print(a,\" is even number\")\n",
    "else :\n",
    "    print(a,\" is odd number\") "
   ]
  },
  {
   "cell_type": "markdown",
   "metadata": {},
   "source": [
    "**Q1.(In class lab exercise)** Write a modified version of the code given above so that a message is printed only if the number is even."
   ]
  },
  {
   "cell_type": "code",
   "execution_count": 49,
   "metadata": {},
   "outputs": [
    {
     "name": "stdout",
     "output_type": "stream",
     "text": [
      "100 is a even number\n"
     ]
    }
   ],
   "source": [
    "a=100\n",
    "if(a%2==0):\n",
    "    print(a,\"is a even number\")"
   ]
  },
  {
   "cell_type": "markdown",
   "metadata": {},
   "source": [
    "**Q2. (In class lab exercise)** Modify the *if* condition in the code given using the '!=' operator and print if a number is odd."
   ]
  },
  {
   "cell_type": "code",
   "execution_count": 50,
   "metadata": {},
   "outputs": [
    {
     "name": "stdout",
     "output_type": "stream",
     "text": [
      "99 is a odd number\n"
     ]
    }
   ],
   "source": [
    "a=99\n",
    "if(a%2!=0):\n",
    "    print(a,\"is a odd number\")"
   ]
  },
  {
   "cell_type": "markdown",
   "metadata": {},
   "source": [
    "### Breaking out of a loop\n",
    "The break statement can be used to halt and exit a loop"
   ]
  },
  {
   "cell_type": "code",
   "execution_count": 109,
   "metadata": {},
   "outputs": [
    {
     "name": "stdout",
     "output_type": "stream",
     "text": [
      "Hello world\n",
      "Hello world\n",
      "I have exited the loop\n"
     ]
    }
   ],
   "source": [
    "count = 0 \n",
    "myl = [1,2,3,4,5,6,7,8]\n",
    "for x in myl: \n",
    "    print(\"Hello world\")\n",
    "    count=count+1\n",
    "    if(count==2):\n",
    "        break #Break statement will exit the loop block even though the loop can run 8 times\n",
    "print(\"I have exited the loop\")"
   ]
  },
  {
   "cell_type": "markdown",
   "metadata": {},
   "source": [
    "**Q3.(In class lab exercise)** Modify the above program to print the first 2 even numbers from the list ."
   ]
  },
  {
   "cell_type": "code",
   "execution_count": 3,
   "metadata": {},
   "outputs": [
    {
     "name": "stdout",
     "output_type": "stream",
     "text": [
      "2\n",
      "4\n"
     ]
    }
   ],
   "source": [
    "count = 0 \n",
    "myl = [1,2,3,4,5,6,7,8]\n",
    "for x in myl: \n",
    "    count=count+1\n",
    "    if(count%2==0):\n",
    "        print(count)\n",
    "        if(count>2):\n",
    "            break"
   ]
  },
  {
   "cell_type": "markdown",
   "metadata": {},
   "source": [
    "**Q4.(In class lab exercise)** Pick the first 2 even numbers and last 2 odd numbers from the list \"myl\" and store the numbers in a new list and display the new list contents seperately to the user (Hint: Use append() function to add elements to a list) "
   ]
  },
  {
   "cell_type": "code",
   "execution_count": 91,
   "metadata": {},
   "outputs": [
    {
     "name": "stdout",
     "output_type": "stream",
     "text": [
      "[2, 4, 5, 7]\n"
     ]
    }
   ],
   "source": [
    "list1=[]\n",
    "list2=[]\n",
    "myl=[1,2,3,4,5,6,7,8]\n",
    "for x in myl:\n",
    "    if x%2==0:\n",
    "        list1.append(x)\n",
    "    elif x%2!=0:\n",
    "        list2.append(x)\n",
    "list=list1[:2]+list2[-2:]\n",
    "print(list)\n"
   ]
  },
  {
   "cell_type": "markdown",
   "metadata": {},
   "source": [
    "**Q5.(In class lab exercise)** Print the last 2 odd numbers from the list myl (Note: Do not reverse the list or use a new list)"
   ]
  },
  {
   "cell_type": "code",
   "execution_count": 107,
   "metadata": {},
   "outputs": [
    {
     "name": "stdout",
     "output_type": "stream",
     "text": [
      "[5, 7]\n"
     ]
    }
   ],
   "source": [
    "list1=[]\n",
    "myl=[1,2,3,4,5,6,7,8,9]\n",
    "for x in myl:\n",
    "    if x%2!=0:\n",
    "        list1.append(x)\n",
    "print(list[-2:])"
   ]
  },
  {
   "cell_type": "markdown",
   "metadata": {},
   "source": [
    "### The while loop"
   ]
  },
  {
   "cell_type": "code",
   "execution_count": 6,
   "metadata": {
    "scrolled": true
   },
   "outputs": [
    {
     "name": "stdout",
     "output_type": "stream",
     "text": [
      "hello world\n",
      "hello world\n",
      "hello world\n",
      "hello world\n",
      "hello world\n"
     ]
    }
   ],
   "source": [
    "# Print \"Hello world\" 10 times \n",
    "count = 1\n",
    "while(count <=10) :\n",
    "    print(\"hello world\")\n",
    "    count = count + 1 \n",
    "    if(count==6):\n",
    "        break"
   ]
  },
  {
   "cell_type": "markdown",
   "metadata": {},
   "source": [
    "**Q6.(In class lab exercise)** What is the significance of incrementing the count variable? What will happen if you ignore this step?"
   ]
  },
  {
   "cell_type": "code",
   "execution_count": null,
   "metadata": {},
   "outputs": [],
   "source": [
    "it will keep printing hello world infinitely"
   ]
  },
  {
   "cell_type": "markdown",
   "metadata": {},
   "source": [
    "**Q7.(In class lab exercise)** Modify the above program to print hello world only 5 times , without changing the while(count<= 10)"
   ]
  },
  {
   "cell_type": "code",
   "execution_count": 1,
   "metadata": {},
   "outputs": [
    {
     "name": "stdout",
     "output_type": "stream",
     "text": [
      "hello world\n",
      "hello world\n",
      "hello world\n",
      "hello world\n",
      "hello world\n"
     ]
    }
   ],
   "source": [
    "count = 1\n",
    "while(count <=10) :\n",
    "    print(\"hello world\")\n",
    "    count = count + 1 \n",
    "    if count>5:\n",
    "        break"
   ]
  },
  {
   "cell_type": "markdown",
   "metadata": {},
   "source": [
    "**Q8.(In class lab exercise)** Write a program to print the first 10 odd numbers "
   ]
  },
  {
   "cell_type": "code",
   "execution_count": 33,
   "metadata": {},
   "outputs": [
    {
     "name": "stdout",
     "output_type": "stream",
     "text": [
      "[1, 3, 5, 7, 9, 11, 13, 15, 17, 19]\n"
     ]
    }
   ],
   "source": [
    "a1=list(range(1,30,1))\n",
    "a2=[]\n",
    "for x in a1:\n",
    "    if x%2!=0:\n",
    "        a2.append(x)\n",
    "        if len(a2)>=10:\n",
    "            break\n",
    "print(a2)"
   ]
  },
  {
   "cell_type": "markdown",
   "metadata": {},
   "source": [
    "**Q9.(In class lab exercise)** Write a a program to find the sum of first 50 natural numbers starting from 1"
   ]
  },
  {
   "cell_type": "code",
   "execution_count": 42,
   "metadata": {},
   "outputs": [
    {
     "name": "stdout",
     "output_type": "stream",
     "text": [
      "1275\n"
     ]
    }
   ],
   "source": [
    "sum2=0\n",
    "al=list(range(1,51))\n",
    "for i in al:\n",
    "    sum2+=i\n",
    "print(sum2)"
   ]
  },
  {
   "cell_type": "markdown",
   "metadata": {},
   "source": [
    "**Q10.** (In class lab exercise) Write a program to to find the sum of all the numbers between 555 and 1111 which are divisible by 7"
   ]
  },
  {
   "cell_type": "code",
   "execution_count": 210,
   "metadata": {
    "scrolled": true
   },
   "outputs": [
    {
     "name": "stdout",
     "output_type": "stream",
     "text": [
      "65807\n"
     ]
    }
   ],
   "source": [
    "count=555\n",
    "sum=0\n",
    "d=list(range(555,1111))\n",
    "for x in d:\n",
    "    count+=1\n",
    "    if(count%7==0):\n",
    "        sum+=count\n",
    "print(sum)"
   ]
  },
  {
   "cell_type": "markdown",
   "metadata": {},
   "source": [
    "**Q11.(In class lab exercise)** Write a program to count the number of numbers between 555 and 1111 which are divisible by 7"
   ]
  },
  {
   "cell_type": "code",
   "execution_count": 45,
   "metadata": {},
   "outputs": [
    {
     "name": "stdout",
     "output_type": "stream",
     "text": [
      "79\n"
     ]
    }
   ],
   "source": [
    "count=0\n",
    "d=list(range(555,1111))\n",
    "for x in d:\n",
    "    if(x%7==0):\n",
    "        count=count+1\n",
    "print(count)"
   ]
  },
  {
   "cell_type": "markdown",
   "metadata": {},
   "source": [
    "**Q12.(TAKE HOME EXERCISE)** Write a program to compute the sum of squares of first 10 natural numbers"
   ]
  },
  {
   "cell_type": "code",
   "execution_count": 211,
   "metadata": {},
   "outputs": [
    {
     "name": "stdout",
     "output_type": "stream",
     "text": [
      "[1, 4, 9, 16, 25, 36, 49, 64, 81, 100]\n",
      "385\n"
     ]
    }
   ],
   "source": [
    "sum1=0\n",
    "a=list(range(1,11))\n",
    "s=[i*i for i in a]\n",
    "print(s)\n",
    "for k in s:\n",
    "    sum1+=k\n",
    "print(sum1)"
   ]
  },
  {
   "cell_type": "markdown",
   "metadata": {},
   "source": [
    "**Q13 (TAKE HOME EXERCISE)** Write a program to print the sum of squares of all the even numbers between 334 and 667"
   ]
  },
  {
   "cell_type": "code",
   "execution_count": 214,
   "metadata": {},
   "outputs": [
    {
     "name": "stdout",
     "output_type": "stream",
     "text": [
      "43302432\n"
     ]
    }
   ],
   "source": [
    "sum=0\n",
    "a=list(range(334,667,2))\n",
    "sq=[i*i for i in a]\n",
    "for j in sq:\n",
    "    sum+=j\n",
    "print(sum)"
   ]
  }
 ],
 "metadata": {
  "kernelspec": {
   "display_name": "Python 3",
   "language": "python",
   "name": "python3"
  },
  "language_info": {
   "codemirror_mode": {
    "name": "ipython",
    "version": 3
   },
   "file_extension": ".py",
   "mimetype": "text/x-python",
   "name": "python",
   "nbconvert_exporter": "python",
   "pygments_lexer": "ipython3",
   "version": "3.7.1"
  }
 },
 "nbformat": 4,
 "nbformat_minor": 2
}
