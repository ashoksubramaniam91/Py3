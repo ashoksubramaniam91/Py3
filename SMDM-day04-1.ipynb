{
 "cells": [
  {
   "cell_type": "code",
   "execution_count": 2,
   "metadata": {},
   "outputs": [],
   "source": [
    "import numpy             as np\n",
    "import pandas            as pd\n",
    "import scipy.stats       as stats\n",
    "import matplotlib.pyplot as plt"
   ]
  },
  {
   "cell_type": "code",
   "execution_count": 4,
   "metadata": {},
   "outputs": [],
   "source": [
    "#practice example 6-day 2 stats"
   ]
  },
  {
   "cell_type": "code",
   "execution_count": 6,
   "metadata": {},
   "outputs": [
    {
     "name": "stdout",
     "output_type": "stream",
     "text": [
      "-4.419417382415922\n",
      "4.948367312573865e-06\n",
      "13.556502626839798\n",
      "14.443497373160202\n",
      "using interval function\n",
      "13.556510776208103\n",
      "14.443489223791897\n"
     ]
    }
   ],
   "source": [
    "mu=15\n",
    "sigma=1.6\n",
    "Xbar=14\n",
    "n=50\n",
    "se=sigma/np.sqrt(n)\n",
    "\n",
    "\n",
    "z1=(Xbar-mu)/se\n",
    "print(z1)\n",
    "p=1-stats.norm.cdf(-z1)\n",
    "print(p)\n",
    "lci=Xbar-(1.96*se)\n",
    "uci=Xbar+(1.96*se)\n",
    "print(lci)\n",
    "print(uci)\n",
    "\n",
    "#instaed of lci & uci use stats.norm.interval\n",
    "LCI,UCI=stats.norm.interval(0.95,loc=Xbar,scale=se)\n",
    "print(\"using interval function\")\n",
    "print(LCI)\n",
    "print(UCI)"
   ]
  },
  {
   "cell_type": "code",
   "execution_count": 24,
   "metadata": {},
   "outputs": [
    {
     "name": "stdout",
     "output_type": "stream",
     "text": [
      "7.2700000000000005\n",
      "0.6931810730249348\n",
      "6.129818597900822\n",
      "8.410181402099179\n"
     ]
    }
   ],
   "source": [
    "#practice example 7 take home \n",
    "import numpy as np\n",
    "H           = [ 4.7, 9.2, 9.3, 11.2, 8, 7.6, 7.4, 4.9, 9.2, 5.3, 1.7, 2.8, 7.2, 12.3, 8.6, 10.6, 9, 5.7, 6.9, 3.8]\n",
    "HoursSpent  = np.array(H)\n",
    "xbar=np.mean(HoursSpent)\n",
    "print(xbar)\n",
    "n=20\n",
    "sigma=3.1\n",
    "se=sigma/np.sqrt(n)\n",
    "print(se)\n",
    "lci,uci=stats.norm.interval(0.90,loc=xbar,scale=se)\n",
    "print(lci)\n",
    "print(uci)"
   ]
  },
  {
   "cell_type": "code",
   "execution_count": 43,
   "metadata": {},
   "outputs": [
    {
     "name": "stdout",
     "output_type": "stream",
     "text": [
      "4.264804321855194\n",
      "4.735195678144806\n",
      "0.027640146293010148\n"
     ]
    }
   ],
   "source": [
    "#example 2\n",
    "#a)\n",
    "n=100\n",
    "mu=4.5\n",
    "sigma=1.2\n",
    "se=sigma/np.sqrt(n)\n",
    "lci,uci=stats.norm.interval(0.95,loc=mu,scale=se)\n",
    "print(lci)\n",
    "print(uci)\n",
    "\n",
    "#b)\n",
    "z=(4.73-4.5)/se\n",
    "p=1-stats.norm.cdf(z)\n",
    "print(p)\n",
    "\n",
    "\n"
   ]
  },
  {
   "cell_type": "code",
   "execution_count": 49,
   "metadata": {},
   "outputs": [
    {
     "name": "stdout",
     "output_type": "stream",
     "text": [
      "181.93802049676955\n",
      "182.06197950323045\n"
     ]
    }
   ],
   "source": [
    "#day2-take home 2\n",
    "mu=182.09\n",
    "sigma=0.20\n",
    "xbar=182\n",
    "n=40\n",
    "se=sigma/np.sqrt(n)\n",
    "lci,uci=stats.norm.interval(0.95,loc=xbar,scale=se)\n",
    "print(lci)\n",
    "print(uci)\n",
    "\n",
    "\n"
   ]
  },
  {
   "cell_type": "code",
   "execution_count": 87,
   "metadata": {},
   "outputs": [
    {
     "name": "stdout",
     "output_type": "stream",
     "text": [
      "0.015\n",
      "1.9968422885269508\n",
      "2.005157711473049\n",
      "0.3186759441169871\n",
      "0.6373518882339742\n"
     ]
    }
   ],
   "source": [
    "#example 8\n",
    "#2 tail test prob\n",
    "mu=2\n",
    "xbar=2.001\n",
    "n=50\n",
    "sigma=15/1000\n",
    "print(sigma)\n",
    "se=sigma/np.sqrt(n)\n",
    "lci,uci=stats.norm.interval(0.95,loc=xbar,scale=se)\n",
    "print(lci)\n",
    "print(uci)\n",
    "#equal to 2\n",
    "\n",
    "#p-value\n",
    "z=(xbar-mu)/se\n",
    "p=1-stats.norm.cdf(z)\n",
    "print(p)\n",
    "pvalue=p*2\n",
    "print(pvalue)\n",
    "#failed to reject null coz p vale is high than alpha"
   ]
  },
  {
   "cell_type": "code",
   "execution_count": 9,
   "metadata": {},
   "outputs": [
    {
     "name": "stdout",
     "output_type": "stream",
     "text": [
      "29.683202881236795\n",
      "29.996797118763205\n",
      "-2.0000000000000018\n",
      "p value is  1.9544997361036418\n"
     ]
    }
   ],
   "source": [
    "#day2 tailed example -exp 8\n",
    "n=100\n",
    "sigma=0.8\n",
    "mu=30\n",
    "xbar=29.84\n",
    "se=sigma/np.sqrt(n)\n",
    "lci,uci=stats.norm.interval(0.95,loc=xbar,scale=se)\n",
    "print(lci)\n",
    "print(uci)\n",
    "#reject h0\n",
    "###########\n",
    "z=(xbar-mu)/se\n",
    "print(z)\n",
    "p=stats.norm.cdf(-z)\n",
    "#print(p)\n",
    "pvalue=p*2\n",
    "print('p value is ',pvalue)\n"
   ]
  },
  {
   "cell_type": "code",
   "execution_count": 8,
   "metadata": {},
   "outputs": [
    {
     "name": "stdout",
     "output_type": "stream",
     "text": [
      "-4.419417382415922\n",
      "p value is  4.948367312573865e-06\n"
     ]
    }
   ],
   "source": [
    "import numpy as np\n",
    "import  scipy.stats as stats\n",
    "n=50\n",
    "sigma=1.6\n",
    "mu=15\n",
    "xbar=14\n",
    "se=sigma/np.sqrt(n)\n",
    "z=(xbar-mu)/se\n",
    "print(z)\n",
    "p=1-stats.norm.cdf(-z)\n",
    "print('p value is ',p)"
   ]
  },
  {
   "cell_type": "code",
   "execution_count": 114,
   "metadata": {},
   "outputs": [
    {
     "name": "stdout",
     "output_type": "stream",
     "text": [
      "112.06005402318992\n",
      "117.93994597681008\n",
      "10.0\n",
      "1.0\n"
     ]
    }
   ],
   "source": [
    "#day 3\n",
    "xbar=115\n",
    "x=100\n",
    "sigma=15\n",
    "n=100\n",
    "se=sigma/np.sqrt(n)\n",
    "l,u=stats.norm.interval(0.95,loc=xbar,scale=se)\n",
    "print(l)\n",
    "print(u)\n",
    "\n",
    "\n",
    "z=(xbar-x)/se\n",
    "print(z)\n",
    "p=stats.norm.cdf(z)\n",
    "print(p)\n",
    "#reject h0"
   ]
  },
  {
   "cell_type": "code",
   "execution_count": 3,
   "metadata": {},
   "outputs": [
    {
     "name": "stdout",
     "output_type": "stream",
     "text": [
      "-2.4\n"
     ]
    }
   ],
   "source": [
    "import numpy as np\n",
    "u=71\n",
    "sigma=7.5\n",
    "Xbar=68\n",
    "n=36\n",
    "se=sigma/np.sqrt(n)\n",
    "\n",
    "\n",
    "z1=(Xbar-mu)/se\n",
    "print(z1)"
   ]
  }
 ],
 "metadata": {
  "kernelspec": {
   "display_name": "Python 3",
   "language": "python",
   "name": "python3"
  },
  "language_info": {
   "codemirror_mode": {
    "name": "ipython",
    "version": 3
   },
   "file_extension": ".py",
   "mimetype": "text/x-python",
   "name": "python",
   "nbconvert_exporter": "python",
   "pygments_lexer": "ipython3",
   "version": "3.7.1"
  }
 },
 "nbformat": 4,
 "nbformat_minor": 2
}
